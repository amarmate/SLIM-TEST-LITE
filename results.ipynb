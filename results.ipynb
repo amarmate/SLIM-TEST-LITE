{
 "cells": [
  {
   "cell_type": "code",
   "execution_count": 1,
   "metadata": {},
   "outputs": [
    {
     "data": {
      "text/plain": [
       "{'resid_build_sale_price': (372, 107),\n",
       " 'istanbul': (536, 7),\n",
       " 'airfoil': (1503, 5),\n",
       " 'bike_sharing': (731, 13),\n",
       " 'boston': (506, 13),\n",
       " 'breast_cancer': (569, 30),\n",
       " 'concrete_slump': (103, 7),\n",
       " 'concrete_strength': (1005, 8),\n",
       " 'diabetes': (442, 10),\n",
       " 'efficiency_heating': (768, 8),\n",
       " 'efficiency_cooling': (768, 8),\n",
       " 'forest_fires': (513, 43),\n",
       " 'ld50': (234, 626),\n",
       " 'ppb': (131, 626),\n",
       " 'bioav': (358, 241)}"
      ]
     },
     "execution_count": 1,
     "metadata": {},
     "output_type": "execute_result"
    }
   ],
   "source": [
    "import numpy as np \n",
    "import pandas as pd \n",
    "import matplotlib.pyplot as plt\n",
    "import seaborn as sns\n",
    "import pickle \n",
    "import os \n",
    "from scipy.stats import wilcoxon, ttest_rel\n",
    "from tabulate import tabulate\n",
    "from functions.test_algorithms import test_slim\n",
    "from slim_gsgp_lib.utils.utils import train_test_split\n",
    "from slim_gsgp_lib.datasets.data_loader import *\n",
    "datasets = [globals()[i] for i in globals() if 'load' in i][2:]\n",
    "datasets = datasets[:12] + datasets[13:]  # EXCLUDE PARKINSONS\n",
    "\n",
    "dataset_dict = {}\n",
    "df_datasets = {}\n",
    "for i, dataset in enumerate(datasets):\n",
    "    X,y = dataset()\n",
    "    name = dataset.__name__.split('load_')[1]\n",
    "    # id should be a two digit number\n",
    "    id = 'DA' + str(i).zfill(2)\n",
    "    dataset_dict[name] = id \n",
    "    df_datasets[name] = X.shape[0], X.shape[1]\n",
    "\n",
    "df_datasets"
   ]
  },
  {
   "cell_type": "code",
   "execution_count": null,
   "metadata": {},
   "outputs": [],
   "source": [
    "# Aggregate the dictionary of params and results, as they were saved in separate files\n",
    "params_dict = {}\n",
    "results_dict = {}\n",
    "\n",
    "for dataset in datasets:\n",
    "    try:\n",
    "        dataset_name = dataset.__name__.split('load_')[1]\n",
    "        dataset_id = dataset_dict[dataset_name]\n",
    "\n",
    "        # The file will have this pattern: algorithm_scxo.pkl. \n",
    "        # We need to ensure only that for some settings (ex.: scxo) all the algorithms are present\n",
    "        avalaible_settings = []\n",
    "        for file in os.listdir(f'results/slim/{dataset_id}'):\n",
    "            # Get the different settings available \n",
    "            if len(file.split('_')) < 3:\n",
    "                continue\n",
    "            settings = file.split('_')[2].split('.')[0]\n",
    "            if settings not in avalaible_settings:\n",
    "                avalaible_settings.append(settings)\n",
    "        \n",
    "        for settings in avalaible_settings:\n",
    "            dict_params = {}\n",
    "            dict_results = {}\n",
    "            for suffix in ['MUL_ABS', 'MUL_SIG1', 'MUL_SIG2', 'SUM_ABS', 'SUM_SIG1', 'SUM_SIG2']:\n",
    "                try:\n",
    "                    # Parameters\n",
    "                    with open(f'params/{dataset_id}/{suffix}_{settings}.pkl', 'rb') as f:\n",
    "                        params = pickle.load(f)\n",
    "                    params = {suffix : params}\n",
    "                    dict_params.update(params)\n",
    "                    os.remove(f'params/{dataset_id}/{suffix}_{settings}.pkl')\n",
    "                except Exception as e:\n",
    "                    print(f\"Error in parameters {dataset_id} - {settings}: {e}\")\n",
    "\n",
    "                try:\n",
    "                    # Results\n",
    "                    with open(f'results/slim/{dataset_id}/{suffix}_{settings}.pkl', 'rb') as f:\n",
    "                        results = pickle.load(f)\n",
    "                    for k, v in results.items():\n",
    "                        if k not in dict_results:\n",
    "                            dict_results[k] = {}\n",
    "                        v = {suffix : v}\n",
    "                        dict_results[k].update(v)\n",
    "                    os.remove(f'results/slim/{dataset_id}/{suffix}_{settings}.pkl')\n",
    "\n",
    "                except Exception as e:\n",
    "                    print(f\"Error in results {dataset_id} - {settings}: {e}\")\n",
    "                    continue\n",
    "            \n",
    "            # Dump the results\n",
    "            pickle.dump(dict_params, open(f'params/{dataset_id}/{settings}_6.pkl', 'wb'))\n",
    "            pickle.dump(dict_results, open(f'results/slim/{dataset_id}/{settings}_6.pkl', 'wb')) \n",
    "\n",
    "    except Exception as e:\n",
    "        print(f\"Error in processing dataset: {e}\")\n",
    "        continue       "
   ]
  },
  {
   "cell_type": "code",
   "execution_count": 33,
   "metadata": {},
   "outputs": [],
   "source": [
    "def get_significance(p_value, ratio):\n",
    "    if p_value >= 0.05:\n",
    "        return 'NSD'\n",
    "    elif ratio > 1:\n",
    "        return '-' * (1 + int(p_value < 0.01) + int(p_value < 0.001))\n",
    "    else:\n",
    "        return '+' * (1 + int(p_value < 0.01) + int(p_value < 0.001))\n",
    "\n",
    "def means_df(prefixes=['sc', 'scsm'],\n",
    "             datasets=None,\n",
    "             best=False,\n",
    "             rmse_compare=True,\n",
    "             decimals=3,\n",
    "             table=False):\n",
    "    \n",
    "    if datasets is None:\n",
    "        datasets = dataset_dict.keys()\n",
    "    \n",
    "    rows_rmse, rows_rmse_std, rows_size, rows_size_std = [], [], [], []\n",
    "    rmse_sig_test, size_sig_test = {}, {}\n",
    "\n",
    "    for dataset in datasets:\n",
    "        if dataset not in rmse_sig_test:\n",
    "            rmse_sig_test[dataset] = {}\n",
    "            size_sig_test[dataset] = {}\n",
    "\n",
    "        for prefix in prefixes: \n",
    "            if prefix not in rmse_sig_test[dataset]:\n",
    "                rmse_sig_test[dataset][prefix] = {}\n",
    "                size_sig_test[dataset][prefix] = {}\n",
    "                \n",
    "            with open(f'results/slim/{dataset_dict[dataset]}/{prefix}.pkl', 'rb') as f:\n",
    "                results = pickle.load(f)\n",
    "                rmse = results['rmse_compare'] if rmse_compare else results['rmse']\n",
    "                size = results['size']\n",
    "\n",
    "            for algo, values in rmse.items():\n",
    "\n",
    "                rows_rmse.append({'Dataset': dataset, 'Algorithm': algo, f'rmse_{prefix}': np.mean(values)})\n",
    "                rows_size.append({'Dataset': dataset, 'Algorithm': algo, f'size_{prefix}': np.mean(size[algo])})\n",
    "                rows_rmse_std.append({'Dataset': dataset, 'Algorithm': algo, f'rmse_std_{prefix}': np.std(values)})\n",
    "                rows_size_std.append({'Dataset': dataset, 'Algorithm': algo, f'size_std_{prefix}': np.std(size[algo])})\n",
    "                rmse_sig_test[dataset][prefix][algo] = np.array(values)\n",
    "                size_sig_test[dataset][prefix][algo] = np.array(size[algo])\n",
    "                \n",
    "    df_rmse = pd.DataFrame(rows_rmse)\n",
    "    df_size = pd.DataFrame(rows_size)\n",
    "    df_rmse_std = pd.DataFrame(rows_rmse_std)\n",
    "    df_size_std = pd.DataFrame(rows_size_std)\n",
    "\n",
    "    # Pivot tables and explicitly reorder columns based on the given prefixes\n",
    "    df_rmse = df_rmse.pivot_table(index=['Dataset', 'Algorithm'], values=[f'rmse_{p}' for p in prefixes], \n",
    "                                aggfunc='first').reset_index()\n",
    "    df_size = df_size.pivot_table(index=['Dataset', 'Algorithm'], values=[f'size_{p}' for p in prefixes], \n",
    "                                aggfunc='first').reset_index()\n",
    "    df_rmse_std = df_rmse_std.pivot_table(index=['Dataset', 'Algorithm'], values=[f'rmse_std_{p}' for p in prefixes],\n",
    "                                        aggfunc='first').reset_index()\n",
    "    df_size_std = df_size_std.pivot_table(index=['Dataset', 'Algorithm'], values=[f'size_std_{p}' for p in prefixes],\n",
    "                                        aggfunc='first').reset_index()\n",
    "    \n",
    "    # Explicitly reorder columns based on the prefixes\n",
    "    df_rmse = df_rmse[['Dataset', 'Algorithm'] + [f'rmse_{p}' for p in prefixes]]\n",
    "    df_size = df_size[['Dataset', 'Algorithm'] + [f'size_{p}' for p in prefixes]]\n",
    "    df_rmse_std = df_rmse_std[['Dataset', 'Algorithm'] + [f'rmse_std_{p}' for p in prefixes]]\n",
    "    df_size_std = df_size_std[['Dataset', 'Algorithm'] + [f'size_std_{p}' for p in prefixes]]\n",
    "    df_rmse['ratio_rmse'] = df_rmse[f'rmse_{prefixes[0]}'] / df_rmse[f'rmse_{prefixes[1]}']\n",
    "    df_size['ratio_size'] = df_size[f'size_{prefixes[0]}'] / df_size[f'size_{prefixes[1]}']\n",
    "\n",
    "    \n",
    "    # Calculate the statistcial significance\n",
    "    for dataset in rmse_sig_test.keys():\n",
    "        for algo in rmse_sig_test[dataset][prefixes[0]].keys():\n",
    "            for prefix in prefixes:\n",
    "                if prefix == prefixes[0]:\n",
    "                    continue\n",
    "                if len(rmse_sig_test[dataset][prefix][algo]) != len(rmse_sig_test[dataset][prefixes[0]][algo]):\n",
    "                    min_len = min(len(rmse_sig_test[dataset][prefix][algo]), len(rmse_sig_test[dataset][prefixes[0]][algo]))\n",
    "                    rmse_sig_test[dataset][prefix][algo] = rmse_sig_test[dataset][prefix][algo][:min_len]\n",
    "                    rmse_sig_test[dataset][prefixes[0]][algo] = rmse_sig_test[dataset][prefixes[0]][algo][:min_len]\n",
    "                    size_sig_test[dataset][prefix][algo] = size_sig_test[dataset][prefix][algo][:min_len]\n",
    "                    size_sig_test[dataset][prefixes[0]][algo] = size_sig_test[dataset][prefixes[0]][algo][:min_len]\n",
    "\n",
    "                _, p_value_rmse = wilcoxon(np.round(rmse_sig_test[dataset][prefix][algo] - rmse_sig_test[dataset][prefixes[0]][algo], decimals=8), zero_method='pratt', alternative='two-sided', method='approx')\n",
    "                _, p_value_size = wilcoxon(np.round(size_sig_test[dataset][prefix][algo] - size_sig_test[dataset][prefixes[0]][algo], decimals=8), zero_method='pratt', alternative='two-sided', method='approx')\n",
    "\n",
    "                df_rmse.loc[(df_rmse['Dataset'] == dataset) & (df_rmse['Algorithm'] == algo), 'rmse_significance'] = \\\n",
    "                    get_significance(\n",
    "                        p_value_rmse, \n",
    "                        df_rmse.loc[(df_rmse['Dataset'] == dataset) & (df_rmse['Algorithm'] == algo), f'ratio_rmse'].values[0]\n",
    "                    )\n",
    "\n",
    "                df_size.loc[(df_size['Dataset'] == dataset) & (df_size['Algorithm'] == algo), 'size_significance'] = \\\n",
    "                    get_significance(\n",
    "                        p_value_size, \n",
    "                        df_size.loc[(df_size['Dataset'] == dataset) & (df_size['Algorithm'] == algo), f'ratio_size'].values[0]\n",
    "                    )\n",
    "                \n",
    "    df_rmse.set_index(['Dataset', 'Algorithm'], inplace=True)\n",
    "    df_size.set_index(['Dataset', 'Algorithm'], inplace=True)\n",
    "    df_rmse_std.set_index(['Dataset', 'Algorithm'], inplace=True)\n",
    "    df_size_std.set_index(['Dataset', 'Algorithm'], inplace=True)\n",
    "\n",
    "\n",
    "    if best:\n",
    "        return _means_df_best(df_rmse, df_size, df_rmse_std, df_size_std, prefixes, rmse_compare, decimals, table)\n",
    "    \n",
    "    elif table:\n",
    "        df_combined = pd.concat([df_rmse, df_rmse_std, df_size, df_size_std], axis=1).reset_index()\n",
    "        df_combined = df_combined.round(decimals)\n",
    "        for prefix in prefixes:\n",
    "            df_combined[f'rmse_{prefix}'] = df_combined[f'rmse_{prefix}'].astype(str) + ' ± ' + df_combined[f'rmse_std_{prefix}'].astype(str)\n",
    "            df_combined[f'size_{prefix}'] = df_combined[f'size_{prefix}'].astype(str) + ' ± ' + df_combined[f'size_std_{prefix}'].astype(str)\n",
    "        df_combined = df_combined[[col for col in df_combined.columns if '_std' not in col]]\n",
    "        reordered_columns = (\n",
    "            ['Dataset', 'Algorithm'] +\n",
    "            [f'rmse_{p}' for p in prefixes] +\n",
    "            [f'size_{p}' for p in prefixes] +\n",
    "            ['ratio_rmse', 'ratio_size'] + \n",
    "            ['rmse_significance', 'size_significance']\n",
    "        )\n",
    "        df_combined = df_combined[reordered_columns]\n",
    "        print(tabulate(df_combined, headers='keys', tablefmt='fancy_grid', floatfmt=f\".{decimals}f\"))\n",
    "        return None\n",
    "    \n",
    "    # Combine df_rmse and df_size\n",
    "    df_combined = pd.concat([df_rmse, df_size], axis=1).reset_index()\n",
    "    df_combined = df_combined.round(decimals)\n",
    "    reordered_columns = (\n",
    "        ['Dataset', 'Algorithm'] +\n",
    "        [f'rmse_{p}' for p in prefixes] +\n",
    "        [f'size_{p}' for p in prefixes] +\n",
    "        ['ratio_rmse', 'ratio_size'] + \n",
    "        ['rmse_significance', 'size_significance']\n",
    "    )\n",
    "    df_combined = df_combined[reordered_columns]\n",
    "    df_combined.set_index(['Dataset', 'Algorithm'], inplace=True)\n",
    "    return df_combined.sort_values('ratio_rmse')    \n",
    "\n",
    "\n",
    "def _means_df_best(df_rmse, \n",
    "                   df_size, \n",
    "                   df_rmse_std,\n",
    "                   df_size_std,\n",
    "                   prefixes,\n",
    "                   rmse_compare=True,\n",
    "                   decimals=3, \n",
    "                   table=False):\n",
    "    best_dict_rmse, best_dict_size, best_dict_rmse_std, best_dict_size_std = {}, {}, {}, {}\n",
    "    prefix_columns = df_rmse.columns[:-2]\n",
    "\n",
    "    rmse_sig_test, size_sig_test = {}, {}\n",
    "    for prefix in prefix_columns:\n",
    "        best_indices = df_rmse.groupby('Dataset')[prefix].idxmin().values\n",
    "\n",
    "        for idx in best_indices:\n",
    "            dataset, algo = idx\n",
    "\n",
    "            # Significance test\n",
    "            dataset_id = dataset_dict[dataset]\n",
    "            with open(f'results/slim/{dataset_id}/{prefix.replace(\"rmse_\", \"\")}.pkl', 'rb') as f:\n",
    "                results = pickle.load(f)\n",
    "                rmse = results['rmse_compare'][algo] if rmse_compare else results['rmse'][algo]\n",
    "                size = results['size'][algo]\n",
    "            if dataset not in rmse_sig_test:\n",
    "                rmse_sig_test[dataset] = {}\n",
    "                size_sig_test[dataset] = {}\n",
    "            rmse_sig_test[dataset][prefix] = np.array(rmse)\n",
    "            size_sig_test[dataset][prefix] = np.array(size)\n",
    "\n",
    "            # Append to best_dict\n",
    "            rmse_value = df_rmse.loc[idx, prefix]\n",
    "            size_value = df_size.loc[idx, prefix.replace('rmse', 'size')]\n",
    "            rmse_value_std = df_rmse_std.loc[idx, f'rmse_std_{prefix.replace(\"rmse_\", \"\")}']\n",
    "            size_value_std = df_size_std.loc[idx, f'size_std_{prefix.replace(\"rmse_\", \"\")}']\n",
    "\n",
    "            if dataset not in best_dict_rmse:\n",
    "                best_dict_rmse[dataset] = []\n",
    "                best_dict_size[dataset] = []\n",
    "                best_dict_rmse_std[dataset] = []\n",
    "                best_dict_size_std[dataset] = []\n",
    "            best_dict_rmse[dataset].append(rmse_value)   \n",
    "            best_dict_size[dataset].append(size_value)\n",
    "            best_dict_rmse_std[dataset].append(rmse_value_std)\n",
    "            best_dict_size_std[dataset].append(size_value_std)\n",
    "\n",
    "    best_df_rmse = pd.DataFrame(best_dict_rmse).T\n",
    "    best_df_size = pd.DataFrame(best_dict_size).T\n",
    "    best_df_rmse_std = pd.DataFrame(best_dict_rmse_std).T\n",
    "    best_df_size_std = pd.DataFrame(best_dict_size_std).T\n",
    "    best_df_rmse.columns = prefix_columns\n",
    "    best_df_size.columns = [c.replace('rmse', 'size') for c in prefix_columns]\n",
    "    best_df_rmse_std.columns = [f'{c}_std' for c in prefix_columns]\n",
    "    best_df_size_std.columns = [f'{c}_std' for c in best_df_size.columns]\n",
    "    best_df_rmse['ratio_rmse'] = best_df_rmse[prefix_columns[0]] / best_df_rmse[prefix_columns[1]]\n",
    "    best_df_size['ratio_size'] = best_df_size[prefix_columns[0].replace('rmse', 'size')] / best_df_size[prefix_columns[1].replace('rmse', 'size')]\n",
    "\n",
    "    # For each dataset, calculate the significance test\n",
    "    for dataset in rmse_sig_test.keys():\n",
    "        for prefix in prefix_columns:\n",
    "            if prefix == prefix_columns[0]:\n",
    "                continue\n",
    "            # Check if the lengths are the same\n",
    "            if len(rmse_sig_test[dataset][prefix]) != len(rmse_sig_test[dataset][prefix_columns[0]]):\n",
    "                min_len = min(len(rmse_sig_test[dataset][prefix]), len(rmse_sig_test[dataset][prefix_columns[0]]))\n",
    "                rmse_sig_test[dataset][prefix] = rmse_sig_test[dataset][prefix][:min_len]\n",
    "                rmse_sig_test[dataset][prefix_columns[0]] = rmse_sig_test[dataset][prefix_columns[0]][:min_len]\n",
    "                size_sig_test[dataset][prefix] = size_sig_test[dataset][prefix][:min_len]\n",
    "                size_sig_test[dataset][prefix_columns[0]] = size_sig_test[dataset][prefix_columns[0]][:min_len]\n",
    "                \n",
    "            _, p_value_rmse = wilcoxon(np.round(rmse_sig_test[dataset][prefix] - rmse_sig_test[dataset][prefix_columns[0]], decimals=8), zero_method='pratt', alternative='two-sided', method='approx')\n",
    "            _, p_value_size = wilcoxon(np.round(size_sig_test[dataset][prefix] - size_sig_test[dataset][prefix_columns[0]], decimals=8), zero_method='pratt', alternative='two-sided', method='approx')\n",
    "            best_df_rmse.loc[dataset, 'rmse_significance'] = get_significance(p_value_rmse, best_df_rmse.loc[dataset, 'ratio_rmse'])\n",
    "            best_df_size.loc[dataset, 'size_significance'] = get_significance(p_value_size, best_df_size.loc[dataset, 'ratio_size'])\n",
    "\n",
    "    best_df_rmse.sort_values('ratio_rmse')\n",
    "    best_df = pd.concat([best_df_rmse, best_df_size], axis=1)\n",
    "    best_df = best_df.round(decimals)\n",
    "\n",
    "    # If table, we want to add the standard deviations in the rmses and sizes\n",
    "    if table:\n",
    "        best_df_std = pd.concat([best_df_rmse, best_df_size, best_df_rmse_std, best_df_size_std], axis=1)\n",
    "        best_df_std = best_df_std.round(decimals)\n",
    "        best_df_std = best_df_std.sort_values('ratio_rmse')\n",
    "        \n",
    "        best_df_std[f'rmse_{prefixes[0]}'] = best_df_std[f'rmse_{prefixes[0]}'].astype(str) + ' ± ' + best_df_std[f'rmse_{prefixes[0]}_std'].astype(str)\n",
    "        best_df_std[f'rmse_{prefixes[1]}'] = best_df_std[f'rmse_{prefixes[1]}'].astype(str) + ' ± ' + best_df_std[f'rmse_{prefixes[1]}_std'].astype(str)\n",
    "        best_df_std[f'size_{prefixes[0]}'] = best_df_std[f'size_{prefixes[0]}'].astype(str) + ' ± ' + best_df_std[f'size_{prefixes[0]}_std'].astype(str)\n",
    "        best_df_std[f'size_{prefixes[1]}'] = best_df_std[f'size_{prefixes[1]}'].astype(str) + ' ± ' + best_df_std[f'size_{prefixes[1]}_std'].astype(str)\n",
    "        best_df_std = best_df_std[[col for col in best_df_std.columns if '_std' not in col]]\n",
    "\n",
    "        # Now print the table\n",
    "        print(tabulate(best_df_std, headers='keys', tablefmt='fancy_grid', floatfmt=f\".{decimals}f\"))\n",
    "        return None\n",
    "\n",
    "    return best_df.sort_values('ratio_rmse')"
   ]
  },
  {
   "cell_type": "code",
   "execution_count": 39,
   "metadata": {},
   "outputs": [
    {
     "data": {
      "text/html": [
       "<div>\n",
       "<style scoped>\n",
       "    .dataframe tbody tr th:only-of-type {\n",
       "        vertical-align: middle;\n",
       "    }\n",
       "\n",
       "    .dataframe tbody tr th {\n",
       "        vertical-align: top;\n",
       "    }\n",
       "\n",
       "    .dataframe thead th {\n",
       "        text-align: right;\n",
       "    }\n",
       "</style>\n",
       "<table border=\"1\" class=\"dataframe\">\n",
       "  <thead>\n",
       "    <tr style=\"text-align: right;\">\n",
       "      <th></th>\n",
       "      <th>rmse_scsmsp_5</th>\n",
       "      <th>rmse_scsm_5</th>\n",
       "      <th>size_scsmsp_5</th>\n",
       "      <th>size_scsm_5</th>\n",
       "      <th>ratio_rmse</th>\n",
       "      <th>ratio_size</th>\n",
       "      <th>rmse_significance</th>\n",
       "      <th>size_significance</th>\n",
       "    </tr>\n",
       "    <tr>\n",
       "      <th>Algorithm</th>\n",
       "      <th></th>\n",
       "      <th></th>\n",
       "      <th></th>\n",
       "      <th></th>\n",
       "      <th></th>\n",
       "      <th></th>\n",
       "      <th></th>\n",
       "      <th></th>\n",
       "    </tr>\n",
       "  </thead>\n",
       "  <tbody>\n",
       "    <tr>\n",
       "      <th>SUM_SIG1</th>\n",
       "      <td>0.0464</td>\n",
       "      <td>0.0578</td>\n",
       "      <td>94.58</td>\n",
       "      <td>77.12</td>\n",
       "      <td>0.8020</td>\n",
       "      <td>1.2264</td>\n",
       "      <td>+</td>\n",
       "      <td>---</td>\n",
       "    </tr>\n",
       "    <tr>\n",
       "      <th>SUM_SIG2</th>\n",
       "      <td>0.0539</td>\n",
       "      <td>0.0577</td>\n",
       "      <td>74.92</td>\n",
       "      <td>136.50</td>\n",
       "      <td>0.9347</td>\n",
       "      <td>0.5489</td>\n",
       "      <td>NSD</td>\n",
       "      <td>+++</td>\n",
       "    </tr>\n",
       "    <tr>\n",
       "      <th>MUL_SIG2</th>\n",
       "      <td>0.0543</td>\n",
       "      <td>0.0578</td>\n",
       "      <td>103.40</td>\n",
       "      <td>181.40</td>\n",
       "      <td>0.9396</td>\n",
       "      <td>0.5700</td>\n",
       "      <td>NSD</td>\n",
       "      <td>+++</td>\n",
       "    </tr>\n",
       "    <tr>\n",
       "      <th>MUL_ABS</th>\n",
       "      <td>0.0486</td>\n",
       "      <td>0.0495</td>\n",
       "      <td>49.98</td>\n",
       "      <td>74.26</td>\n",
       "      <td>0.9819</td>\n",
       "      <td>0.6730</td>\n",
       "      <td>NSD</td>\n",
       "      <td>+++</td>\n",
       "    </tr>\n",
       "    <tr>\n",
       "      <th>MUL_SIG1</th>\n",
       "      <td>0.0547</td>\n",
       "      <td>0.0496</td>\n",
       "      <td>80.54</td>\n",
       "      <td>68.92</td>\n",
       "      <td>1.1045</td>\n",
       "      <td>1.1686</td>\n",
       "      <td>NSD</td>\n",
       "      <td>---</td>\n",
       "    </tr>\n",
       "    <tr>\n",
       "      <th>SUM_ABS</th>\n",
       "      <td>0.0654</td>\n",
       "      <td>0.0578</td>\n",
       "      <td>128.02</td>\n",
       "      <td>145.62</td>\n",
       "      <td>1.1321</td>\n",
       "      <td>0.8791</td>\n",
       "      <td>NSD</td>\n",
       "      <td>NSD</td>\n",
       "    </tr>\n",
       "  </tbody>\n",
       "</table>\n",
       "</div>"
      ],
      "text/plain": [
       "           rmse_scsmsp_5  rmse_scsm_5  size_scsmsp_5  size_scsm_5  ratio_rmse  \\\n",
       "Algorithm                                                                       \n",
       "SUM_SIG1          0.0464       0.0578          94.58        77.12      0.8020   \n",
       "SUM_SIG2          0.0539       0.0577          74.92       136.50      0.9347   \n",
       "MUL_SIG2          0.0543       0.0578         103.40       181.40      0.9396   \n",
       "MUL_ABS           0.0486       0.0495          49.98        74.26      0.9819   \n",
       "MUL_SIG1          0.0547       0.0496          80.54        68.92      1.1045   \n",
       "SUM_ABS           0.0654       0.0578         128.02       145.62      1.1321   \n",
       "\n",
       "           ratio_size rmse_significance size_significance  \n",
       "Algorithm                                                  \n",
       "SUM_SIG1       1.2264                 +               ---  \n",
       "SUM_SIG2       0.5489               NSD               +++  \n",
       "MUL_SIG2       0.5700               NSD               +++  \n",
       "MUL_ABS        0.6730               NSD               +++  \n",
       "MUL_SIG1       1.1686               NSD               ---  \n",
       "SUM_ABS        0.8791               NSD               NSD  "
      ]
     },
     "execution_count": 39,
     "metadata": {},
     "output_type": "execute_result"
    }
   ],
   "source": [
    "means_df(prefixes=['scsmsp_5', 'scsm_5'],\n",
    "         best=False, rmse_compare=False, decimals=4, table=False).loc['resid_build_sale_price']"
   ]
  },
  {
   "cell_type": "code",
   "execution_count": null,
   "metadata": {},
   "outputs": [
    {
     "data": {
      "image/png": "[encoded data removed]",
      "text/plain": [
       "<Figure size 1200x1200 with 6 Axes>"
      ]
     },
     "metadata": {},
     "output_type": "display_data"
    }
   ],
   "source": [
    "prefixes = ['scsmsp_5', 'scsm_5']\n",
    "dataset = 'resid_build_sale_price'\n",
    "comparable = 'rmse'\n",
    "\n",
    "dataset_id = dataset_dict[dataset]\n",
    "\n",
    "with open(f'results/slim/{dataset_id}/{prefixes[0]}.pkl', 'rb') as f:\n",
    "    results1 = pickle.load(f)\n",
    "\n",
    "with open(f'results/slim/{dataset_id}/{prefixes[1]}.pkl', 'rb') as f:\n",
    "    results2 = pickle.load(f)\n",
    "\n",
    "algorithms = ['SUM_SIG1', 'SUM_SIG2', 'SUM_ABS', 'MUL_SIG1', 'MUL_SIG2', 'MUL_ABS']\n",
    "\n",
    "# For each algorithm, plot the RMSE distribution for the two variants \n",
    "fig, axs = plt.subplots(3, 2, figsize=(12, 12))\n",
    "axs = axs.flatten()\n",
    "\n",
    "for i, algo in enumerate(algorithms):\n",
    "    sns.kdeplot(results1[comparable][algo], ax=axs[i], label=prefixes[0])\n",
    "    sns.kdeplot(results2[comparable][algo], ax=axs[i], label=prefixes[1])    \n",
    "    axs[i].set_title(f'{algo} - {np.mean(results1[comparable][algo]):.3f} vs {np.mean(results2[comparable][algo]):.3f}')\n",
    "    axs[i].legend()\n",
    "\n",
    "fig.suptitle(f'{dataset} - {comparable}', fontsize=20)\n",
    "plt.tight_layout()\n",
    "plt.show()"
   ]
  },
  {
   "cell_type": "code",
   "execution_count": null,
   "metadata": {},
   "outputs": [],
   "source": [
    "prefixes = ['scsmsp_5', 'scsm_5']\n",
    "dataset = 'resid_build_sale_price'\n",
    "comparable = 'rmse'\n",
    "\n",
    "dataset_id = dataset_dict[dataset]\n",
    "\n",
    "with open(f'results/slim/{dataset_id}/{prefixes[0]}.pkl', 'rb') as f:\n",
    "    results1 = pickle.load(f)\n",
    "\n",
    "with open(f'results/slim/{dataset_id}/{prefixes[1]}.pkl', 'rb') as f:\n",
    "    results2 = pickle.load(f)\n",
    "\n",
    "algorithms = ['SUM_SIG1', 'SUM_SIG2', 'SUM_ABS', 'MUL_SIG1', 'MUL_SIG2', 'MUL_ABS']\n",
    "\n",
    "# For each algorithm, plot the RMSE distribution for the two variants \n",
    "fig, axs = plt.subplots(3, 2, figsize=(12, 12))\n",
    "axs = axs.flatten()\n",
    "\n",
    "for i, algo in enumerate(algorithms):\n",
    "    sns.kdeplot(results1[comparable][algo], ax=axs[i], label=prefixes[0])\n",
    "    sns.kdeplot(results2[comparable][algo], ax=axs[i], label=prefixes[1])    \n",
    "    axs[i].set_title(f'{algo} - {np.mean(results1[comparable][algo]):.3f} vs {np.mean(results2[comparable][algo]):.3f}')\n",
    "    axs[i].legend()\n",
    "\n",
    "fig.suptitle(f'{dataset} - {comparable}', fontsize=20)\n",
    "plt.tight_layout()\n",
    "plt.show()"
   ]
  },
  {
   "cell_type": "code",
   "execution_count": 9,
   "metadata": {},
   "outputs": [
    {
     "name": "stderr",
     "output_type": "stream",
     "text": [
      "  0%|          | 0/50 [00:00<?, ?it/s]"
     ]
    },
    {
     "name": "stderr",
     "output_type": "stream",
     "text": [
      "  2%|▏         | 1/50 [00:30<24:34, 30.10s/it]"
     ]
    },
    {
     "name": "stdout",
     "output_type": "stream",
     "text": [
      "Iteration 1/50 - RMSE: 0.1027 - SIZE: 82.0 - MAE: 0.0410 - Time: 30.09s\n"
     ]
    },
    {
     "name": "stderr",
     "output_type": "stream",
     "text": [
      "  4%|▍         | 2/50 [01:00<24:11, 30.24s/it]"
     ]
    },
    {
     "name": "stdout",
     "output_type": "stream",
     "text": [
      "Iteration 2/50 - RMSE: 0.0535 - SIZE: 85.0 - MAE: 0.0315 - Time: 30.33s\n"
     ]
    },
    {
     "name": "stderr",
     "output_type": "stream",
     "text": [
      "  6%|▌         | 3/50 [01:31<23:49, 30.41s/it]"
     ]
    },
    {
     "name": "stdout",
     "output_type": "stream",
     "text": [
      "Iteration 3/50 - RMSE: 0.0496 - SIZE: 80.0 - MAE: 0.0280 - Time: 30.61s\n"
     ]
    },
    {
     "name": "stderr",
     "output_type": "stream",
     "text": [
      "  8%|▊         | 4/50 [02:01<23:18, 30.41s/it]"
     ]
    },
    {
     "name": "stdout",
     "output_type": "stream",
     "text": [
      "Iteration 4/50 - RMSE: 0.0364 - SIZE: 81.0 - MAE: 0.0254 - Time: 30.40s\n"
     ]
    },
    {
     "name": "stderr",
     "output_type": "stream",
     "text": [
      " 10%|█         | 5/50 [02:34<23:26, 31.25s/it]"
     ]
    },
    {
     "name": "stdout",
     "output_type": "stream",
     "text": [
      "Iteration 5/50 - RMSE: 0.0569 - SIZE: 94.0 - MAE: 0.0304 - Time: 32.72s\n"
     ]
    },
    {
     "name": "stderr",
     "output_type": "stream",
     "text": [
      " 12%|█▏        | 6/50 [03:04<22:47, 31.08s/it]"
     ]
    },
    {
     "name": "stdout",
     "output_type": "stream",
     "text": [
      "Iteration 6/50 - RMSE: 0.0354 - SIZE: 91.0 - MAE: 0.0277 - Time: 30.75s\n"
     ]
    },
    {
     "name": "stderr",
     "output_type": "stream",
     "text": [
      " 14%|█▍        | 7/50 [03:36<22:17, 31.11s/it]"
     ]
    },
    {
     "name": "stdout",
     "output_type": "stream",
     "text": [
      "Iteration 7/50 - RMSE: 0.0432 - SIZE: 69.0 - MAE: 0.0294 - Time: 31.17s\n"
     ]
    },
    {
     "name": "stderr",
     "output_type": "stream",
     "text": [
      " 16%|█▌        | 8/50 [04:05<21:30, 30.72s/it]"
     ]
    },
    {
     "name": "stdout",
     "output_type": "stream",
     "text": [
      "Iteration 8/50 - RMSE: 0.0426 - SIZE: 71.0 - MAE: 0.0282 - Time: 29.87s\n"
     ]
    },
    {
     "name": "stderr",
     "output_type": "stream",
     "text": [
      " 18%|█▊        | 9/50 [04:36<20:51, 30.54s/it]"
     ]
    },
    {
     "name": "stdout",
     "output_type": "stream",
     "text": [
      "Iteration 9/50 - RMSE: 0.0359 - SIZE: 84.0 - MAE: 0.0246 - Time: 30.12s\n"
     ]
    },
    {
     "name": "stderr",
     "output_type": "stream",
     "text": [
      " 20%|██        | 10/50 [05:06<20:19, 30.50s/it]"
     ]
    },
    {
     "name": "stdout",
     "output_type": "stream",
     "text": [
      "Iteration 10/50 - RMSE: 0.0614 - SIZE: 93.0 - MAE: 0.0412 - Time: 30.41s\n"
     ]
    },
    {
     "name": "stderr",
     "output_type": "stream",
     "text": [
      " 22%|██▏       | 11/50 [05:37<19:50, 30.53s/it]"
     ]
    },
    {
     "name": "stdout",
     "output_type": "stream",
     "text": [
      "Iteration 11/50 - RMSE: 0.0343 - SIZE: 57.0 - MAE: 0.0235 - Time: 30.57s\n"
     ]
    },
    {
     "name": "stderr",
     "output_type": "stream",
     "text": [
      " 24%|██▍       | 12/50 [06:06<19:11, 30.32s/it]"
     ]
    },
    {
     "name": "stdout",
     "output_type": "stream",
     "text": [
      "Iteration 12/50 - RMSE: 0.0389 - SIZE: 71.0 - MAE: 0.0288 - Time: 29.83s\n"
     ]
    },
    {
     "name": "stderr",
     "output_type": "stream",
     "text": [
      " 26%|██▌       | 13/50 [06:36<18:29, 29.98s/it]"
     ]
    },
    {
     "name": "stdout",
     "output_type": "stream",
     "text": [
      "Iteration 13/50 - RMSE: 0.0477 - SIZE: 86.0 - MAE: 0.0394 - Time: 29.21s\n"
     ]
    },
    {
     "name": "stderr",
     "output_type": "stream",
     "text": [
      " 28%|██▊       | 14/50 [07:07<18:12, 30.35s/it]"
     ]
    },
    {
     "name": "stdout",
     "output_type": "stream",
     "text": [
      "Iteration 14/50 - RMSE: 0.0470 - SIZE: 95.0 - MAE: 0.0270 - Time: 31.20s\n"
     ]
    },
    {
     "name": "stderr",
     "output_type": "stream",
     "text": [
      " 30%|███       | 15/50 [07:37<17:40, 30.29s/it]"
     ]
    },
    {
     "name": "stdout",
     "output_type": "stream",
     "text": [
      "Iteration 15/50 - RMSE: 0.0851 - SIZE: 72.0 - MAE: 0.0423 - Time: 30.15s\n"
     ]
    },
    {
     "name": "stderr",
     "output_type": "stream",
     "text": [
      " 32%|███▏      | 16/50 [08:07<17:10, 30.32s/it]"
     ]
    },
    {
     "name": "stdout",
     "output_type": "stream",
     "text": [
      "Iteration 16/50 - RMSE: 0.0665 - SIZE: 72.0 - MAE: 0.0361 - Time: 30.37s\n"
     ]
    },
    {
     "name": "stderr",
     "output_type": "stream",
     "text": [
      " 34%|███▍      | 17/50 [08:37<16:33, 30.10s/it]"
     ]
    },
    {
     "name": "stdout",
     "output_type": "stream",
     "text": [
      "Iteration 17/50 - RMSE: 0.0286 - SIZE: 60.0 - MAE: 0.0209 - Time: 29.60s\n"
     ]
    },
    {
     "name": "stderr",
     "output_type": "stream",
     "text": [
      " 36%|███▌      | 18/50 [09:06<15:57, 29.91s/it]"
     ]
    },
    {
     "name": "stdout",
     "output_type": "stream",
     "text": [
      "Iteration 18/50 - RMSE: 0.0899 - SIZE: 68.0 - MAE: 0.0433 - Time: 29.46s\n"
     ]
    },
    {
     "name": "stderr",
     "output_type": "stream",
     "text": [
      " 38%|███▊      | 19/50 [09:35<15:17, 29.59s/it]"
     ]
    },
    {
     "name": "stdout",
     "output_type": "stream",
     "text": [
      "Iteration 19/50 - RMSE: 0.0359 - SIZE: 74.0 - MAE: 0.0264 - Time: 28.84s\n"
     ]
    },
    {
     "name": "stderr",
     "output_type": "stream",
     "text": [
      " 40%|████      | 20/50 [10:05<14:45, 29.52s/it]"
     ]
    },
    {
     "name": "stdout",
     "output_type": "stream",
     "text": [
      "Iteration 20/50 - RMSE: 0.0592 - SIZE: 70.0 - MAE: 0.0388 - Time: 29.34s\n"
     ]
    },
    {
     "name": "stderr",
     "output_type": "stream",
     "text": [
      " 42%|████▏     | 21/50 [10:34<14:14, 29.47s/it]"
     ]
    },
    {
     "name": "stdout",
     "output_type": "stream",
     "text": [
      "Iteration 21/50 - RMSE: 0.0404 - SIZE: 82.0 - MAE: 0.0282 - Time: 29.35s\n"
     ]
    },
    {
     "name": "stderr",
     "output_type": "stream",
     "text": [
      " 44%|████▍     | 22/50 [11:05<13:53, 29.77s/it]"
     ]
    },
    {
     "name": "stdout",
     "output_type": "stream",
     "text": [
      "Iteration 22/50 - RMSE: 0.0817 - SIZE: 71.0 - MAE: 0.0489 - Time: 30.47s\n"
     ]
    },
    {
     "name": "stderr",
     "output_type": "stream",
     "text": [
      " 46%|████▌     | 23/50 [11:34<13:24, 29.79s/it]"
     ]
    },
    {
     "name": "stdout",
     "output_type": "stream",
     "text": [
      "Iteration 23/50 - RMSE: 0.0626 - SIZE: 87.0 - MAE: 0.0349 - Time: 29.84s\n"
     ]
    },
    {
     "name": "stderr",
     "output_type": "stream",
     "text": [
      " 48%|████▊     | 24/50 [12:06<13:09, 30.37s/it]"
     ]
    },
    {
     "name": "stdout",
     "output_type": "stream",
     "text": [
      "Iteration 24/50 - RMSE: 0.0486 - SIZE: 82.0 - MAE: 0.0347 - Time: 31.72s\n"
     ]
    },
    {
     "name": "stderr",
     "output_type": "stream",
     "text": [
      " 50%|█████     | 25/50 [12:36<12:35, 30.23s/it]"
     ]
    },
    {
     "name": "stdout",
     "output_type": "stream",
     "text": [
      "Iteration 25/50 - RMSE: 0.0519 - SIZE: 76.0 - MAE: 0.0272 - Time: 29.90s\n"
     ]
    },
    {
     "name": "stderr",
     "output_type": "stream",
     "text": [
      " 52%|█████▏    | 26/50 [13:07<12:08, 30.37s/it]"
     ]
    },
    {
     "name": "stdout",
     "output_type": "stream",
     "text": [
      "Iteration 26/50 - RMSE: 0.0495 - SIZE: 84.0 - MAE: 0.0345 - Time: 30.67s\n"
     ]
    },
    {
     "name": "stderr",
     "output_type": "stream",
     "text": [
      " 54%|█████▍    | 27/50 [13:36<11:33, 30.15s/it]"
     ]
    },
    {
     "name": "stdout",
     "output_type": "stream",
     "text": [
      "Iteration 27/50 - RMSE: 0.0303 - SIZE: 80.0 - MAE: 0.0220 - Time: 29.63s\n"
     ]
    },
    {
     "name": "stderr",
     "output_type": "stream",
     "text": [
      " 56%|█████▌    | 28/50 [14:06<10:59, 29.97s/it]"
     ]
    },
    {
     "name": "stdout",
     "output_type": "stream",
     "text": [
      "Iteration 28/50 - RMSE: 0.0331 - SIZE: 61.0 - MAE: 0.0243 - Time: 29.56s\n"
     ]
    },
    {
     "name": "stderr",
     "output_type": "stream",
     "text": [
      " 58%|█████▊    | 29/50 [14:36<10:28, 29.93s/it]"
     ]
    },
    {
     "name": "stdout",
     "output_type": "stream",
     "text": [
      "Iteration 29/50 - RMSE: 0.0284 - SIZE: 72.0 - MAE: 0.0215 - Time: 29.83s\n"
     ]
    },
    {
     "name": "stderr",
     "output_type": "stream",
     "text": [
      " 60%|██████    | 30/50 [15:06<10:02, 30.13s/it]"
     ]
    },
    {
     "name": "stdout",
     "output_type": "stream",
     "text": [
      "Iteration 30/50 - RMSE: 0.0762 - SIZE: 82.0 - MAE: 0.0410 - Time: 30.58s\n"
     ]
    },
    {
     "name": "stderr",
     "output_type": "stream",
     "text": [
      " 62%|██████▏   | 31/50 [15:36<09:28, 29.92s/it]"
     ]
    },
    {
     "name": "stdout",
     "output_type": "stream",
     "text": [
      "Iteration 31/50 - RMSE: 0.0466 - SIZE: 20.0 - MAE: 0.0343 - Time: 29.43s\n"
     ]
    },
    {
     "name": "stderr",
     "output_type": "stream",
     "text": [
      " 64%|██████▍   | 32/50 [16:06<09:01, 30.06s/it]"
     ]
    },
    {
     "name": "stdout",
     "output_type": "stream",
     "text": [
      "Iteration 32/50 - RMSE: 0.0858 - SIZE: 69.0 - MAE: 0.0494 - Time: 30.37s\n"
     ]
    },
    {
     "name": "stderr",
     "output_type": "stream",
     "text": [
      " 66%|██████▌   | 33/50 [16:35<08:27, 29.83s/it]"
     ]
    },
    {
     "name": "stdout",
     "output_type": "stream",
     "text": [
      "Iteration 33/50 - RMSE: 0.0290 - SIZE: 59.0 - MAE: 0.0211 - Time: 29.31s\n"
     ]
    },
    {
     "name": "stderr",
     "output_type": "stream",
     "text": [
      " 68%|██████▊   | 34/50 [17:06<07:59, 29.99s/it]"
     ]
    },
    {
     "name": "stdout",
     "output_type": "stream",
     "text": [
      "Iteration 34/50 - RMSE: 0.0536 - SIZE: 56.0 - MAE: 0.0287 - Time: 30.36s\n"
     ]
    },
    {
     "name": "stderr",
     "output_type": "stream",
     "text": [
      " 70%|███████   | 35/50 [17:35<07:28, 29.90s/it]"
     ]
    },
    {
     "name": "stdout",
     "output_type": "stream",
     "text": [
      "Iteration 35/50 - RMSE: 0.0447 - SIZE: 74.0 - MAE: 0.0330 - Time: 29.67s\n"
     ]
    },
    {
     "name": "stderr",
     "output_type": "stream",
     "text": [
      " 72%|███████▏  | 36/50 [18:07<07:04, 30.31s/it]"
     ]
    },
    {
     "name": "stdout",
     "output_type": "stream",
     "text": [
      "Iteration 36/50 - RMSE: 0.0448 - SIZE: 82.0 - MAE: 0.0300 - Time: 31.27s\n"
     ]
    },
    {
     "name": "stderr",
     "output_type": "stream",
     "text": [
      " 74%|███████▍  | 37/50 [18:36<06:29, 29.96s/it]"
     ]
    },
    {
     "name": "stdout",
     "output_type": "stream",
     "text": [
      "Iteration 37/50 - RMSE: 0.0481 - SIZE: 65.0 - MAE: 0.0308 - Time: 29.14s\n"
     ]
    },
    {
     "name": "stderr",
     "output_type": "stream",
     "text": [
      " 76%|███████▌  | 38/50 [19:05<05:57, 29.83s/it]"
     ]
    },
    {
     "name": "stdout",
     "output_type": "stream",
     "text": [
      "Iteration 38/50 - RMSE: 0.0678 - SIZE: 70.0 - MAE: 0.0412 - Time: 29.50s\n"
     ]
    },
    {
     "name": "stderr",
     "output_type": "stream",
     "text": [
      " 78%|███████▊  | 39/50 [19:35<05:27, 29.77s/it]"
     ]
    },
    {
     "name": "stdout",
     "output_type": "stream",
     "text": [
      "Iteration 39/50 - RMSE: 0.0362 - SIZE: 80.0 - MAE: 0.0252 - Time: 29.62s\n"
     ]
    },
    {
     "name": "stderr",
     "output_type": "stream",
     "text": [
      " 80%|████████  | 40/50 [20:05<04:58, 29.87s/it]"
     ]
    },
    {
     "name": "stdout",
     "output_type": "stream",
     "text": [
      "Iteration 40/50 - RMSE: 0.0605 - SIZE: 71.0 - MAE: 0.0401 - Time: 30.12s\n"
     ]
    },
    {
     "name": "stderr",
     "output_type": "stream",
     "text": [
      " 82%|████████▏ | 41/50 [20:35<04:29, 29.93s/it]"
     ]
    },
    {
     "name": "stdout",
     "output_type": "stream",
     "text": [
      "Iteration 41/50 - RMSE: 0.0696 - SIZE: 70.0 - MAE: 0.0424 - Time: 30.06s\n"
     ]
    },
    {
     "name": "stderr",
     "output_type": "stream",
     "text": [
      " 84%|████████▍ | 42/50 [21:06<04:02, 30.33s/it]"
     ]
    },
    {
     "name": "stdout",
     "output_type": "stream",
     "text": [
      "Iteration 42/50 - RMSE: 0.0535 - SIZE: 72.0 - MAE: 0.0419 - Time: 31.26s\n"
     ]
    },
    {
     "name": "stderr",
     "output_type": "stream",
     "text": [
      " 86%|████████▌ | 43/50 [21:38<03:34, 30.60s/it]"
     ]
    },
    {
     "name": "stdout",
     "output_type": "stream",
     "text": [
      "Iteration 43/50 - RMSE: 0.0439 - SIZE: 69.0 - MAE: 0.0296 - Time: 31.22s\n"
     ]
    },
    {
     "name": "stderr",
     "output_type": "stream",
     "text": [
      " 88%|████████▊ | 44/50 [22:09<03:04, 30.73s/it]"
     ]
    },
    {
     "name": "stdout",
     "output_type": "stream",
     "text": [
      "Iteration 44/50 - RMSE: 0.0433 - SIZE: 72.0 - MAE: 0.0325 - Time: 31.02s\n"
     ]
    },
    {
     "name": "stderr",
     "output_type": "stream",
     "text": [
      " 90%|█████████ | 45/50 [22:39<02:32, 30.58s/it]"
     ]
    },
    {
     "name": "stdout",
     "output_type": "stream",
     "text": [
      "Iteration 45/50 - RMSE: 0.0376 - SIZE: 93.0 - MAE: 0.0230 - Time: 30.22s\n"
     ]
    },
    {
     "name": "stderr",
     "output_type": "stream",
     "text": [
      " 92%|█████████▏| 46/50 [23:10<02:02, 30.57s/it]"
     ]
    },
    {
     "name": "stdout",
     "output_type": "stream",
     "text": [
      "Iteration 46/50 - RMSE: 0.0297 - SIZE: 89.0 - MAE: 0.0202 - Time: 30.55s\n"
     ]
    },
    {
     "name": "stderr",
     "output_type": "stream",
     "text": [
      " 94%|█████████▍| 47/50 [23:39<01:31, 30.38s/it]"
     ]
    },
    {
     "name": "stdout",
     "output_type": "stream",
     "text": [
      "Iteration 47/50 - RMSE: 0.0513 - SIZE: 69.0 - MAE: 0.0316 - Time: 29.91s\n"
     ]
    },
    {
     "name": "stderr",
     "output_type": "stream",
     "text": [
      " 96%|█████████▌| 48/50 [24:09<01:00, 30.19s/it]"
     ]
    },
    {
     "name": "stdout",
     "output_type": "stream",
     "text": [
      "Iteration 48/50 - RMSE: 0.0360 - SIZE: 65.0 - MAE: 0.0265 - Time: 29.74s\n"
     ]
    },
    {
     "name": "stderr",
     "output_type": "stream",
     "text": [
      " 98%|█████████▊| 49/50 [24:38<00:29, 29.89s/it]"
     ]
    },
    {
     "name": "stdout",
     "output_type": "stream",
     "text": [
      "Iteration 49/50 - RMSE: 0.0322 - SIZE: 44.0 - MAE: 0.0235 - Time: 29.19s\n"
     ]
    },
    {
     "name": "stderr",
     "output_type": "stream",
     "text": [
      "100%|██████████| 50/50 [25:08<00:00, 30.18s/it]"
     ]
    },
    {
     "name": "stdout",
     "output_type": "stream",
     "text": [
      "Iteration 50/50 - RMSE: 0.0322 - SIZE: 57.0 - MAE: 0.0241 - Time: 29.87s\n"
     ]
    },
    {
     "name": "stderr",
     "output_type": "stream",
     "text": [
      "\n"
     ]
    }
   ],
   "source": [
    "with open('params/DA00/scsm_5.pkl', 'rb') as f:\n",
    "    params = pickle.load(f)['MUL_ABS']\n",
    "\n",
    "params.pop('simplify_threshold')\n",
    "X,y = datasets[0]()\n",
    "X_train, X_test, y_train, y_test = train_test_split(X, y, p_test=0.2, seed=60)\n",
    "\n",
    "rm, mp, ma, rm_c, mp_c, ma_c, time_stats, size, reps = test_slim(\n",
    "            X_train=X_train, y_train=y_train, X_test=X_test, y_test=y_test, \n",
    "            args_dict=params, dataset_name=name, verbose=1,\n",
    "            n_samples=50, n_elites=1, simplify_threshold=0.02,\n",
    "            # callbacks=[early_stopping],\n",
    "        )"
   ]
  },
  {
   "cell_type": "code",
   "execution_count": 268,
   "metadata": {},
   "outputs": [
    {
     "name": "stdout",
     "output_type": "stream",
     "text": [
      "╒════════════════════════╤═════════════════╤═════════════════╤══════════════╤═════════════════════╤══════════════════╤══════════════════╤══════════════╤═════════════════════╕\n",
      "│                        │ rmse_scsmsp_5   │ rmse_scsm_5     │   ratio_rmse │ rmse_significance   │ size_scsmsp_5    │ size_scsm_5      │   ratio_size │ size_significance   │\n",
      "╞════════════════════════╪═════════════════╪═════════════════╪══════════════╪═════════════════════╪══════════════════╪══════════════════╪══════════════╪═════════════════════╡\n",
      "│ resid_build_sale_price │ 0.0464 ± 0.0142 │ 0.0495 ± 0.0149 │       0.9374 │ NSD                 │ 94.58 ± 16.4512  │ 74.26 ± 12.8138  │       1.2736 │ ---                 │\n",
      "├────────────────────────┼─────────────────┼─────────────────┼──────────────┼─────────────────────┼──────────────────┼──────────────────┼──────────────┼─────────────────────┤\n",
      "│ concrete_slump         │ 0.2498 ± 0.0206 │ 0.2581 ± 0.0418 │       0.9679 │ NSD                 │ 86.42 ± 28.6043  │ 72.86 ± 4.8621   │       1.1861 │ --                  │\n",
      "├────────────────────────┼─────────────────┼─────────────────┼──────────────┼─────────────────────┼──────────────────┼──────────────────┼──────────────┼─────────────────────┤\n",
      "│ bike_sharing           │ 0.0162 ± 0.01   │ 0.0166 ± 0.0138 │       0.9730 │ NSD                 │ 76.52 ± 20.3217  │ 109.3 ± 9.4578   │       0.7001 │ +++                 │\n",
      "├────────────────────────┼─────────────────┼─────────────────┼──────────────┼─────────────────────┼──────────────────┼──────────────────┼──────────────┼─────────────────────┤\n",
      "│ ppb                    │ 0.3109 ± 0.0203 │ 0.3147 ± 0.0263 │       0.9881 │ NSD                 │ 81.96 ± 10.8719  │ 147.8 ± 20.1752  │       0.5545 │ +++                 │\n",
      "├────────────────────────┼─────────────────┼─────────────────┼──────────────┼─────────────────────┼──────────────────┼──────────────────┼──────────────┼─────────────────────┤\n",
      "│ bioav                  │ 0.3231 ± 0.012  │ 0.3257 ± 0.0124 │       0.9922 │ NSD                 │ 48.68 ± 16.7719  │ 76.5 ± 5.866     │       0.6363 │ +++                 │\n",
      "├────────────────────────┼─────────────────┼─────────────────┼──────────────┼─────────────────────┼──────────────────┼──────────────────┼──────────────┼─────────────────────┤\n",
      "│ forest_fires           │ 0.2185 ± 0.0022 │ 0.2174 ± 0.0036 │       1.0052 │ -                   │ 12.88 ± 3.7981   │ 61.22 ± 5.2241   │       0.2104 │ +++                 │\n",
      "├────────────────────────┼─────────────────┼─────────────────┼──────────────┼─────────────────────┼──────────────────┼──────────────────┼──────────────┼─────────────────────┤\n",
      "│ diabetes               │ 0.1721 ± 0.0048 │ 0.1709 ± 0.0038 │       1.0075 │ NSD                 │ 71.34 ± 19.291   │ 112.3 ± 6.7978   │       0.6353 │ +++                 │\n",
      "├────────────────────────┼─────────────────┼─────────────────┼──────────────┼─────────────────────┼──────────────────┼──────────────────┼──────────────┼─────────────────────┤\n",
      "│ ld50                   │ 0.2406 ± 0.0114 │ 0.2371 ± 0.0164 │       1.0146 │ NSD                 │ 50.34 ± 21.785   │ 28.36 ± 21.61    │       1.7750 │ ---                 │\n",
      "├────────────────────────┼─────────────────┼─────────────────┼──────────────┼─────────────────────┼──────────────────┼──────────────────┼──────────────┼─────────────────────┤\n",
      "│ breast_cancer          │ 0.2199 ± 0.019  │ 0.216 ± 0.0184  │       1.0181 │ NSD                 │ 132.68 ± 33.0009 │ 126.26 ± 12.464  │       1.0508 │ NSD                 │\n",
      "├────────────────────────┼─────────────────┼─────────────────┼──────────────┼─────────────────────┼──────────────────┼──────────────────┼──────────────┼─────────────────────┤\n",
      "│ istanbul               │ 0.077 ± 0.0057  │ 0.0754 ± 0.0055 │       1.0211 │ -                   │ 79.28 ± 22.0119  │ 101.6 ± 18.4684  │       0.7803 │ +++                 │\n",
      "├────────────────────────┼─────────────────┼─────────────────┼──────────────┼─────────────────────┼──────────────────┼──────────────────┼──────────────┼─────────────────────┤\n",
      "│ airfoil                │ 0.1192 ± 0.0083 │ 0.1157 ± 0.0082 │       1.0297 │ -                   │ 106.0 ± 25.5961  │ 190.6 ± 30.7461  │       0.5561 │ +++                 │\n",
      "├────────────────────────┼─────────────────┼─────────────────┼──────────────┼─────────────────────┼──────────────────┼──────────────────┼──────────────┼─────────────────────┤\n",
      "│ efficiency_heating     │ 0.0621 ± 0.0111 │ 0.0603 ± 0.0093 │       1.0297 │ NSD                 │ 211.78 ± 41.2006 │ 235.6 ± 39.1275  │       0.8989 │ ++                  │\n",
      "├────────────────────────┼─────────────────┼─────────────────┼──────────────┼─────────────────────┼──────────────────┼──────────────────┼──────────────┼─────────────────────┤\n",
      "│ boston                 │ 0.1422 ± 0.0176 │ 0.1355 ± 0.0173 │       1.0493 │ NSD                 │ 64.26 ± 11.5097  │ 148.68 ± 21.6697 │       0.4322 │ +++                 │\n",
      "├────────────────────────┼─────────────────┼─────────────────┼──────────────┼─────────────────────┼──────────────────┼──────────────────┼──────────────┼─────────────────────┤\n",
      "│ concrete_strength      │ 0.1151 ± 0.01   │ 0.1093 ± 0.0081 │       1.0534 │ -                   │ 119.16 ± 16.7802 │ 179.22 ± 11.8748 │       0.6649 │ +++                 │\n",
      "├────────────────────────┼─────────────────┼─────────────────┼──────────────┼─────────────────────┼──────────────────┼──────────────────┼──────────────┼─────────────────────┤\n",
      "│ efficiency_cooling     │ 0.0774 ± 0.0055 │ 0.0671 ± 0.0058 │       1.1529 │ ---                 │ 66.74 ± 15.0064  │ 196.12 ± 19.4439 │       0.3403 │ +++                 │\n",
      "╘════════════════════════╧═════════════════╧═════════════════╧══════════════╧═════════════════════╧══════════════════╧══════════════════╧══════════════╧═════════════════════╛\n"
     ]
    }
   ],
   "source": [
    "means_df(prefixes=['scsmsp_5', 'scsm_5'],\n",
    "         best=True, rmse_compare=False, decimals=4, table=True)"
   ]
  },
  {
   "cell_type": "code",
   "execution_count": 190,
   "metadata": {},
   "outputs": [
    {
     "data": {
      "text/html": [
       "<div>\n",
       "<style scoped>\n",
       "    .dataframe tbody tr th:only-of-type {\n",
       "        vertical-align: middle;\n",
       "    }\n",
       "\n",
       "    .dataframe tbody tr th {\n",
       "        vertical-align: top;\n",
       "    }\n",
       "\n",
       "    .dataframe thead th {\n",
       "        text-align: right;\n",
       "    }\n",
       "</style>\n",
       "<table border=\"1\" class=\"dataframe\">\n",
       "  <thead>\n",
       "    <tr style=\"text-align: right;\">\n",
       "      <th></th>\n",
       "      <th></th>\n",
       "      <th>rmse_scsm_4</th>\n",
       "      <th>rmse_sc_4</th>\n",
       "      <th>size_scsm_4</th>\n",
       "      <th>size_sc_4</th>\n",
       "      <th>ratio_rmse</th>\n",
       "      <th>ratio_size</th>\n",
       "      <th>rmse_significance</th>\n",
       "      <th>size_significance</th>\n",
       "    </tr>\n",
       "    <tr>\n",
       "      <th>Dataset</th>\n",
       "      <th>Algorithm</th>\n",
       "      <th></th>\n",
       "      <th></th>\n",
       "      <th></th>\n",
       "      <th></th>\n",
       "      <th></th>\n",
       "      <th></th>\n",
       "      <th></th>\n",
       "      <th></th>\n",
       "    </tr>\n",
       "  </thead>\n",
       "  <tbody>\n",
       "    <tr>\n",
       "      <th rowspan=\"3\" valign=\"top\">bike_sharing</th>\n",
       "      <th>MUL_SIG2</th>\n",
       "      <td>0.0290</td>\n",
       "      <td>0.0857</td>\n",
       "      <td>156.86</td>\n",
       "      <td>47.24</td>\n",
       "      <td>0.3383</td>\n",
       "      <td>3.3205</td>\n",
       "      <td>+++</td>\n",
       "      <td>---</td>\n",
       "    </tr>\n",
       "    <tr>\n",
       "      <th>MUL_SIG1</th>\n",
       "      <td>0.0229</td>\n",
       "      <td>0.0566</td>\n",
       "      <td>97.44</td>\n",
       "      <td>135.82</td>\n",
       "      <td>0.4054</td>\n",
       "      <td>0.7174</td>\n",
       "      <td>+++</td>\n",
       "      <td>++</td>\n",
       "    </tr>\n",
       "    <tr>\n",
       "      <th>SUM_SIG1</th>\n",
       "      <td>0.0245</td>\n",
       "      <td>0.0519</td>\n",
       "      <td>74.26</td>\n",
       "      <td>98.78</td>\n",
       "      <td>0.4710</td>\n",
       "      <td>0.7518</td>\n",
       "      <td>+++</td>\n",
       "      <td>+++</td>\n",
       "    </tr>\n",
       "    <tr>\n",
       "      <th>resid_build_sale_price</th>\n",
       "      <th>MUL_SIG1</th>\n",
       "      <td>0.0470</td>\n",
       "      <td>0.0856</td>\n",
       "      <td>109.94</td>\n",
       "      <td>31.30</td>\n",
       "      <td>0.5497</td>\n",
       "      <td>3.5125</td>\n",
       "      <td>+++</td>\n",
       "      <td>---</td>\n",
       "    </tr>\n",
       "    <tr>\n",
       "      <th>efficiency_heating</th>\n",
       "      <th>MUL_SIG2</th>\n",
       "      <td>0.0781</td>\n",
       "      <td>0.1251</td>\n",
       "      <td>162.50</td>\n",
       "      <td>17.04</td>\n",
       "      <td>0.6242</td>\n",
       "      <td>9.5364</td>\n",
       "      <td>+++</td>\n",
       "      <td>---</td>\n",
       "    </tr>\n",
       "    <tr>\n",
       "      <th>...</th>\n",
       "      <th>...</th>\n",
       "      <td>...</td>\n",
       "      <td>...</td>\n",
       "      <td>...</td>\n",
       "      <td>...</td>\n",
       "      <td>...</td>\n",
       "      <td>...</td>\n",
       "      <td>...</td>\n",
       "      <td>...</td>\n",
       "    </tr>\n",
       "    <tr>\n",
       "      <th>breast_cancer</th>\n",
       "      <th>SUM_SIG1</th>\n",
       "      <td>0.3082</td>\n",
       "      <td>0.2777</td>\n",
       "      <td>157.56</td>\n",
       "      <td>322.76</td>\n",
       "      <td>1.1098</td>\n",
       "      <td>0.4882</td>\n",
       "      <td>---</td>\n",
       "      <td>+++</td>\n",
       "    </tr>\n",
       "    <tr>\n",
       "      <th>ld50</th>\n",
       "      <th>MUL_SIG1</th>\n",
       "      <td>0.2475</td>\n",
       "      <td>0.2225</td>\n",
       "      <td>50.74</td>\n",
       "      <td>46.90</td>\n",
       "      <td>1.1124</td>\n",
       "      <td>1.0819</td>\n",
       "      <td>NSD</td>\n",
       "      <td>--</td>\n",
       "    </tr>\n",
       "    <tr>\n",
       "      <th>bioav</th>\n",
       "      <th>MUL_SIG1</th>\n",
       "      <td>0.3584</td>\n",
       "      <td>0.3215</td>\n",
       "      <td>49.90</td>\n",
       "      <td>30.26</td>\n",
       "      <td>1.1149</td>\n",
       "      <td>1.6490</td>\n",
       "      <td>NSD</td>\n",
       "      <td>---</td>\n",
       "    </tr>\n",
       "    <tr>\n",
       "      <th>ld50</th>\n",
       "      <th>MUL_ABS</th>\n",
       "      <td>0.2703</td>\n",
       "      <td>0.2229</td>\n",
       "      <td>61.88</td>\n",
       "      <td>17.24</td>\n",
       "      <td>1.2126</td>\n",
       "      <td>3.5893</td>\n",
       "      <td>NSD</td>\n",
       "      <td>---</td>\n",
       "    </tr>\n",
       "    <tr>\n",
       "      <th>resid_build_sale_price</th>\n",
       "      <th>MUL_ABS</th>\n",
       "      <td>0.1084</td>\n",
       "      <td>0.0743</td>\n",
       "      <td>141.90</td>\n",
       "      <td>110.94</td>\n",
       "      <td>1.4579</td>\n",
       "      <td>1.2791</td>\n",
       "      <td>---</td>\n",
       "      <td>--</td>\n",
       "    </tr>\n",
       "  </tbody>\n",
       "</table>\n",
       "<p>90 rows × 8 columns</p>\n",
       "</div>"
      ],
      "text/plain": [
       "                                  rmse_scsm_4  rmse_sc_4  size_scsm_4  \\\n",
       "Dataset                Algorithm                                        \n",
       "bike_sharing           MUL_SIG2        0.0290     0.0857       156.86   \n",
       "                       MUL_SIG1        0.0229     0.0566        97.44   \n",
       "                       SUM_SIG1        0.0245     0.0519        74.26   \n",
       "resid_build_sale_price MUL_SIG1        0.0470     0.0856       109.94   \n",
       "efficiency_heating     MUL_SIG2        0.0781     0.1251       162.50   \n",
       "...                                       ...        ...          ...   \n",
       "breast_cancer          SUM_SIG1        0.3082     0.2777       157.56   \n",
       "ld50                   MUL_SIG1        0.2475     0.2225        50.74   \n",
       "bioav                  MUL_SIG1        0.3584     0.3215        49.90   \n",
       "ld50                   MUL_ABS         0.2703     0.2229        61.88   \n",
       "resid_build_sale_price MUL_ABS         0.1084     0.0743       141.90   \n",
       "\n",
       "                                  size_sc_4  ratio_rmse  ratio_size  \\\n",
       "Dataset                Algorithm                                      \n",
       "bike_sharing           MUL_SIG2       47.24      0.3383      3.3205   \n",
       "                       MUL_SIG1      135.82      0.4054      0.7174   \n",
       "                       SUM_SIG1       98.78      0.4710      0.7518   \n",
       "resid_build_sale_price MUL_SIG1       31.30      0.5497      3.5125   \n",
       "efficiency_heating     MUL_SIG2       17.04      0.6242      9.5364   \n",
       "...                                     ...         ...         ...   \n",
       "breast_cancer          SUM_SIG1      322.76      1.1098      0.4882   \n",
       "ld50                   MUL_SIG1       46.90      1.1124      1.0819   \n",
       "bioav                  MUL_SIG1       30.26      1.1149      1.6490   \n",
       "ld50                   MUL_ABS        17.24      1.2126      3.5893   \n",
       "resid_build_sale_price MUL_ABS       110.94      1.4579      1.2791   \n",
       "\n",
       "                                 rmse_significance size_significance  \n",
       "Dataset                Algorithm                                      \n",
       "bike_sharing           MUL_SIG2                +++               ---  \n",
       "                       MUL_SIG1                +++                ++  \n",
       "                       SUM_SIG1                +++               +++  \n",
       "resid_build_sale_price MUL_SIG1                +++               ---  \n",
       "efficiency_heating     MUL_SIG2                +++               ---  \n",
       "...                                            ...               ...  \n",
       "breast_cancer          SUM_SIG1                ---               +++  \n",
       "ld50                   MUL_SIG1                NSD                --  \n",
       "bioav                  MUL_SIG1                NSD               ---  \n",
       "ld50                   MUL_ABS                 NSD               ---  \n",
       "resid_build_sale_price MUL_ABS                 ---                --  \n",
       "\n",
       "[90 rows x 8 columns]"
      ]
     },
     "execution_count": 190,
     "metadata": {},
     "output_type": "execute_result"
    }
   ],
   "source": [
    "means_df(prefixes=['scsm_3', 'sc_3'],\n",
    "         best=False, rmse_compare=False, decimals=4, table=False)"
   ]
  },
  {
   "cell_type": "code",
   "execution_count": 197,
   "metadata": {},
   "outputs": [
    {
     "data": {
      "text/plain": [
       "size_significance\n",
       "+++    61\n",
       "---    11\n",
       "NSD    10\n",
       "+       3\n",
       "-       3\n",
       "++      2\n",
       "Name: count, dtype: int64"
      ]
     },
     "execution_count": 197,
     "metadata": {},
     "output_type": "execute_result"
    }
   ],
   "source": [
    "means_df(prefixes=['scsmsp_4', 'scsm_4'],\n",
    "         best=False, rmse_compare=False, decimals=4, table=False).value_counts('size_significance')"
   ]
  },
  {
   "cell_type": "code",
   "execution_count": 193,
   "metadata": {},
   "outputs": [
    {
     "data": {
      "text/html": [
       "<div>\n",
       "<style scoped>\n",
       "    .dataframe tbody tr th:only-of-type {\n",
       "        vertical-align: middle;\n",
       "    }\n",
       "\n",
       "    .dataframe tbody tr th {\n",
       "        vertical-align: top;\n",
       "    }\n",
       "\n",
       "    .dataframe thead th {\n",
       "        text-align: right;\n",
       "    }\n",
       "</style>\n",
       "<table border=\"1\" class=\"dataframe\">\n",
       "  <thead>\n",
       "    <tr style=\"text-align: right;\">\n",
       "      <th></th>\n",
       "      <th>rmse_scsm_4</th>\n",
       "      <th>rmse_sc_4</th>\n",
       "      <th>ratio_rmse</th>\n",
       "      <th>rmse_significance</th>\n",
       "      <th>size_scsm_4</th>\n",
       "      <th>size_sc_4</th>\n",
       "      <th>ratio_size</th>\n",
       "      <th>size_significance</th>\n",
       "    </tr>\n",
       "  </thead>\n",
       "  <tbody>\n",
       "    <tr>\n",
       "      <th>bike_sharing</th>\n",
       "      <td>0.0229</td>\n",
       "      <td>0.0428</td>\n",
       "      <td>0.5359</td>\n",
       "      <td>+++</td>\n",
       "      <td>97.44</td>\n",
       "      <td>128.62</td>\n",
       "      <td>0.7576</td>\n",
       "      <td>+++</td>\n",
       "    </tr>\n",
       "    <tr>\n",
       "      <th>resid_build_sale_price</th>\n",
       "      <td>0.0451</td>\n",
       "      <td>0.0578</td>\n",
       "      <td>0.7805</td>\n",
       "      <td>++</td>\n",
       "      <td>208.32</td>\n",
       "      <td>113.90</td>\n",
       "      <td>1.8290</td>\n",
       "      <td>---</td>\n",
       "    </tr>\n",
       "    <tr>\n",
       "      <th>boston</th>\n",
       "      <td>0.1344</td>\n",
       "      <td>0.1498</td>\n",
       "      <td>0.8971</td>\n",
       "      <td>+++</td>\n",
       "      <td>191.88</td>\n",
       "      <td>88.26</td>\n",
       "      <td>2.1740</td>\n",
       "      <td>---</td>\n",
       "    </tr>\n",
       "    <tr>\n",
       "      <th>efficiency_cooling</th>\n",
       "      <td>0.0828</td>\n",
       "      <td>0.0920</td>\n",
       "      <td>0.9006</td>\n",
       "      <td>+++</td>\n",
       "      <td>177.12</td>\n",
       "      <td>230.64</td>\n",
       "      <td>0.7680</td>\n",
       "      <td>+++</td>\n",
       "    </tr>\n",
       "    <tr>\n",
       "      <th>efficiency_heating</th>\n",
       "      <td>0.0737</td>\n",
       "      <td>0.0812</td>\n",
       "      <td>0.9074</td>\n",
       "      <td>+</td>\n",
       "      <td>152.86</td>\n",
       "      <td>84.00</td>\n",
       "      <td>1.8198</td>\n",
       "      <td>---</td>\n",
       "    </tr>\n",
       "    <tr>\n",
       "      <th>airfoil</th>\n",
       "      <td>0.1210</td>\n",
       "      <td>0.1284</td>\n",
       "      <td>0.9424</td>\n",
       "      <td>+++</td>\n",
       "      <td>181.12</td>\n",
       "      <td>88.64</td>\n",
       "      <td>2.0433</td>\n",
       "      <td>---</td>\n",
       "    </tr>\n",
       "    <tr>\n",
       "      <th>istanbul</th>\n",
       "      <td>0.0761</td>\n",
       "      <td>0.0782</td>\n",
       "      <td>0.9727</td>\n",
       "      <td>+</td>\n",
       "      <td>75.92</td>\n",
       "      <td>43.96</td>\n",
       "      <td>1.7270</td>\n",
       "      <td>---</td>\n",
       "    </tr>\n",
       "    <tr>\n",
       "      <th>bioav</th>\n",
       "      <td>0.3168</td>\n",
       "      <td>0.3215</td>\n",
       "      <td>0.9856</td>\n",
       "      <td>NSD</td>\n",
       "      <td>18.16</td>\n",
       "      <td>30.26</td>\n",
       "      <td>0.6001</td>\n",
       "      <td>+++</td>\n",
       "    </tr>\n",
       "    <tr>\n",
       "      <th>forest_fires</th>\n",
       "      <td>0.2332</td>\n",
       "      <td>0.2364</td>\n",
       "      <td>0.9865</td>\n",
       "      <td>NSD</td>\n",
       "      <td>88.74</td>\n",
       "      <td>16.88</td>\n",
       "      <td>5.2571</td>\n",
       "      <td>---</td>\n",
       "    </tr>\n",
       "    <tr>\n",
       "      <th>diabetes</th>\n",
       "      <td>0.1799</td>\n",
       "      <td>0.1820</td>\n",
       "      <td>0.9880</td>\n",
       "      <td>NSD</td>\n",
       "      <td>103.38</td>\n",
       "      <td>159.74</td>\n",
       "      <td>0.6472</td>\n",
       "      <td>+++</td>\n",
       "    </tr>\n",
       "    <tr>\n",
       "      <th>concrete_slump</th>\n",
       "      <td>0.2628</td>\n",
       "      <td>0.2631</td>\n",
       "      <td>0.9989</td>\n",
       "      <td>NSD</td>\n",
       "      <td>60.54</td>\n",
       "      <td>131.10</td>\n",
       "      <td>0.4618</td>\n",
       "      <td>+++</td>\n",
       "    </tr>\n",
       "    <tr>\n",
       "      <th>ppb</th>\n",
       "      <td>0.3087</td>\n",
       "      <td>0.3058</td>\n",
       "      <td>1.0095</td>\n",
       "      <td>NSD</td>\n",
       "      <td>16.68</td>\n",
       "      <td>16.88</td>\n",
       "      <td>0.9882</td>\n",
       "      <td>NSD</td>\n",
       "    </tr>\n",
       "    <tr>\n",
       "      <th>concrete_strength</th>\n",
       "      <td>0.1138</td>\n",
       "      <td>0.1116</td>\n",
       "      <td>1.0196</td>\n",
       "      <td>NSD</td>\n",
       "      <td>102.50</td>\n",
       "      <td>205.88</td>\n",
       "      <td>0.4979</td>\n",
       "      <td>+++</td>\n",
       "    </tr>\n",
       "    <tr>\n",
       "      <th>ld50</th>\n",
       "      <td>0.2273</td>\n",
       "      <td>0.2225</td>\n",
       "      <td>1.0217</td>\n",
       "      <td>-</td>\n",
       "      <td>64.78</td>\n",
       "      <td>46.90</td>\n",
       "      <td>1.3812</td>\n",
       "      <td>---</td>\n",
       "    </tr>\n",
       "    <tr>\n",
       "      <th>breast_cancer</th>\n",
       "      <td>0.2955</td>\n",
       "      <td>0.2777</td>\n",
       "      <td>1.0641</td>\n",
       "      <td>-</td>\n",
       "      <td>134.00</td>\n",
       "      <td>322.76</td>\n",
       "      <td>0.4152</td>\n",
       "      <td>+++</td>\n",
       "    </tr>\n",
       "  </tbody>\n",
       "</table>\n",
       "</div>"
      ],
      "text/plain": [
       "                        rmse_scsm_4  rmse_sc_4  ratio_rmse rmse_significance  \\\n",
       "bike_sharing                 0.0229     0.0428      0.5359               +++   \n",
       "resid_build_sale_price       0.0451     0.0578      0.7805                ++   \n",
       "boston                       0.1344     0.1498      0.8971               +++   \n",
       "efficiency_cooling           0.0828     0.0920      0.9006               +++   \n",
       "efficiency_heating           0.0737     0.0812      0.9074                 +   \n",
       "airfoil                      0.1210     0.1284      0.9424               +++   \n",
       "istanbul                     0.0761     0.0782      0.9727                 +   \n",
       "bioav                        0.3168     0.3215      0.9856               NSD   \n",
       "forest_fires                 0.2332     0.2364      0.9865               NSD   \n",
       "diabetes                     0.1799     0.1820      0.9880               NSD   \n",
       "concrete_slump               0.2628     0.2631      0.9989               NSD   \n",
       "ppb                          0.3087     0.3058      1.0095               NSD   \n",
       "concrete_strength            0.1138     0.1116      1.0196               NSD   \n",
       "ld50                         0.2273     0.2225      1.0217                 -   \n",
       "breast_cancer                0.2955     0.2777      1.0641                 -   \n",
       "\n",
       "                        size_scsm_4  size_sc_4  ratio_size size_significance  \n",
       "bike_sharing                  97.44     128.62      0.7576               +++  \n",
       "resid_build_sale_price       208.32     113.90      1.8290               ---  \n",
       "boston                       191.88      88.26      2.1740               ---  \n",
       "efficiency_cooling           177.12     230.64      0.7680               +++  \n",
       "efficiency_heating           152.86      84.00      1.8198               ---  \n",
       "airfoil                      181.12      88.64      2.0433               ---  \n",
       "istanbul                      75.92      43.96      1.7270               ---  \n",
       "bioav                         18.16      30.26      0.6001               +++  \n",
       "forest_fires                  88.74      16.88      5.2571               ---  \n",
       "diabetes                     103.38     159.74      0.6472               +++  \n",
       "concrete_slump                60.54     131.10      0.4618               +++  \n",
       "ppb                           16.68      16.88      0.9882               NSD  \n",
       "concrete_strength            102.50     205.88      0.4979               +++  \n",
       "ld50                          64.78      46.90      1.3812               ---  \n",
       "breast_cancer                134.00     322.76      0.4152               +++  "
      ]
     },
     "execution_count": 193,
     "metadata": {},
     "output_type": "execute_result"
    }
   ],
   "source": [
    "means_df(prefixes=['scsm_4', 'sc_4'],\n",
    "         best=True, rmse_compare=False, decimals=4, table=False)"
   ]
  },
  {
   "cell_type": "code",
   "execution_count": 240,
   "metadata": {},
   "outputs": [
    {
     "data": {
      "text/html": [
       "<div>\n",
       "<style scoped>\n",
       "    .dataframe tbody tr th:only-of-type {\n",
       "        vertical-align: middle;\n",
       "    }\n",
       "\n",
       "    .dataframe tbody tr th {\n",
       "        vertical-align: top;\n",
       "    }\n",
       "\n",
       "    .dataframe thead th {\n",
       "        text-align: right;\n",
       "    }\n",
       "</style>\n",
       "<table border=\"1\" class=\"dataframe\">\n",
       "  <thead>\n",
       "    <tr style=\"text-align: right;\">\n",
       "      <th></th>\n",
       "      <th>rmse_scsm</th>\n",
       "      <th>rmse_sc</th>\n",
       "      <th>ratio_rmse</th>\n",
       "      <th>rmse_significance</th>\n",
       "      <th>size_scsm</th>\n",
       "      <th>size_sc</th>\n",
       "      <th>ratio_size</th>\n",
       "      <th>size_significance</th>\n",
       "    </tr>\n",
       "  </thead>\n",
       "  <tbody>\n",
       "    <tr>\n",
       "      <th>bike_sharing</th>\n",
       "      <td>0.0217</td>\n",
       "      <td>0.0291</td>\n",
       "      <td>0.7434</td>\n",
       "      <td>+</td>\n",
       "      <td>92.3333</td>\n",
       "      <td>183.9333</td>\n",
       "      <td>0.5020</td>\n",
       "      <td>+++</td>\n",
       "    </tr>\n",
       "    <tr>\n",
       "      <th>resid_build_sale_price</th>\n",
       "      <td>0.0371</td>\n",
       "      <td>0.0449</td>\n",
       "      <td>0.8268</td>\n",
       "      <td>++</td>\n",
       "      <td>91.6667</td>\n",
       "      <td>247.6667</td>\n",
       "      <td>0.3701</td>\n",
       "      <td>+++</td>\n",
       "    </tr>\n",
       "    <tr>\n",
       "      <th>concrete_strength</th>\n",
       "      <td>0.0924</td>\n",
       "      <td>0.1086</td>\n",
       "      <td>0.8507</td>\n",
       "      <td>+++</td>\n",
       "      <td>206.8333</td>\n",
       "      <td>167.5000</td>\n",
       "      <td>1.2348</td>\n",
       "      <td>---</td>\n",
       "    </tr>\n",
       "    <tr>\n",
       "      <th>boston</th>\n",
       "      <td>0.0853</td>\n",
       "      <td>0.0960</td>\n",
       "      <td>0.8888</td>\n",
       "      <td>++</td>\n",
       "      <td>92.1000</td>\n",
       "      <td>183.0667</td>\n",
       "      <td>0.5031</td>\n",
       "      <td>+++</td>\n",
       "    </tr>\n",
       "    <tr>\n",
       "      <th>airfoil</th>\n",
       "      <td>0.1184</td>\n",
       "      <td>0.1304</td>\n",
       "      <td>0.9077</td>\n",
       "      <td>++</td>\n",
       "      <td>98.0333</td>\n",
       "      <td>168.2000</td>\n",
       "      <td>0.5828</td>\n",
       "      <td>+++</td>\n",
       "    </tr>\n",
       "    <tr>\n",
       "      <th>concrete_slump</th>\n",
       "      <td>0.2689</td>\n",
       "      <td>0.2896</td>\n",
       "      <td>0.9286</td>\n",
       "      <td>+</td>\n",
       "      <td>90.7333</td>\n",
       "      <td>86.1333</td>\n",
       "      <td>1.0534</td>\n",
       "      <td>NSD</td>\n",
       "    </tr>\n",
       "    <tr>\n",
       "      <th>bioav</th>\n",
       "      <td>0.2485</td>\n",
       "      <td>0.2635</td>\n",
       "      <td>0.9431</td>\n",
       "      <td>+</td>\n",
       "      <td>98.3667</td>\n",
       "      <td>97.2333</td>\n",
       "      <td>1.0117</td>\n",
       "      <td>NSD</td>\n",
       "    </tr>\n",
       "    <tr>\n",
       "      <th>ppb</th>\n",
       "      <td>0.2622</td>\n",
       "      <td>0.2692</td>\n",
       "      <td>0.9737</td>\n",
       "      <td>NSD</td>\n",
       "      <td>94.9333</td>\n",
       "      <td>89.0667</td>\n",
       "      <td>1.0659</td>\n",
       "      <td>NSD</td>\n",
       "    </tr>\n",
       "    <tr>\n",
       "      <th>breast_cancer</th>\n",
       "      <td>0.2393</td>\n",
       "      <td>0.2420</td>\n",
       "      <td>0.9889</td>\n",
       "      <td>NSD</td>\n",
       "      <td>96.3000</td>\n",
       "      <td>163.0333</td>\n",
       "      <td>0.5907</td>\n",
       "      <td>+++</td>\n",
       "    </tr>\n",
       "    <tr>\n",
       "      <th>istanbul</th>\n",
       "      <td>0.0626</td>\n",
       "      <td>0.0633</td>\n",
       "      <td>0.9895</td>\n",
       "      <td>NSD</td>\n",
       "      <td>91.0333</td>\n",
       "      <td>148.9667</td>\n",
       "      <td>0.6111</td>\n",
       "      <td>+++</td>\n",
       "    </tr>\n",
       "    <tr>\n",
       "      <th>diabetes</th>\n",
       "      <td>0.1638</td>\n",
       "      <td>0.1640</td>\n",
       "      <td>0.9983</td>\n",
       "      <td>NSD</td>\n",
       "      <td>185.9667</td>\n",
       "      <td>160.8667</td>\n",
       "      <td>1.1560</td>\n",
       "      <td>---</td>\n",
       "    </tr>\n",
       "    <tr>\n",
       "      <th>forest_fires</th>\n",
       "      <td>0.2169</td>\n",
       "      <td>0.2171</td>\n",
       "      <td>0.9991</td>\n",
       "      <td>NSD</td>\n",
       "      <td>95.7000</td>\n",
       "      <td>90.8667</td>\n",
       "      <td>1.0532</td>\n",
       "      <td>NSD</td>\n",
       "    </tr>\n",
       "    <tr>\n",
       "      <th>ld50</th>\n",
       "      <td>0.1987</td>\n",
       "      <td>0.1960</td>\n",
       "      <td>1.0138</td>\n",
       "      <td>NSD</td>\n",
       "      <td>182.5667</td>\n",
       "      <td>84.0000</td>\n",
       "      <td>2.1734</td>\n",
       "      <td>---</td>\n",
       "    </tr>\n",
       "    <tr>\n",
       "      <th>efficiency_cooling</th>\n",
       "      <td>0.0714</td>\n",
       "      <td>0.0705</td>\n",
       "      <td>1.0138</td>\n",
       "      <td>NSD</td>\n",
       "      <td>174.9333</td>\n",
       "      <td>278.6667</td>\n",
       "      <td>0.6278</td>\n",
       "      <td>+++</td>\n",
       "    </tr>\n",
       "    <tr>\n",
       "      <th>efficiency_heating</th>\n",
       "      <td>0.0685</td>\n",
       "      <td>0.0648</td>\n",
       "      <td>1.0568</td>\n",
       "      <td>NSD</td>\n",
       "      <td>97.3333</td>\n",
       "      <td>182.0667</td>\n",
       "      <td>0.5346</td>\n",
       "      <td>+++</td>\n",
       "    </tr>\n",
       "  </tbody>\n",
       "</table>\n",
       "</div>"
      ],
      "text/plain": [
       "                        rmse_scsm  rmse_sc  ratio_rmse rmse_significance  \\\n",
       "bike_sharing               0.0217   0.0291      0.7434                 +   \n",
       "resid_build_sale_price     0.0371   0.0449      0.8268                ++   \n",
       "concrete_strength          0.0924   0.1086      0.8507               +++   \n",
       "boston                     0.0853   0.0960      0.8888                ++   \n",
       "airfoil                    0.1184   0.1304      0.9077                ++   \n",
       "concrete_slump             0.2689   0.2896      0.9286                 +   \n",
       "bioav                      0.2485   0.2635      0.9431                 +   \n",
       "ppb                        0.2622   0.2692      0.9737               NSD   \n",
       "breast_cancer              0.2393   0.2420      0.9889               NSD   \n",
       "istanbul                   0.0626   0.0633      0.9895               NSD   \n",
       "diabetes                   0.1638   0.1640      0.9983               NSD   \n",
       "forest_fires               0.2169   0.2171      0.9991               NSD   \n",
       "ld50                       0.1987   0.1960      1.0138               NSD   \n",
       "efficiency_cooling         0.0714   0.0705      1.0138               NSD   \n",
       "efficiency_heating         0.0685   0.0648      1.0568               NSD   \n",
       "\n",
       "                        size_scsm   size_sc  ratio_size size_significance  \n",
       "bike_sharing              92.3333  183.9333      0.5020               +++  \n",
       "resid_build_sale_price    91.6667  247.6667      0.3701               +++  \n",
       "concrete_strength        206.8333  167.5000      1.2348               ---  \n",
       "boston                    92.1000  183.0667      0.5031               +++  \n",
       "airfoil                   98.0333  168.2000      0.5828               +++  \n",
       "concrete_slump            90.7333   86.1333      1.0534               NSD  \n",
       "bioav                     98.3667   97.2333      1.0117               NSD  \n",
       "ppb                       94.9333   89.0667      1.0659               NSD  \n",
       "breast_cancer             96.3000  163.0333      0.5907               +++  \n",
       "istanbul                  91.0333  148.9667      0.6111               +++  \n",
       "diabetes                 185.9667  160.8667      1.1560               ---  \n",
       "forest_fires              95.7000   90.8667      1.0532               NSD  \n",
       "ld50                     182.5667   84.0000      2.1734               ---  \n",
       "efficiency_cooling       174.9333  278.6667      0.6278               +++  \n",
       "efficiency_heating        97.3333  182.0667      0.5346               +++  "
      ]
     },
     "execution_count": 240,
     "metadata": {},
     "output_type": "execute_result"
    }
   ],
   "source": [
    "df = means_df(prefixes=['scsm', 'sc'],\n",
    "         best=True, rmse_compare=False, decimals=4, table=False)\n",
    "\n",
    "df"
   ]
  },
  {
   "cell_type": "code",
   "execution_count": 49,
   "metadata": {},
   "outputs": [],
   "source": [
    "df = means_df(prefixes=['scsm', 'sc'],\n",
    "         best=False, rmse_compare=False, decimals=4, table=False)\n",
    "\n",
    "# For each dataset, apply a scaler to the rmse_scsm and rmse_sc columns\n",
    "maxs = df.groupby('Dataset').max()[['rmse_scsm', 'rmse_sc']].max(axis=1)\n",
    "mins = df.groupby('Dataset').min()[['rmse_scsm', 'rmse_sc']].min(axis=1)\n",
    "df['rmse_scsm_scaled'] = (df['rmse_scsm'] - mins) / (maxs - mins)\n",
    "df['rmse_sc_scaled'] = (df['rmse_sc'] - mins) / (maxs - mins)\n",
    "\n",
    "# Scale the sizes\n",
    "maxs = df.groupby('Dataset').max()[['size_scsm', 'size_sc']].max(axis=1)\n",
    "mins = df.groupby('Dataset').min()[['size_scsm', 'size_sc']].min(axis=1)\n",
    "df['size_scsm_scaled'] = (df['size_scsm'] - mins) / (maxs - mins)\n",
    "df['size_sc_scaled'] = (df['size_sc'] - mins) / (maxs - mins)\n",
    "\n",
    "# Create a score column\n",
    "df['score_scsm'] = df['rmse_scsm_scaled'] + 0.5 * df['size_scsm_scaled']\n",
    "df['score_sc'] = df['rmse_sc_scaled'] + 0.5 * df['size_sc_scaled']\n",
    "\n",
    "# Drop the scaled columns\n",
    "df.drop(columns=['rmse_scsm_scaled', 'rmse_sc_scaled', 'size_scsm_scaled', 'size_sc_scaled'], inplace=True)"
   ]
  },
  {
   "cell_type": "code",
   "execution_count": 56,
   "metadata": {},
   "outputs": [
    {
     "data": {
      "text/html": [
       "<div>\n",
       "<style scoped>\n",
       "    .dataframe tbody tr th:only-of-type {\n",
       "        vertical-align: middle;\n",
       "    }\n",
       "\n",
       "    .dataframe tbody tr th {\n",
       "        vertical-align: top;\n",
       "    }\n",
       "\n",
       "    .dataframe thead th {\n",
       "        text-align: right;\n",
       "    }\n",
       "</style>\n",
       "<table border=\"1\" class=\"dataframe\">\n",
       "  <thead>\n",
       "    <tr style=\"text-align: right;\">\n",
       "      <th></th>\n",
       "      <th></th>\n",
       "      <th>rmse_scsm</th>\n",
       "      <th>rmse_sc</th>\n",
       "      <th>size_scsm</th>\n",
       "      <th>size_sc</th>\n",
       "      <th>ratio_rmse</th>\n",
       "      <th>ratio_size</th>\n",
       "      <th>score_scsm</th>\n",
       "      <th>score_sc</th>\n",
       "      <th>scsm_better</th>\n",
       "    </tr>\n",
       "    <tr>\n",
       "      <th>Dataset</th>\n",
       "      <th>Algorithm</th>\n",
       "      <th></th>\n",
       "      <th></th>\n",
       "      <th></th>\n",
       "      <th></th>\n",
       "      <th></th>\n",
       "      <th></th>\n",
       "      <th></th>\n",
       "      <th></th>\n",
       "      <th></th>\n",
       "    </tr>\n",
       "  </thead>\n",
       "  <tbody>\n",
       "    <tr>\n",
       "      <th rowspan=\"4\" valign=\"top\">bike_sharing</th>\n",
       "      <th>SUM_SIG2</th>\n",
       "      <td>0.0269</td>\n",
       "      <td>0.0580</td>\n",
       "      <td>85.7000</td>\n",
       "      <td>150.0000</td>\n",
       "      <td>0.4628</td>\n",
       "      <td>0.5713</td>\n",
       "      <td>0.167079</td>\n",
       "      <td>1.226552</td>\n",
       "      <td>True</td>\n",
       "    </tr>\n",
       "    <tr>\n",
       "      <th>MUL_ABS</th>\n",
       "      <td>0.0341</td>\n",
       "      <td>0.0627</td>\n",
       "      <td>86.8333</td>\n",
       "      <td>77.1000</td>\n",
       "      <td>0.5429</td>\n",
       "      <td>1.1262</td>\n",
       "      <td>0.347993</td>\n",
       "      <td>1.000000</td>\n",
       "      <td>True</td>\n",
       "    </tr>\n",
       "    <tr>\n",
       "      <th>MUL_SIG2</th>\n",
       "      <td>0.0225</td>\n",
       "      <td>0.0405</td>\n",
       "      <td>87.0333</td>\n",
       "      <td>80.3000</td>\n",
       "      <td>0.5555</td>\n",
       "      <td>1.0839</td>\n",
       "      <td>0.066002</td>\n",
       "      <td>0.473513</td>\n",
       "      <td>True</td>\n",
       "    </tr>\n",
       "    <tr>\n",
       "      <th>MUL_SIG1</th>\n",
       "      <td>0.0299</td>\n",
       "      <td>0.0528</td>\n",
       "      <td>90.0667</td>\n",
       "      <td>150.0333</td>\n",
       "      <td>0.5663</td>\n",
       "      <td>0.6003</td>\n",
       "      <td>0.260687</td>\n",
       "      <td>1.099878</td>\n",
       "      <td>True</td>\n",
       "    </tr>\n",
       "    <tr>\n",
       "      <th>ppb</th>\n",
       "      <th>MUL_SIG1</th>\n",
       "      <td>0.2841</td>\n",
       "      <td>0.4905</td>\n",
       "      <td>91.8000</td>\n",
       "      <td>181.4333</td>\n",
       "      <td>0.5793</td>\n",
       "      <td>0.5060</td>\n",
       "      <td>0.119997</td>\n",
       "      <td>1.500000</td>\n",
       "      <td>True</td>\n",
       "    </tr>\n",
       "    <tr>\n",
       "      <th>...</th>\n",
       "      <th>...</th>\n",
       "      <td>...</td>\n",
       "      <td>...</td>\n",
       "      <td>...</td>\n",
       "      <td>...</td>\n",
       "      <td>...</td>\n",
       "      <td>...</td>\n",
       "      <td>...</td>\n",
       "      <td>...</td>\n",
       "      <td>...</td>\n",
       "    </tr>\n",
       "    <tr>\n",
       "      <th>istanbul</th>\n",
       "      <th>MUL_SIG1</th>\n",
       "      <td>0.0738</td>\n",
       "      <td>0.0633</td>\n",
       "      <td>91.7000</td>\n",
       "      <td>148.9667</td>\n",
       "      <td>1.1668</td>\n",
       "      <td>0.6156</td>\n",
       "      <td>1.052737</td>\n",
       "      <td>0.497525</td>\n",
       "      <td>False</td>\n",
       "    </tr>\n",
       "    <tr>\n",
       "      <th>efficiency_cooling</th>\n",
       "      <th>SUM_ABS</th>\n",
       "      <td>0.0847</td>\n",
       "      <td>0.0705</td>\n",
       "      <td>95.1000</td>\n",
       "      <td>278.6667</td>\n",
       "      <td>1.2018</td>\n",
       "      <td>0.3413</td>\n",
       "      <td>0.531005</td>\n",
       "      <td>0.500000</td>\n",
       "      <td>False</td>\n",
       "    </tr>\n",
       "    <tr>\n",
       "      <th rowspan=\"3\" valign=\"top\">ppb</th>\n",
       "      <th>SUM_ABS</th>\n",
       "      <td>0.3847</td>\n",
       "      <td>0.2692</td>\n",
       "      <td>87.3667</td>\n",
       "      <td>89.0667</td>\n",
       "      <td>1.4288</td>\n",
       "      <td>0.9809</td>\n",
       "      <td>0.537106</td>\n",
       "      <td>0.040219</td>\n",
       "      <td>False</td>\n",
       "    </tr>\n",
       "    <tr>\n",
       "      <th>SUM_SIG1</th>\n",
       "      <td>0.4478</td>\n",
       "      <td>0.2730</td>\n",
       "      <td>89.7000</td>\n",
       "      <td>172.9000</td>\n",
       "      <td>1.6402</td>\n",
       "      <td>0.5188</td>\n",
       "      <td>0.825886</td>\n",
       "      <td>0.501997</td>\n",
       "      <td>False</td>\n",
       "    </tr>\n",
       "    <tr>\n",
       "      <th>MUL_ABS</th>\n",
       "      <td>0.4868</td>\n",
       "      <td>0.2816</td>\n",
       "      <td>99.0000</td>\n",
       "      <td>87.2667</td>\n",
       "      <td>1.7288</td>\n",
       "      <td>1.1345</td>\n",
       "      <td>1.046094</td>\n",
       "      <td>0.084976</td>\n",
       "      <td>False</td>\n",
       "    </tr>\n",
       "  </tbody>\n",
       "</table>\n",
       "<p>90 rows × 9 columns</p>\n",
       "</div>"
      ],
      "text/plain": [
       "                              rmse_scsm  rmse_sc  size_scsm   size_sc  \\\n",
       "Dataset            Algorithm                                            \n",
       "bike_sharing       SUM_SIG2      0.0269   0.0580    85.7000  150.0000   \n",
       "                   MUL_ABS       0.0341   0.0627    86.8333   77.1000   \n",
       "                   MUL_SIG2      0.0225   0.0405    87.0333   80.3000   \n",
       "                   MUL_SIG1      0.0299   0.0528    90.0667  150.0333   \n",
       "ppb                MUL_SIG1      0.2841   0.4905    91.8000  181.4333   \n",
       "...                                 ...      ...        ...       ...   \n",
       "istanbul           MUL_SIG1      0.0738   0.0633    91.7000  148.9667   \n",
       "efficiency_cooling SUM_ABS       0.0847   0.0705    95.1000  278.6667   \n",
       "ppb                SUM_ABS       0.3847   0.2692    87.3667   89.0667   \n",
       "                   SUM_SIG1      0.4478   0.2730    89.7000  172.9000   \n",
       "                   MUL_ABS       0.4868   0.2816    99.0000   87.2667   \n",
       "\n",
       "                              ratio_rmse  ratio_size  score_scsm  score_sc  \\\n",
       "Dataset            Algorithm                                                 \n",
       "bike_sharing       SUM_SIG2       0.4628      0.5713    0.167079  1.226552   \n",
       "                   MUL_ABS        0.5429      1.1262    0.347993  1.000000   \n",
       "                   MUL_SIG2       0.5555      1.0839    0.066002  0.473513   \n",
       "                   MUL_SIG1       0.5663      0.6003    0.260687  1.099878   \n",
       "ppb                MUL_SIG1       0.5793      0.5060    0.119997  1.500000   \n",
       "...                                  ...         ...         ...       ...   \n",
       "istanbul           MUL_SIG1       1.1668      0.6156    1.052737  0.497525   \n",
       "efficiency_cooling SUM_ABS        1.2018      0.3413    0.531005  0.500000   \n",
       "ppb                SUM_ABS        1.4288      0.9809    0.537106  0.040219   \n",
       "                   SUM_SIG1       1.6402      0.5188    0.825886  0.501997   \n",
       "                   MUL_ABS        1.7288      1.1345    1.046094  0.084976   \n",
       "\n",
       "                              scsm_better  \n",
       "Dataset            Algorithm               \n",
       "bike_sharing       SUM_SIG2          True  \n",
       "                   MUL_ABS           True  \n",
       "                   MUL_SIG2          True  \n",
       "                   MUL_SIG1          True  \n",
       "ppb                MUL_SIG1          True  \n",
       "...                                   ...  \n",
       "istanbul           MUL_SIG1         False  \n",
       "efficiency_cooling SUM_ABS          False  \n",
       "ppb                SUM_ABS          False  \n",
       "                   SUM_SIG1         False  \n",
       "                   MUL_ABS          False  \n",
       "\n",
       "[90 rows x 9 columns]"
      ]
     },
     "execution_count": 56,
     "metadata": {},
     "output_type": "execute_result"
    }
   ],
   "source": [
    "# Get, for each dataset the best algorithm\n",
    "best_indices = df.groupby('Dataset')[['score_scsm', 'score_sc']].idxmin().values.flatten()\n",
    "best_df = df.loc[best_indices]\n",
    "\n",
    "# For which datasets is scsm better than sc? Youll need to pivot the table\n",
    "df"
   ]
  },
  {
   "cell_type": "markdown",
   "metadata": {},
   "source": [
    "### PARAMS"
   ]
  },
  {
   "cell_type": "code",
   "execution_count": null,
   "metadata": {},
   "outputs": [],
   "source": []
  }
 ],
 "metadata": {
  "kernelspec": {
   "display_name": ".venv",
   "language": "python",
   "name": "python3"
  },
  "language_info": {
   "codemirror_mode": {
    "name": "ipython",
    "version": 3
   },
   "file_extension": ".py",
   "mimetype": "text/x-python",
   "name": "python",
   "nbconvert_exporter": "python",
   "pygments_lexer": "ipython3",
   "version": "3.11.3"
  }
 },
 "nbformat": 4,
 "nbformat_minor": 2
}
