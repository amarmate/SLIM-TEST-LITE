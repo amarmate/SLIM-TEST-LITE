{
 "cells": [
  {
   "cell_type": "code",
   "execution_count": 1,
   "metadata": {},
   "outputs": [],
   "source": [
    "from slim_gsgp_lib_np.main_slim import slim\n",
    "from slim_gsgp_lib_np.utils.utils import train_test_split\n",
    "from slim_gsgp_lib_np.utils.callbacks import *\n",
    "from slim_gsgp_lib_np.evaluators.fitness_functions import rmse\n",
    "from matplotlib.colors import LinearSegmentedColormap\n",
    "import numpy as np\n",
    "import time\n",
    "import os\n",
    "from tqdm import tqdm\n",
    "from functions.test_funcs import mape, nrmse, r_squared, mae, standardized_rmse\n",
    "from matplotlib import pyplot as plt\n",
    "from slim_gsgp_lib_np.algorithms.SLIM_GSGP.operators.mutators import *\n",
    "from slim_gsgp_lib_np.algorithms.SLIM_GSGP.operators.simplifiers import *\n",
    "from slim_gsgp_lib_np.datasets.data_loader import *\n",
    "from sklearn.preprocessing import MinMaxScaler\n",
    "from scipy.spatial.distance import pdist, squareform\n",
    "from slim_gsgp_lib_np.selection.selection_algorithms import tournament_selection_min\n",
    "\n",
    "datasets = [globals()[i] for i in globals() if 'load' in i][2:]\n",
    "\n",
    "os.environ[\"OMP_NUM_THREADS\"] = \"1\"\n",
    "os.environ[\"MKL_NUM_THREADS\"] = \"1\"\n",
    "os.environ[\"NUMEXPR_NUM_THREADS\"] = \"1\"\n",
    "os.environ[\"OPENBLAS_NUM_THREADS\"] = \"1\"\n",
    "os.environ[\"VECLIB_MAXIMUM_THREADS\"] = \"1\"\n",
    "os.environ[\"BLIS_NUM_THREADS\"] = \"1\"\n",
    "\n",
    "from slim_gsgp_lib_np.main_gp import gp\n",
    "from slim_gsgp_lib_np.algorithms.GP.representations.tree import Tree\n",
    "\n",
    "# -------------------------- # \n",
    "from slim_gsgp_lib_np.utils.utils import check_slim_version\n",
    "# from slim_gsgp_lib_np.algorithms.MULTI_SLIM.representations.tree import Tree\n",
    "from slim_gsgp_lib_np.algorithms.MULTI_SLIM.representations.condition import Condition\n",
    "from slim_gsgp_lib_np.algorithms.MULTI_SLIM.representations.population import Population    \n",
    "from slim_gsgp_lib_np.algorithms.MULTI_SLIM.representations.tree_utils import *\n",
    "from slim_gsgp_lib_np.algorithms.MULTI_SLIM.operators.mutators import *\n",
    "from slim_gsgp_lib_np.algorithms.MULTI_SLIM.operators.xo import *"
   ]
  },
  {
   "cell_type": "code",
   "execution_count": 109,
   "metadata": {},
   "outputs": [],
   "source": [
    "X, y = datasets[0]()\n",
    "X_train, X_test, y_train, y_test = train_test_split(X, y, p_test=0.2)\n",
    "seed = 10\n",
    "\n",
    "elite, gp_pop = gp(X_train=X_train, y_train=y_train, full_return=True, test_elite=False, dataset_name='',\n",
    "                       selector='tournament', n_iter=1000, pop_size=100, \n",
    "                       max_depth=8, init_depth=3, p_xo=0.8, down_sampling=0.8, seed=seed, verbose=0,\n",
    "                       )"
   ]
  },
  {
   "cell_type": "code",
   "execution_count": null,
   "metadata": {},
   "outputs": [],
   "source": [
    "from slim_gsgp_lib_np.utils.utils import (\n",
    "        get_subtree,\n",
    "        create_grow_random_tree,\n",
    "        swap_sub_tree,\n",
    "    )\n",
    "\n",
    "from slim_gsgp_lib_np.algorithms.GP.representations.tree_utils import get_indices_with_levels\n",
    "\n",
    "\n",
    "def mutate_tree_subtree_dc(max_depth, TERMINALS, CONSTANTS, FUNCTIONS, p_c, p_t):\n",
    "    \"\"\"\n",
    "    Returns a function to perform subtree mutation with depth constraint.\n",
    "\n",
    "    Parameters\n",
    "    ----------\n",
    "    max_depth : int\n",
    "        Maximum depth of the resulting tree after mutation.\n",
    "    TERMINALS, CONSTANTS, FUNCTIONS : dict\n",
    "        Sets of elements allowed in the trees.\n",
    "    p_c : float\n",
    "        Probability of selecting a constant during random tree creation.\n",
    "    p_t : float\n",
    "        Probability of selecting a terminal during random tree creation.\n",
    "\n",
    "    Returns\n",
    "    -------\n",
    "    Callable\n",
    "        A mutation function that respects tree depth limits.\n",
    "    \"\"\"\n",
    "\n",
    "    def inner_mut(tree1):\n",
    "        if not isinstance(tree1, tuple):\n",
    "            return tree1\n",
    "\n",
    "        indices_with_levels = get_indices_with_levels(tree1)\n",
    "        level = random.choice(list(indices_with_levels.keys()))\n",
    "        index = random.choice(indices_with_levels[level])\n",
    "\n",
    "        max_depth_new_subtree = max_depth - level - 1 \n",
    "\n",
    "        if max_depth_new_subtree < 1:\n",
    "            if random.random() < p_c: \n",
    "                new_subtree = random.choice(list(CONSTANTS.values()))\n",
    "            else: \n",
    "                new_subtree = random.choice(list(TERMINALS.values()))\n",
    "\n",
    "        else: \n",
    "            new_subtree = create_grow_random_tree(\n",
    "                depth=max_depth_new_subtree,\n",
    "                FUNCTIONS=FUNCTIONS,\n",
    "                TERMINALS=TERMINALS,\n",
    "                CONSTANTS=CONSTANTS,\n",
    "                p_c=p_c,\n",
    "                p_t=p_t,\n",
    "            )\n",
    "\n",
    "        return swap_sub_tree(tree1, new_subtree, list(index))\n",
    "\n",
    "    return inner_mut"
   ]
  },
  {
   "cell_type": "code",
   "execution_count": null,
   "metadata": {},
   "outputs": [],
   "source": [
    "mut_op = mutate_tree_subtree_dc(\n",
    "    max_depth=8,\n",
    "    TERMINALS=gp_pop[0].TERMINALS,\n",
    "    CONSTANTS=gp_pop[0].CONSTANTS,\n",
    "    FUNCTIONS=gp_pop[0].FUNCTIONS,\n",
    "    p_c=0.7,\n",
    "    p_t=0.7,\n",
    ")"
   ]
  },
  {
   "cell_type": "code",
   "execution_count": 104,
   "metadata": {},
   "outputs": [
    {
     "data": {
      "text/plain": [
       "(np.str_('divide'), ('add', 'x62', 'x71'), ('add', 'x78', 'x21'))"
      ]
     },
     "execution_count": 104,
     "metadata": {},
     "output_type": "execute_result"
    }
   ],
   "source": [
    "gp_pop[3].repr_"
   ]
  },
  {
   "cell_type": "code",
   "execution_count": 105,
   "metadata": {},
   "outputs": [
    {
     "name": "stdout",
     "output_type": "stream",
     "text": [
      "2\n",
      "7\n",
      "4\n",
      "3\n",
      "2\n"
     ]
    }
   ],
   "source": [
    "mut_obj_1 = mut_op(gp_pop[3].repr_)\n",
    "print(Tree(mut_obj_1).depth)\n",
    "mut_obj_2 = mut_op(mut_obj_1)\n",
    "print(Tree(mut_obj_2).depth)\n",
    "mut_obj_3 = mut_op(mut_obj_2)\n",
    "print(Tree(mut_obj_3).depth)\n",
    "mut_obj_4 = mut_op(mut_obj_3)\n",
    "print(Tree(mut_obj_4).depth)\n",
    "mut_obj_5 = mut_op(mut_obj_4)\n",
    "print(Tree(mut_obj_5).depth)"
   ]
  },
  {
   "cell_type": "code",
   "execution_count": 106,
   "metadata": {},
   "outputs": [
    {
     "name": "stderr",
     "output_type": "stream",
     "text": [
      "100%|██████████| 10000/10000 [00:03<00:00, 2698.41it/s]\n"
     ]
    }
   ],
   "source": [
    "depths = []\n",
    "for i in tqdm(range(10000)): \n",
    "    temp_tree = gp_pop[0].repr_\n",
    "    for j in range(30): \n",
    "        temp_tree = mut_op(temp_tree)\n",
    "\n",
    "    depth = Tree(temp_tree).depth\n",
    "    depths.append(depth)"
   ]
  },
  {
   "cell_type": "code",
   "execution_count": 107,
   "metadata": {},
   "outputs": [
    {
     "data": {
      "image/png": "[encoded data removed]",
      "text/plain": [
       "<Figure size 1000x600 with 1 Axes>"
      ]
     },
     "metadata": {},
     "output_type": "display_data"
    }
   ],
   "source": [
    "# Plot the distribution of depths\n",
    "plt.figure(figsize=(10, 6))\n",
    "plt.hist(depths, bins=30, color='blue', alpha=0.7)\n",
    "plt.title('Distribution of Tree Depths after Mutation')\n",
    "plt.xlabel('Tree Depth')\n",
    "plt.ylabel('Frequency')\n",
    "plt.grid(axis='y', alpha=0.75)\n",
    "plt.show()"
   ]
  },
  {
   "cell_type": "code",
   "execution_count": null,
   "metadata": {},
   "outputs": [],
   "source": [
    "def mutate_tree_point(TERMINALS, CONSTANTS, FUNCTIONS, p_c, p_t):\n",
    "    \"\"\"\n",
    "    Returns a function to perform point mutation on a tree.\n",
    "\n",
    "    This mutation replaces a randomly selected node (function or terminal)\n",
    "    with another of the same type and arity.\n",
    "\n",
    "    Parameters\n",
    "    ----------\n",
    "    TERMINALS, CONSTANTS, FUNCTIONS : dict\n",
    "        Sets of elements allowed in the trees.\n",
    "    p_c : float\n",
    "        Probability of choosing a constant for terminal mutation.\n",
    "    p_t : float\n",
    "        Probability of choosing a terminal (vs. function) for mutation.\n",
    "\n",
    "    Returns\n",
    "    -------\n",
    "    Callable\n",
    "        A mutation function that performs point mutation.\n",
    "    \"\"\"\n",
    "    def inner_mut(tree1):\n",
    "        if not isinstance(tree1, tuple):\n",
    "            return tree1\n",
    "\n",
    "        indices_with_levels = get_indices_with_levels(tree1)\n",
    "        all_indices = [index for indices in indices_with_levels.values() for index in indices]\n",
    "        index = random.choice(all_indices)\n",
    "        subtree = get_subtree(tree1, list(index))\n",
    "\n",
    "        # Point mutation depends on what kind of node we hit\n",
    "        if isinstance(subtree, tuple):\n",
    "            func, left, right = subtree\n",
    "            # Replace with a different function (same arity)\n",
    "            possible_funcs = [f for f in FUNCTIONS if f != func and FUNCTIONS[f][0] == FUNCTIONS[func][0]]\n",
    "            if not possible_funcs:\n",
    "                return tree1  # No replacement possible\n",
    "            new_func = random.choice(possible_funcs)\n",
    "            new_subtree = (new_func, left, right)\n",
    "\n",
    "        else:\n",
    "            # It's a terminal or constant\n",
    "            if subtree in TERMINALS.values():\n",
    "                possible_terms = [v for v in TERMINALS.values() if v != subtree]\n",
    "                if not possible_terms:\n",
    "                    return tree1\n",
    "                new_terminal = random.choice(possible_terms)\n",
    "                new_subtree = new_terminal\n",
    "            elif subtree in CONSTANTS.values():\n",
    "                possible_consts = [v for v in CONSTANTS.values() if v != subtree]\n",
    "                if not possible_consts:\n",
    "                    return tree1\n",
    "                new_subtree = random.choice(possible_consts)\n",
    "            else:\n",
    "                # fallback: random terminal\n",
    "                if random.random() < p_c:\n",
    "                    new_subtree = random.choice(list(CONSTANTS.values()))\n",
    "                else:\n",
    "                    new_subtree = random.choice(list(TERMINALS.values()))\n",
    "\n",
    "        return swap_sub_tree(tree1, new_subtree, list(index))\n",
    "\n",
    "    return inner_mut\n"
   ]
  },
  {
   "cell_type": "code",
   "execution_count": 2,
   "metadata": {},
   "outputs": [
    {
     "ename": "AttributeError",
     "evalue": "'SLIM_GSGP' object has no attribute 'lex_rounds_history'",
     "output_type": "error",
     "traceback": [
      "\u001b[1;31m---------------------------------------------------------------------------\u001b[0m",
      "\u001b[1;31mAttributeError\u001b[0m                            Traceback (most recent call last)",
      "Cell \u001b[1;32mIn[2], line 18\u001b[0m\n\u001b[0;32m     12\u001b[0m seed \u001b[38;5;241m=\u001b[39m \u001b[38;5;241m2\u001b[39m\n\u001b[0;32m     14\u001b[0m \u001b[38;5;66;03m# agelog = LogAge()\u001b[39;00m\n\u001b[0;32m     15\u001b[0m \u001b[38;5;66;03m# divlog = LogDiversity()\u001b[39;00m\n\u001b[0;32m     16\u001b[0m \u001b[38;5;66;03m# early_stop = EarlyStopping_train(patience=2500)\u001b[39;00m\n\u001b[1;32m---> 18\u001b[0m example_tree, population \u001b[38;5;241m=\u001b[39m \u001b[43mslim\u001b[49m\u001b[43m(\u001b[49m\u001b[43mX_train\u001b[49m\u001b[38;5;241;43m=\u001b[39;49m\u001b[43mX_train\u001b[49m\u001b[43m,\u001b[49m\u001b[43m \u001b[49m\u001b[43my_train\u001b[49m\u001b[38;5;241;43m=\u001b[39;49m\u001b[43my_train\u001b[49m\u001b[43m,\u001b[49m\n\u001b[0;32m     19\u001b[0m \u001b[43m                    \u001b[49m\u001b[43mdataset_name\u001b[49m\u001b[38;5;241;43m=\u001b[39;49m\u001b[38;5;124;43m'\u001b[39;49m\u001b[38;5;124;43mtest\u001b[39;49m\u001b[38;5;124;43m'\u001b[39;49m\u001b[43m,\u001b[49m\u001b[43m \u001b[49m\u001b[43mtest_elite\u001b[49m\u001b[38;5;241;43m=\u001b[39;49m\u001b[38;5;28;43;01mFalse\u001b[39;49;00m\u001b[43m,\u001b[49m\u001b[43m \u001b[49m\u001b[43mslim_version\u001b[49m\u001b[38;5;241;43m=\u001b[39;49m\u001b[38;5;124;43m'\u001b[39;49m\u001b[38;5;124;43mSLIM*ABS\u001b[39;49m\u001b[38;5;124;43m'\u001b[39;49m\u001b[43m,\u001b[49m\u001b[43m \u001b[49m\u001b[38;5;66;43;03m# initializer='simple',\u001b[39;49;00m\n\u001b[0;32m     20\u001b[0m \u001b[43m                    \u001b[49m\u001b[43mmax_depth\u001b[49m\u001b[38;5;241;43m=\u001b[39;49m\u001b[38;5;241;43m15\u001b[39;49m\u001b[43m,\u001b[49m\u001b[43m \u001b[49m\u001b[43minit_depth\u001b[49m\u001b[38;5;241;43m=\u001b[39;49m\u001b[38;5;241;43m5\u001b[39;49m\u001b[43m,\u001b[49m\u001b[43m \u001b[49m\u001b[43mpop_size\u001b[49m\u001b[38;5;241;43m=\u001b[39;49m\u001b[38;5;241;43m100\u001b[39;49m\u001b[43m,\u001b[49m\u001b[43m \u001b[49m\u001b[43mn_iter\u001b[49m\u001b[38;5;241;43m=\u001b[39;49m\u001b[38;5;241;43m1000\u001b[39;49m\u001b[43m,\u001b[49m\u001b[43m \u001b[49m\u001b[43mseed\u001b[49m\u001b[38;5;241;43m=\u001b[39;49m\u001b[43mseed\u001b[49m\u001b[43m,\u001b[49m\u001b[43m \u001b[49m\u001b[43mverbose\u001b[49m\u001b[38;5;241;43m=\u001b[39;49m\u001b[38;5;241;43m1\u001b[39;49m\u001b[43m,\u001b[49m\n\u001b[0;32m     21\u001b[0m \u001b[43m                    \u001b[49m\u001b[43mp_inflate\u001b[49m\u001b[38;5;241;43m=\u001b[39;49m\u001b[38;5;241;43m0.3\u001b[39;49m\u001b[43m,\u001b[49m\u001b[43m \u001b[49m\u001b[43mp_struct\u001b[49m\u001b[38;5;241;43m=\u001b[39;49m\u001b[38;5;241;43m0.3\u001b[39;49m\u001b[43m,\u001b[49m\u001b[43m \u001b[49m\u001b[43mn_cases\u001b[49m\u001b[38;5;241;43m=\u001b[39;49m\u001b[38;5;241;43m100\u001b[39;49m\u001b[43m,\u001b[49m\n\u001b[0;32m     22\u001b[0m \u001b[43m                    \u001b[49m\u001b[43mprob_const\u001b[49m\u001b[38;5;241;43m=\u001b[39;49m\u001b[38;5;241;43m0.2\u001b[39;49m\u001b[43m,\u001b[49m\u001b[43m \u001b[49m\u001b[43mn_elites\u001b[49m\u001b[38;5;241;43m=\u001b[39;49m\u001b[38;5;241;43m1\u001b[39;49m\u001b[43m,\u001b[49m\u001b[43m \u001b[49m\u001b[43mselector\u001b[49m\u001b[38;5;241;43m=\u001b[39;49m\u001b[38;5;124;43m'\u001b[39;49m\u001b[38;5;124;43mdalex\u001b[39;49m\u001b[38;5;124;43m'\u001b[39;49m\u001b[43m,\u001b[49m\u001b[43m \u001b[49m\n\u001b[0;32m     23\u001b[0m \u001b[43m                    \u001b[49m\u001b[43mdecay_rate\u001b[49m\u001b[38;5;241;43m=\u001b[39;49m\u001b[38;5;241;43m0.2\u001b[39;49m\u001b[43m,\u001b[49m\u001b[43m \u001b[49m\u001b[43mp_xo\u001b[49m\u001b[38;5;241;43m=\u001b[39;49m\u001b[38;5;241;43m0\u001b[39;49m\u001b[43m,\u001b[49m\u001b[43m \u001b[49m\u001b[43mp_struct_xo\u001b[49m\u001b[38;5;241;43m=\u001b[39;49m\u001b[38;5;241;43m0\u001b[39;49m\u001b[43m,\u001b[49m\u001b[43m \u001b[49m\u001b[43mprob_terminal\u001b[49m\u001b[38;5;241;43m=\u001b[39;49m\u001b[38;5;241;43m0.7\u001b[39;49m\u001b[43m,\u001b[49m\n\u001b[0;32m     24\u001b[0m \u001b[43m                    \u001b[49m\u001b[38;5;66;43;03m# callbacks=[agelog, divlog, early_stop], \u001b[39;49;00m\n\u001b[0;32m     25\u001b[0m \u001b[43m                    \u001b[49m\u001b[43mmode\u001b[49m\u001b[38;5;241;43m=\u001b[39;49m\u001b[38;5;124;43m'\u001b[39;49m\u001b[38;5;124;43mexp\u001b[39;49m\u001b[38;5;124;43m'\u001b[39;49m\u001b[43m,\u001b[49m\u001b[43m \u001b[49m\u001b[43mtournament_size\u001b[49m\u001b[38;5;241;43m=\u001b[39;49m\u001b[38;5;241;43m2\u001b[39;49m\u001b[43m,\u001b[49m\u001b[43m \u001b[49m\u001b[43mfull_return\u001b[49m\u001b[38;5;241;43m=\u001b[39;49m\u001b[38;5;28;43;01mTrue\u001b[39;49;00m\u001b[43m,\u001b[49m\u001b[43m \u001b[49m\u001b[43mtimeout\u001b[49m\u001b[38;5;241;43m=\u001b[39;49m\u001b[38;5;241;43m200\u001b[39;49m\u001b[43m,\u001b[49m\n\u001b[0;32m     26\u001b[0m \u001b[43m    \u001b[49m\u001b[43m)\u001b[49m\n\u001b[0;32m     28\u001b[0m preds \u001b[38;5;241m=\u001b[39m example_tree\u001b[38;5;241m.\u001b[39mpredict(X_test)\n\u001b[0;32m     29\u001b[0m \u001b[38;5;28mprint\u001b[39m(\u001b[38;5;124m'\u001b[39m\u001b[38;5;124mRMSE:\u001b[39m\u001b[38;5;124m'\u001b[39m, rmse(preds, y_test))\n",
      "File \u001b[1;32mc:\\Users\\Mateus\\Documents\\Tese\\Codigo\\SLIM-TEST-LITE\\slim_gsgp_lib_np\\main_slim.py:333\u001b[0m, in \u001b[0;36mslim\u001b[1;34m(X_train, y_train, X_test, y_test, dataset_name, run_info, slim_version, pop_size, n_iter, elitism, n_elites, init_depth, ms_lower, ms_upper, p_inflate, p_struct, p_xo, decay_rate, mode, p_struct_xo, mut_xo_operator, selector, n_cases, log_path, seed, log_level, verbose, reconstruct, fitness_function, initializer, minimization, prob_const, prob_terminal, tree_functions, tree_constants, max_depth, tournament_size, test_elite, callbacks, timeout, full_return)\u001b[0m\n\u001b[0;32m    324\u001b[0m \u001b[38;5;66;03m# ================================\u001b[39;00m\n\u001b[0;32m    325\u001b[0m \u001b[38;5;66;03m#       Running the Algorithm\u001b[39;00m\n\u001b[0;32m    326\u001b[0m \u001b[38;5;66;03m# ================================\u001b[39;00m\n\u001b[0;32m    328\u001b[0m optimizer \u001b[38;5;241m=\u001b[39m SLIM_GSGP(\n\u001b[0;32m    329\u001b[0m     pi_init\u001b[38;5;241m=\u001b[39mslim_gsgp_pi_init,\n\u001b[0;32m    330\u001b[0m     \u001b[38;5;241m*\u001b[39m\u001b[38;5;241m*\u001b[39mslim_gsgp_parameters\n\u001b[0;32m    331\u001b[0m )\n\u001b[1;32m--> 333\u001b[0m \u001b[43moptimizer\u001b[49m\u001b[38;5;241;43m.\u001b[39;49m\u001b[43msolve\u001b[49m\u001b[43m(\u001b[49m\n\u001b[0;32m    334\u001b[0m \u001b[43m    \u001b[49m\u001b[43mX_train\u001b[49m\u001b[38;5;241;43m=\u001b[39;49m\u001b[43mX_train\u001b[49m\u001b[43m,\u001b[49m\n\u001b[0;32m    335\u001b[0m \u001b[43m    \u001b[49m\u001b[43mX_test\u001b[49m\u001b[38;5;241;43m=\u001b[39;49m\u001b[43mX_test\u001b[49m\u001b[43m,\u001b[49m\n\u001b[0;32m    336\u001b[0m \u001b[43m    \u001b[49m\u001b[43my_train\u001b[49m\u001b[38;5;241;43m=\u001b[39;49m\u001b[43my_train\u001b[49m\u001b[43m,\u001b[49m\n\u001b[0;32m    337\u001b[0m \u001b[43m    \u001b[49m\u001b[43my_test\u001b[49m\u001b[38;5;241;43m=\u001b[39;49m\u001b[43my_test\u001b[49m\u001b[43m,\u001b[49m\n\u001b[0;32m    338\u001b[0m \u001b[43m    \u001b[49m\u001b[43mcurr_dataset\u001b[49m\u001b[38;5;241;43m=\u001b[39;49m\u001b[43mdataset_name\u001b[49m\u001b[43m,\u001b[49m\n\u001b[0;32m    339\u001b[0m \u001b[43m    \u001b[49m\u001b[38;5;241;43m*\u001b[39;49m\u001b[38;5;241;43m*\u001b[39;49m\u001b[43mslim_gsgp_solve_parameters\u001b[49m\n\u001b[0;32m    340\u001b[0m \u001b[43m\u001b[49m\u001b[43m)\u001b[49m\n\u001b[0;32m    342\u001b[0m log_settings(\n\u001b[0;32m    343\u001b[0m     path\u001b[38;5;241m=\u001b[39mos\u001b[38;5;241m.\u001b[39mpath\u001b[38;5;241m.\u001b[39mjoin(os\u001b[38;5;241m.\u001b[39mgetcwd(), \u001b[38;5;124m\"\u001b[39m\u001b[38;5;124mlog\u001b[39m\u001b[38;5;124m\"\u001b[39m, \u001b[38;5;124m\"\u001b[39m\u001b[38;5;124mslim_settings.csv\u001b[39m\u001b[38;5;124m\"\u001b[39m),\n\u001b[0;32m    344\u001b[0m     settings_dict\u001b[38;5;241m=\u001b[39m[slim_gsgp_solve_parameters,\n\u001b[1;32m   (...)\u001b[0m\n\u001b[0;32m    348\u001b[0m     unique_run_id\u001b[38;5;241m=\u001b[39mUNIQUE_RUN_ID\n\u001b[0;32m    349\u001b[0m ) \u001b[38;5;28;01mif\u001b[39;00m log_level \u001b[38;5;241m>\u001b[39m \u001b[38;5;241m0\u001b[39m \u001b[38;5;28;01melse\u001b[39;00m \u001b[38;5;28;01mNone\u001b[39;00m\n\u001b[0;32m    351\u001b[0m optimizer\u001b[38;5;241m.\u001b[39melite\u001b[38;5;241m.\u001b[39mversion \u001b[38;5;241m=\u001b[39m slim_version\n",
      "File \u001b[1;32mc:\\Users\\Mateus\\Documents\\Tese\\Codigo\\SLIM-TEST-LITE\\slim_gsgp_lib_np\\algorithms\\SLIM_GSGP\\slim_gsgp.py:283\u001b[0m, in \u001b[0;36mSLIM_GSGP.solve\u001b[1;34m(self, X_train, X_test, y_train, y_test, curr_dataset, run_info, n_iter, elitism, log, verbose, test_elite, log_path, ffunction, max_depth, n_elites, reconstruct)\u001b[0m\n\u001b[0;32m    275\u001b[0m     \u001b[38;5;28mself\u001b[39m\u001b[38;5;241m.\u001b[39melite\u001b[38;5;241m.\u001b[39mtest_fitness \u001b[38;5;241m=\u001b[39m ffunction(pred_elite, y_test)\n\u001b[0;32m    276\u001b[0m     \u001b[38;5;66;03m# self.elite.calculate_semantics(X_test, testing=True)\u001b[39;00m\n\u001b[0;32m    277\u001b[0m     \u001b[38;5;66;03m# self.elite.evaluate(\u001b[39;00m\n\u001b[0;32m    278\u001b[0m     \u001b[38;5;66;03m#     ffunction, y=y_test, testing=True, operator=self.operator\u001b[39;00m\n\u001b[1;32m   (...)\u001b[0m\n\u001b[0;32m    281\u001b[0m \n\u001b[0;32m    282\u001b[0m \u001b[38;5;66;03m# Display and log results\u001b[39;00m\n\u001b[1;32m--> 283\u001b[0m \u001b[38;5;28;43mself\u001b[39;49m\u001b[38;5;241;43m.\u001b[39;49m\u001b[43mprint_results\u001b[49m\u001b[43m(\u001b[49m\u001b[38;5;241;43m0\u001b[39;49m\u001b[43m,\u001b[49m\u001b[43m \u001b[49m\u001b[43mstart\u001b[49m\u001b[43m,\u001b[49m\u001b[43m \u001b[49m\u001b[43mend\u001b[49m\u001b[43m)\u001b[49m \u001b[38;5;28;01mif\u001b[39;00m verbose \u001b[38;5;241m>\u001b[39m \u001b[38;5;241m0\u001b[39m \u001b[38;5;28;01melse\u001b[39;00m \u001b[38;5;28;01mNone\u001b[39;00m\n\u001b[0;32m    284\u001b[0m \u001b[38;5;28mself\u001b[39m\u001b[38;5;241m.\u001b[39mlog_results(\u001b[38;5;241m0\u001b[39m, start, end)\n\u001b[0;32m    286\u001b[0m \u001b[38;5;66;03m# Run callbacks\u001b[39;00m\n",
      "File \u001b[1;32mc:\\Users\\Mateus\\Documents\\Tese\\Codigo\\SLIM-TEST-LITE\\slim_gsgp_lib_np\\algorithms\\SLIM_GSGP\\slim_gsgp.py:548\u001b[0m, in \u001b[0;36mSLIM_GSGP.print_results\u001b[1;34m(self, iteration, start, end)\u001b[0m\n\u001b[0;32m    528\u001b[0m \u001b[38;5;28;01mdef\u001b[39;00m \u001b[38;5;21mprint_results\u001b[39m(\u001b[38;5;28mself\u001b[39m, iteration, start, end):\n\u001b[0;32m    529\u001b[0m             stats_data \u001b[38;5;241m=\u001b[39m {\n\u001b[0;32m    530\u001b[0m                 \u001b[38;5;124m\"\u001b[39m\u001b[38;5;124mdataset\u001b[39m\u001b[38;5;124m\"\u001b[39m: \u001b[38;5;28mself\u001b[39m\u001b[38;5;241m.\u001b[39mdataset,\n\u001b[0;32m    531\u001b[0m                 \u001b[38;5;124m\"\u001b[39m\u001b[38;5;124mit\u001b[39m\u001b[38;5;124m\"\u001b[39m: iteration,\n\u001b[1;32m   (...)\u001b[0m\n\u001b[0;32m    545\u001b[0m                 \u001b[38;5;124m\"\u001b[39m\u001b[38;5;124mxo\u001b[39m\u001b[38;5;124m\"\u001b[39m: \u001b[38;5;124mf\u001b[39m\u001b[38;5;124m\"\u001b[39m\u001b[38;5;132;01m{\u001b[39;00mnp\u001b[38;5;241m.\u001b[39mround(\u001b[38;5;241m1000\u001b[39m\u001b[38;5;241m*\u001b[39mnp\u001b[38;5;241m.\u001b[39mmean([\u001b[38;5;28mself\u001b[39m\u001b[38;5;241m.\u001b[39mtime_dict[\u001b[38;5;124m'\u001b[39m\u001b[38;5;124mxo\u001b[39m\u001b[38;5;124m'\u001b[39m]]),\u001b[38;5;241m2\u001b[39m)\u001b[38;5;250m \u001b[39m\u001b[38;5;28;01mif\u001b[39;00m\u001b[38;5;250m \u001b[39m\u001b[38;5;28mself\u001b[39m\u001b[38;5;241m.\u001b[39mtime_dict[\u001b[38;5;124m'\u001b[39m\u001b[38;5;124mxo\u001b[39m\u001b[38;5;124m'\u001b[39m]\u001b[38;5;250m \u001b[39m\u001b[38;5;241m!=\u001b[39m\u001b[38;5;250m \u001b[39m[]\u001b[38;5;250m \u001b[39m\u001b[38;5;28;01melse\u001b[39;00m\u001b[38;5;250m \u001b[39m\u001b[38;5;124m'\u001b[39m\u001b[38;5;124mN/A\u001b[39m\u001b[38;5;124m'\u001b[39m\u001b[38;5;132;01m}\u001b[39;00m\u001b[38;5;124m (\u001b[39m\u001b[38;5;132;01m{\u001b[39;00m\u001b[38;5;28mlen\u001b[39m(\u001b[38;5;28mself\u001b[39m\u001b[38;5;241m.\u001b[39mtime_dict[\u001b[38;5;124m'\u001b[39m\u001b[38;5;124mxo\u001b[39m\u001b[38;5;124m'\u001b[39m])\u001b[38;5;132;01m}\u001b[39;00m\u001b[38;5;124m)\u001b[39m\u001b[38;5;124m\"\u001b[39m,\n\u001b[0;32m    546\u001b[0m             }\n\u001b[1;32m--> 548\u001b[0m             \u001b[38;5;28;01mif\u001b[39;00m \u001b[38;5;28;43mself\u001b[39;49m\u001b[38;5;241;43m.\u001b[39;49m\u001b[43mlex_rounds_history\u001b[49m:\n\u001b[0;32m    549\u001b[0m                 stats_data[\u001b[38;5;124m\"\u001b[39m\u001b[38;5;124mlex_r\u001b[39m\u001b[38;5;124m\"\u001b[39m] \u001b[38;5;241m=\u001b[39m np\u001b[38;5;241m.\u001b[39mmean(\u001b[38;5;28mself\u001b[39m\u001b[38;5;241m.\u001b[39mlex_rounds_history)\n\u001b[0;32m    551\u001b[0m             \u001b[38;5;28mself\u001b[39m\u001b[38;5;241m.\u001b[39mverbose_reporter(\n\u001b[0;32m    552\u001b[0m                 stats_data,\n\u001b[0;32m    553\u001b[0m                 col_width\u001b[38;5;241m=\u001b[39m\u001b[38;5;241m14\u001b[39m,\n\u001b[0;32m    554\u001b[0m                 first\u001b[38;5;241m=\u001b[39miteration \u001b[38;5;241m==\u001b[39m \u001b[38;5;241m0\u001b[39m,\n\u001b[0;32m    555\u001b[0m             )\n",
      "\u001b[1;31mAttributeError\u001b[0m: 'SLIM_GSGP' object has no attribute 'lex_rounds_history'"
     ]
    }
   ],
   "source": [
    "X, y = datasets[2]()\n",
    "X_train, X_test, y_train, y_test = train_test_split(X, y, p_test=0.2)\n",
    "# X_train = MinMaxScaler().fit_transform(X_train)\n",
    "# X_test = MinMaxScaler().fit_transform(X_test)\n",
    "# y_train = MinMaxScaler().fit_transform(y_train.reshape(-1, 1)).ravel()\n",
    "# y_test = MinMaxScaler().fit_transform(y_test.reshape(-1, 1)).ravel()\n",
    "\n",
    "# X = np.random.rand(20, 2)\n",
    "# y = np.random.rand(20)\n",
    "# X_train, X_test, y_train, y_test = train_test_split(X, y, p_test=0.2)\n",
    "\n",
    "seed = 2\n",
    "\n",
    "# agelog = LogAge()\n",
    "# divlog = LogDiversity()\n",
    "# early_stop = EarlyStopping_train(patience=2500)\n",
    "\n",
    "example_tree, population = slim(X_train=X_train, y_train=y_train,\n",
    "                    dataset_name='test', test_elite=False, slim_version='SLIM*ABS', # initializer='simple',\n",
    "                    max_depth=15, init_depth=5, pop_size=100, n_iter=1000, seed=seed, verbose=1,\n",
    "                    p_inflate=0.3, p_struct=0.3, n_cases=100,\n",
    "                    prob_const=0.2, n_elites=1, selector='dalex', \n",
    "                    decay_rate=0.2, p_xo=0, p_struct_xo=0, prob_terminal=0.7,\n",
    "                    # callbacks=[agelog, divlog, early_stop], \n",
    "                    mode='exp', tournament_size=2, full_return=True, timeout=200,\n",
    "    )\n",
    "\n",
    "preds = example_tree.predict(X_test)\n",
    "print('RMSE:', rmse(preds, y_test))\n",
    "\n",
    "for ind in population.population:\n",
    "    ind.version = example_tree.version\n",
    "    ind.train_semantics = ind.predict(X_train)\n",
    "    ind.test_semantics = ind.predict(X_test)\n",
    "\n",
    "FUNCTIONS = example_tree.collection[0].FUNCTIONS\n",
    "TERMINALS = example_tree.collection[0].TERMINALS\n",
    "CONSTANTS = example_tree.collection[0].CONSTANTS\n",
    "SPECIALISTS = {f'S_{i}' : ind for i, ind in enumerate(population.population) if i<5}\n",
    "Tree.FUNCTIONS = FUNCTIONS\n",
    "Tree.TERMINALS = TERMINALS\n",
    "Tree.CONSTANTS = CONSTANTS\n",
    "Tree.SPECIALISTS = SPECIALISTS\n",
    "Condition.FUNCTIONS = FUNCTIONS\n",
    "Condition.TERMINALS = TERMINALS\n",
    "Condition.CONSTANTS = CONSTANTS"
   ]
  },
  {
   "cell_type": "code",
   "execution_count": 3,
   "metadata": {},
   "outputs": [
    {
     "name": "stdout",
     "output_type": "stream",
     "text": [
      "S_0\n"
     ]
    }
   ],
   "source": [
    "collection = create_random_tree(2, 2, FUNCTIONS, TERMINALS, CONSTANTS, SPECIALISTS)\n",
    "tree = Tree(collection)\n",
    "print(tree.collection)"
   ]
  },
  {
   "cell_type": "code",
   "execution_count": null,
   "metadata": {},
   "outputs": [],
   "source": [
    "pop = initializer(pop_size=100, \n",
    "            depth_condition=4, \n",
    "            max_depth=4, \n",
    "            FUNCTIONS=FUNCTIONS, \n",
    "            TERMINALS=TERMINALS, \n",
    "            CONSTANTS=CONSTANTS,\n",
    "            SPECIALISTS=SPECIALISTS,\n",
    "            p_c=0.3, \n",
    "            p_t=0.7, \n",
    "            p_specialist=0.5,\n",
    "            )\n",
    "\n",
    "pop = Population([Tree(struc) for struc in pop])\n",
    "pop.calculate_semantics(X_train)\n",
    "pop.evaluate(y_train, testing=False)"
   ]
  },
  {
   "cell_type": "code",
   "execution_count": 12,
   "metadata": {},
   "outputs": [],
   "source": [
    "op = mutator(FUNCTIONS, TERMINALS, CONSTANTS, SPECIALISTS, depth_condition=4, max_depth=4, p_c=0.3, p_t=0.5, decay_rate=0.2)"
   ]
  },
  {
   "cell_type": "code",
   "execution_count": 21,
   "metadata": {},
   "outputs": [],
   "source": [
    "mdepth, mfit, mtotalnodes = [], [], []\n",
    "\n",
    "population = pop\n",
    "\n",
    "for it in range(50): \n",
    "    mean_depth = np.mean([i.depth for i in population.population])\n",
    "    mean_total_nodes = np.mean([i.total_nodes for i in population.population])\n",
    "    mean_fit = np.mean(population.fit)\n",
    "    mdepth.append(mean_depth)\n",
    "    mfit.append(mean_fit)\n",
    "    mtotalnodes.append(mean_total_nodes)\n",
    "    \n",
    "    offs_pop = []\n",
    "    for _ in range(100):\n",
    "        p = tournament_selection_min(2)(population)\n",
    "        o = op(p)\n",
    "        offs_pop.append(o)\n",
    "    \n",
    "    population = Population(offs_pop)\n",
    "    population.calculate_semantics(X_train)\n",
    "    population.evaluate(y_train)"
   ]
  },
  {
   "cell_type": "code",
   "execution_count": 24,
   "metadata": {},
   "outputs": [
    {
     "data": {
      "text/plain": [
       "[np.float64(0.4816693425343406),\n",
       " np.float64(0.4708416734007354),\n",
       " np.float64(0.4583401215098046),\n",
       " np.float64(0.44275245886390197),\n",
       " np.float64(0.4429686835458817),\n",
       " np.float64(0.42596696390556427),\n",
       " np.float64(0.4295568652507828),\n",
       " np.float64(0.4367799430469715),\n",
       " np.float64(0.4465438183053853),\n",
       " np.float64(0.4462045754576743),\n",
       " np.float64(0.4428622062214434),\n",
       " np.float64(0.44239502752222504),\n",
       " np.float64(0.43668707723087336),\n",
       " np.float64(0.4283399216818847),\n",
       " np.float64(0.42340718613740663),\n",
       " np.float64(0.4338504878808482),\n",
       " np.float64(0.42999373128749613),\n",
       " np.float64(0.44091650007047956),\n",
       " np.float64(0.41336086402731254),\n",
       " np.float64(0.4181654876926605),\n",
       " np.float64(0.44155223183187375),\n",
       " np.float64(0.43951956253840363),\n",
       " np.float64(0.43742755294481533),\n",
       " np.float64(0.4391762159280573),\n",
       " np.float64(0.44128076168074953),\n",
       " np.float64(0.4543919520859761),\n",
       " np.float64(0.4518468816988967),\n",
       " np.float64(0.46559145394452045),\n",
       " np.float64(0.45545400824145427),\n",
       " np.float64(0.44649303348590935),\n",
       " np.float64(0.4385608420498883),\n",
       " np.float64(0.43716915267437384),\n",
       " np.float64(0.4388291754161379),\n",
       " np.float64(0.43598802990624164),\n",
       " np.float64(0.4573903619221473),\n",
       " np.float64(0.4557078054744245),\n",
       " np.float64(0.45339817655716536),\n",
       " np.float64(0.4501701717878966),\n",
       " np.float64(0.4309727298976212),\n",
       " np.float64(0.42652468095596235),\n",
       " np.float64(0.449952290937013),\n",
       " np.float64(0.44579982254563133),\n",
       " np.float64(0.44995736535300423),\n",
       " np.float64(0.4543129811369711),\n",
       " np.float64(0.4526227191063197),\n",
       " np.float64(0.4555835173412789),\n",
       " np.float64(0.44857294932043246),\n",
       " np.float64(0.44991922586988353),\n",
       " np.float64(0.44329624900920267),\n",
       " np.float64(0.44425383650871425)]"
      ]
     },
     "execution_count": 24,
     "metadata": {},
     "output_type": "execute_result"
    }
   ],
   "source": [
    "mfit"
   ]
  },
  {
   "cell_type": "code",
   "execution_count": 5,
   "metadata": {},
   "outputs": [
    {
     "name": "stdout",
     "output_type": "stream",
     "text": [
      "4 3\n",
      "4 4\n"
     ]
    }
   ],
   "source": [
    "id1, id2 = pop[85], pop[60]\n",
    "print(id1.depth, id2.depth)\n",
    "o1, o2 = homologus_xo(id1, id2, 4)\n",
    "print(o1.depth, o2.depth)"
   ]
  },
  {
   "cell_type": "code",
   "execution_count": 7,
   "metadata": {},
   "outputs": [],
   "source": [
    "depths = {}\n",
    "id1 = pop[60]\n",
    "for _ in range(10000):\n",
    "    o1 = op(id1)\n",
    "    depth = o1.depth \n",
    "    if depth not in depths: \n",
    "        depths[depth] = 1\n",
    "    else: \n",
    "        depths[depth] += 1"
   ]
  },
  {
   "cell_type": "code",
   "execution_count": null,
   "metadata": {},
   "outputs": [],
   "source": [
    "id1 = pop[60]\n",
    "print(id1.depth)\n",
    "o1 = op(id1)\n",
    "print(o1.depth, id1 == o1)"
   ]
  },
  {
   "cell_type": "code",
   "execution_count": 94,
   "metadata": {},
   "outputs": [
    {
     "data": {
      "text/plain": [
       "(<slim_gsgp_lib_np.algorithms.MULTI_SLIM.representations.condition.Condition at 0x2a36dbb5890>,\n",
       " (<slim_gsgp_lib_np.algorithms.MULTI_SLIM.representations.condition.Condition at 0x2a36dbb5790>,\n",
       "  'S_2',\n",
       "  'S_1'),\n",
       " (<slim_gsgp_lib_np.algorithms.MULTI_SLIM.representations.condition.Condition at 0x2a36dbb58d0>,\n",
       "  'S_3',\n",
       "  'S_2'))"
      ]
     },
     "execution_count": 94,
     "metadata": {},
     "output_type": "execute_result"
    }
   ],
   "source": [
    "o1.collection"
   ]
  },
  {
   "cell_type": "code",
   "execution_count": 95,
   "metadata": {},
   "outputs": [
    {
     "data": {
      "text/plain": [
       "(<slim_gsgp_lib_np.algorithms.MULTI_SLIM.representations.condition.Condition at 0x2a36dbb5890>,\n",
       " (<slim_gsgp_lib_np.algorithms.MULTI_SLIM.representations.condition.Condition at 0x2a36dbb5790>,\n",
       "  'S_2',\n",
       "  'S_1'),\n",
       " (<slim_gsgp_lib_np.algorithms.MULTI_SLIM.representations.condition.Condition at 0x2a36dbb58d0>,\n",
       "  'S_3',\n",
       "  'S_2'))"
      ]
     },
     "execution_count": 95,
     "metadata": {},
     "output_type": "execute_result"
    }
   ],
   "source": [
    "id1.collection"
   ]
  },
  {
   "cell_type": "code",
   "execution_count": null,
   "metadata": {},
   "outputs": [],
   "source": []
  },
  {
   "cell_type": "code",
   "execution_count": null,
   "metadata": {},
   "outputs": [
    {
     "name": "stdout",
     "output_type": "stream",
     "text": [
      "[((), 0)]\n",
      "[((1,), 1), ((1, 1), 2), ((1, 2), 2), ((2,), 1), ((2, 1), 2), ((2, 2), 2)]\n",
      "[((1,), 1), ((1, 1), 2), ((1, 1, 1), 3), ((1, 1, 2), 3), ((1, 2), 2), ((1, 2, 1), 3), ((1, 2, 2), 3), ((2,), 1), ((2, 1), 2), ((2, 1, 1), 3), ((2, 1, 2), 3), ((2, 2), 2), ((2, 2, 1), 3), ((2, 2, 2), 3)]\n"
     ]
    }
   ],
   "source": [
    "idx_lev1 = get_indices_with_levels(i1)[1:]\n",
    "idx_lev2 = get_indices_with_levels(i2)[1:]\n",
    "idx_lev3 = get_indices_with_levels(i3)[1:]\n",
    "\n",
    "print(idx_lev1)\n",
    "print(idx_lev2)\n",
    "print(idx_lev3)"
   ]
  },
  {
   "cell_type": "code",
   "execution_count": 301,
   "metadata": {},
   "outputs": [],
   "source": [
    "max_depth1 = max([i for _,i in idx_lev1])\n",
    "max_depth2 = max([i for _,i in idx_lev2])\n",
    "max_depth3 = max([i for _,i in idx_lev3])"
   ]
  },
  {
   "cell_type": "code",
   "execution_count": 307,
   "metadata": {},
   "outputs": [
    {
     "ename": "ValueError",
     "evalue": "low >= high",
     "output_type": "error",
     "traceback": [
      "\u001b[1;31m---------------------------------------------------------------------------\u001b[0m",
      "\u001b[1;31mValueError\u001b[0m                                Traceback (most recent call last)",
      "Cell \u001b[1;32mIn[307], line 1\u001b[0m\n\u001b[1;32m----> 1\u001b[0m chosen_level1 \u001b[38;5;241m=\u001b[39m \u001b[43mnp\u001b[49m\u001b[38;5;241;43m.\u001b[39;49m\u001b[43mrandom\u001b[49m\u001b[38;5;241;43m.\u001b[39;49m\u001b[43mrandint\u001b[49m\u001b[43m(\u001b[49m\u001b[38;5;241;43m1\u001b[39;49m\u001b[43m,\u001b[49m\u001b[43m \u001b[49m\u001b[43mmax_depth1\u001b[49m\u001b[38;5;241;43m+\u001b[39;49m\u001b[38;5;241;43m1\u001b[39;49m\u001b[43m)\u001b[49m\n\u001b[0;32m      2\u001b[0m chosen_level2 \u001b[38;5;241m=\u001b[39m np\u001b[38;5;241m.\u001b[39mrandom\u001b[38;5;241m.\u001b[39mrandint(\u001b[38;5;241m1\u001b[39m, max_depth2\u001b[38;5;241m+\u001b[39m\u001b[38;5;241m1\u001b[39m)\n\u001b[0;32m      3\u001b[0m chosen_level3 \u001b[38;5;241m=\u001b[39m np\u001b[38;5;241m.\u001b[39mrandom\u001b[38;5;241m.\u001b[39mrandint(\u001b[38;5;241m1\u001b[39m, max_depth3\u001b[38;5;241m+\u001b[39m\u001b[38;5;241m1\u001b[39m)\n",
      "File \u001b[1;32mnumpy\\\\random\\\\mtrand.pyx:796\u001b[0m, in \u001b[0;36mnumpy.random.mtrand.RandomState.randint\u001b[1;34m()\u001b[0m\n",
      "File \u001b[1;32mnumpy\\\\random\\\\_bounded_integers.pyx:2885\u001b[0m, in \u001b[0;36mnumpy.random._bounded_integers._rand_int32\u001b[1;34m()\u001b[0m\n",
      "\u001b[1;31mValueError\u001b[0m: low >= high"
     ]
    }
   ],
   "source": [
    "chosen_level1 = np.random.randint(1, max_depth1+1)\n",
    "chosen_level2 = np.random.randint(1, max_depth2+1)\n",
    "chosen_level3 = np.random.randint(1, max_depth3+1)"
   ]
  },
  {
   "cell_type": "code",
   "execution_count": null,
   "metadata": {},
   "outputs": [
    {
     "name": "stdout",
     "output_type": "stream",
     "text": [
      "S_2\n",
      "S_1\n",
      "(<slim_gsgp_lib_np.algorithms.MULTI_SLIM.representations.condition.Condition object at 0x0000015FE9249DD0>, (<slim_gsgp_lib_np.algorithms.MULTI_SLIM.representations.condition.Condition object at 0x0000015FE9248850>, 'S_3', 'S_3'), (<slim_gsgp_lib_np.algorithms.MULTI_SLIM.representations.condition.Condition object at 0x0000015FE92498D0>, 'S_2', 'S_3'))\n"
     ]
    }
   ],
   "source": [
    "chosen_level1 = np.random.randint(1, max_depth1+1)\n",
    "chosen_level2 = np.random.randint(1, max_depth2+1)\n",
    "chosen_level3 = np.random.randint(1, max_depth3+1)\n",
    "\n",
    "path1 = random.choice(get_indices_with_levels(i1)[1:])[0]\n",
    "path2 = random.choice(get_indices_with_levels(i2)[1:])[0]\n",
    "path3 = random.choice(get_indices_with_levels(i3)[1:])[0]\n",
    "\n",
    "sub1 = get_subtree(i1, path1)\n",
    "sub2 = get_subtree(i2, path2)\n",
    "sub3 = get_subtree(i3, path3)\n",
    "\n",
    "print(sub1) \n",
    "print(sub2)\n",
    "print(sub3)"
   ]
  },
  {
   "cell_type": "code",
   "execution_count": null,
   "metadata": {},
   "outputs": [],
   "source": [
    "replace_subtree(i1, )"
   ]
  },
  {
   "cell_type": "code",
   "execution_count": 324,
   "metadata": {},
   "outputs": [
    {
     "data": {
      "text/plain": [
       "{1, 2}"
      ]
     },
     "execution_count": 324,
     "metadata": {},
     "output_type": "execute_result"
    }
   ],
   "source": [
    "set([depth for _, depth in idx_lev2])"
   ]
  },
  {
   "cell_type": "code",
   "execution_count": 339,
   "metadata": {},
   "outputs": [
    {
     "name": "stdout",
     "output_type": "stream",
     "text": [
      "(1,)\n"
     ]
    }
   ],
   "source": [
    "level = random.choices(list(set([depth for _, depth in idx_lev2])))[0]\n",
    "idx = random.choice([i for i, depth in idx_lev2 if depth == level])\n",
    "print(idx)"
   ]
  },
  {
   "cell_type": "code",
   "execution_count": 363,
   "metadata": {},
   "outputs": [
    {
     "name": "stdout",
     "output_type": "stream",
     "text": [
      "(<slim_gsgp_lib_np.algorithms.MULTI_SLIM.representations.condition.Condition object at 0x0000015FE928BD10>, 'S_1', 'S_4')\n"
     ]
    }
   ],
   "source": [
    "level = random.choices(list(set([depth for _, depth in idx_lev2])))[0]\n",
    "idx = random.choice([i for i, depth in idx_lev2 if depth == level])\n",
    "\n",
    "# Get the subtree of the tree.\n",
    "subtree = get_subtree(i2, idx)\n",
    "print(subtree)"
   ]
  },
  {
   "cell_type": "code",
   "execution_count": 390,
   "metadata": {},
   "outputs": [
    {
     "name": "stdout",
     "output_type": "stream",
     "text": [
      "(2,) 1\n",
      "(<slim_gsgp_lib_np.algorithms.MULTI_SLIM.representations.condition.Condition object at 0x0000015FE928BD10>, 'S_1', 'S_4')\n"
     ]
    }
   ],
   "source": [
    "idx_lev1 = get_indices_with_levels(i2)[1:]\n",
    "idx, level = uniform_level_choice(idx_lev1)\n",
    "print(idx, level)\n",
    "print(get_subtree(i2, idx))"
   ]
  },
  {
   "cell_type": "code",
   "execution_count": 392,
   "metadata": {},
   "outputs": [],
   "source": [
    "idx_lev1, idx_lev2 = get_indices_with_levels(i2)[1:], get_indices_with_levels(i3)[1:]\n",
    "idx, depth = uniform_level_choice(idx_lev1)"
   ]
  },
  {
   "cell_type": "code",
   "execution_count": 395,
   "metadata": {},
   "outputs": [
    {
     "data": {
      "text/plain": [
       "[(1, 1), (1, 2), (2, 1), (2, 2)]"
      ]
     },
     "execution_count": 395,
     "metadata": {},
     "output_type": "execute_result"
    }
   ],
   "source": [
    "[indices for indices, depth in idx_lev1 if depth == 2]"
   ]
  },
  {
   "cell_type": "code",
   "execution_count": null,
   "metadata": {},
   "outputs": [],
   "source": [
    "def uniform_level_choice(idx_lev):\n",
    "    level = random.choices(list(set([depth for _, depth in idx_lev])))[0]\n",
    "    idx = random.choice([i for i, depth in idx_lev if depth == level])\n",
    "    return idx, level\n",
    "\n",
    "def homologus_xo(ind1, ind2):    \n",
    "    ind1, ind2 = ind1.collection, ind2.collection\n",
    "\n",
    "    # Both are terminals; no crossover is possible.\n",
    "    if isinstance(ind1, str) and isinstance(ind2, str):\n",
    "        return ind1, ind2\n",
    "    \n",
    "    # One of them is a terminal; the terminal of one is replaced by the tree of the other. No depth restriction.\n",
    "    elif isinstance(ind1, tuple) and isinstance(ind2, str):\n",
    "        idx_lev1 = get_indices_with_levels(ind1)[1:]\n",
    "        idx, _ = uniform_level_choice(idx_lev1)\n",
    "        offs1 = get_subtree(ind1, idx)\n",
    "        offs2 = replace_subtree(ind1, idx, ind2)\n",
    "        \n",
    "    elif isinstance(ind1, str) and isinstance(ind2, tuple):\n",
    "        idx_lev2 = get_indices_with_levels(ind2)[1:]\n",
    "        idx, _ = uniform_level_choice(idx_lev2)\n",
    "        offs1 = get_subtree(ind2, idx)\n",
    "        offs2 = replace_subtree(ind2, idx, ind1)\n",
    "\n",
    "    # Both are tuples \n",
    "    else: \n",
    "        idx_lev1, idx_lev2 = get_indices_with_levels(ind1)[1:], get_indices_with_levels(ind2)[1:]\n",
    "        idx_1, depth = uniform_level_choice(idx_lev1)\n",
    "        same_depth = [indices for indices, d in idx_lev2 if d == depth]\n",
    "        if same_depth: \n",
    "            idx_2 = random.choice(same_depth)\n",
    "        else: \n",
    "            # The second parent has depth smaller than the first parent.\n",
    "            # Uniform_level_choice isnt used to favor indices closer to depth (same functionality)\n",
    "            idx_2 = random.choice([indices for indices, d in idx_lev2 if d < depth]) \n",
    "        \n",
    "        tree_1 = get_subtree(ind1, idx_1)\n",
    "        tree_2 = get_subtree(ind2, idx_2)\n",
    "        offs1 = replace_subtree(ind1, idx_1, tree_2)\n",
    "        offs2 = replace_subtree(ind2, idx_2, tree_1)\n",
    "\n",
    "    return Tree(offs1), Tree(offs2)"
   ]
  },
  {
   "cell_type": "code",
   "execution_count": 523,
   "metadata": {},
   "outputs": [],
   "source": [
    "a,b = crossover(pop[60],pop[33])"
   ]
  },
  {
   "cell_type": "code",
   "execution_count": 524,
   "metadata": {},
   "outputs": [
    {
     "data": {
      "text/plain": [
       "(<slim_gsgp_lib_np.algorithms.MULTI_SLIM.representations.condition.Condition at 0x15fe9289850>,\n",
       " 'S_3',\n",
       " (<slim_gsgp_lib_np.algorithms.MULTI_SLIM.representations.condition.Condition at 0x15fe928bd10>,\n",
       "  'S_1',\n",
       "  'S_4'))"
      ]
     },
     "execution_count": 524,
     "metadata": {},
     "output_type": "execute_result"
    }
   ],
   "source": [
    "a.collection"
   ]
  },
  {
   "cell_type": "code",
   "execution_count": 525,
   "metadata": {},
   "outputs": [
    {
     "data": {
      "text/plain": [
       "(<slim_gsgp_lib_np.algorithms.MULTI_SLIM.representations.condition.Condition at 0x15fe929b710>,\n",
       " (<slim_gsgp_lib_np.algorithms.MULTI_SLIM.representations.condition.Condition at 0x15fe928ae10>,\n",
       "  'S_1',\n",
       "  'S_2'),\n",
       " 'S_2')"
      ]
     },
     "execution_count": 525,
     "metadata": {},
     "output_type": "execute_result"
    }
   ],
   "source": [
    "b.collection"
   ]
  },
  {
   "cell_type": "code",
   "execution_count": 520,
   "metadata": {},
   "outputs": [
    {
     "data": {
      "text/plain": [
       "(<slim_gsgp_lib_np.algorithms.MULTI_SLIM.representations.condition.Condition at 0x15fe9289850>,\n",
       " (<slim_gsgp_lib_np.algorithms.MULTI_SLIM.representations.condition.Condition at 0x15fe928ae10>,\n",
       "  'S_1',\n",
       "  'S_2'),\n",
       " (<slim_gsgp_lib_np.algorithms.MULTI_SLIM.representations.condition.Condition at 0x15fe928bd10>,\n",
       "  'S_1',\n",
       "  'S_4'))"
      ]
     },
     "execution_count": 520,
     "metadata": {},
     "output_type": "execute_result"
    }
   ],
   "source": [
    "pop[60].collection"
   ]
  },
  {
   "cell_type": "code",
   "execution_count": 518,
   "metadata": {},
   "outputs": [
    {
     "data": {
      "text/plain": [
       "(<slim_gsgp_lib_np.algorithms.MULTI_SLIM.representations.condition.Condition at 0x15fe929b710>,\n",
       " 'S_3',\n",
       " 'S_2')"
      ]
     },
     "execution_count": 518,
     "metadata": {},
     "output_type": "execute_result"
    }
   ],
   "source": [
    "pop[33].collection"
   ]
  },
  {
   "cell_type": "markdown",
   "metadata": {},
   "source": [
    "### ------------------------------------------------------------------------------------------------"
   ]
  },
  {
   "cell_type": "code",
   "execution_count": 364,
   "metadata": {},
   "outputs": [
    {
     "name": "stdout",
     "output_type": "stream",
     "text": [
      "(('divide', 'x0', ('subtract', 'x1', 'x0')), 'S_0', 'S_2')\n"
     ]
    }
   ],
   "source": [
    "struc = create_random_tree(3, 3, FUNCTIONS, TERMINALS, CONSTANTS, SPECIALISTS, p_specialist=0.7, p_t=0.7)\n",
    "print(struc)"
   ]
  },
  {
   "cell_type": "code",
   "execution_count": 9,
   "metadata": {},
   "outputs": [
    {
     "name": "stdout",
     "output_type": "stream",
     "text": [
      "if (\n",
      "  multiply(\n",
      "    constant_0.41\n",
      "    x0\n",
      "  )\n",
      ") > 0 then\n",
      "  S_3\n",
      "else\n",
      "  S_2\n",
      "endif\n",
      "\n",
      "------------------/-----------------\n",
      "Train RMSE (ensemble): 0.5768332842641796\n",
      "Test RMSE (ensemble): 0.6984042546297496\n",
      "Train RMSE (individual): 0.14272031425948212\n",
      "Test RMSE (individual): 0.27550132633252133\n",
      "------------------/-----------------\n",
      "Nodes: 5\n",
      "Total Nodes: 103\n"
     ]
    }
   ],
   "source": [
    "struc = create_random_tree(2, 1, FUNCTIONS, TERMINALS, CONSTANTS, SPECIALISTS)\n",
    "tree = Tree(struc)\n",
    "tree.evaluate(rmse, X_train, y_train, testing=False)\n",
    "tree.evaluate(rmse, X_test, y_test, testing=True)   \n",
    "tree.print_tree_representation()\n",
    "print('------------------/-----------------')\n",
    "print('Train RMSE (ensemble):', tree.fitness)\n",
    "print('Test RMSE (ensemble):', tree.test_fitness)\n",
    "print('Train RMSE (individual):', rmse(example_tree.predict(X_train), y_train))\n",
    "print('Test RMSE (individual):', rmse(example_tree.predict(X_test), y_test))\n",
    "print('------------------/-----------------')\n",
    "print('Nodes:', tree.nodes_count)   \n",
    "print('Total Nodes:', tree.total_nodes)\n"
   ]
  },
  {
   "cell_type": "code",
   "execution_count": 13,
   "metadata": {},
   "outputs": [],
   "source": [
    "from slim_gsgp_lib_np.config.multi_slim_config import * \n",
    "slim_params = SlimParameters()"
   ]
  }
 ],
 "metadata": {
  "kernelspec": {
   "display_name": ".venv",
   "language": "python",
   "name": "python3"
  },
  "language_info": {
   "codemirror_mode": {
    "name": "ipython",
    "version": 3
   },
   "file_extension": ".py",
   "mimetype": "text/x-python",
   "name": "python",
   "nbconvert_exporter": "python",
   "pygments_lexer": "ipython3",
   "version": "3.11.3"
  }
 },
 "nbformat": 4,
 "nbformat_minor": 2
}
