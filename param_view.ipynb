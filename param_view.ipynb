{
 "cells": [
  {
   "cell_type": "code",
   "execution_count": 16,
   "metadata": {},
   "outputs": [],
   "source": [
    "import numpy as np\n",
    "import os \n",
    "import pickle"
   ]
  },
  {
   "cell_type": "code",
   "execution_count": 20,
   "metadata": {},
   "outputs": [],
   "source": [
    "datasets = []\n",
    "for file in os.listdir('params'):\n",
    "    if 'unscaled' in file:\n",
    "        datasets.append(file.split('_unscaled')[0])"
   ]
  },
  {
   "cell_type": "code",
   "execution_count": 36,
   "metadata": {},
   "outputs": [
    {
     "name": "stdout",
     "output_type": "stream",
     "text": [
      "_xo_no_mut_xo_struct_mutation.pkl\n",
      "_xo_no_mut_xo_struct_mutation.pkl\n",
      "_xo_no_mut_xo_struct_mutation.pkl\n",
      "_xo_no_mut_xo_struct_mutation.pkl\n",
      "_xo_no_mut_xo_struct_mutation.pkl\n",
      "_xo_no_mut_xo_struct_mutation.pkl\n",
      "_xo_no_mut_xo_struct_mutation.pkl\n",
      "_xo_no_mut_xo_struct_mutation.pkl\n"
     ]
    }
   ],
   "source": [
    "# Count how many entries of each dataset\n",
    "param_combinations = {'unscaled': 0, 'scaled': 0, 'just_struct': 0, 'just_struct_xo': 0, 'no_mut_xo':0, 'all':0}\n",
    "for file in os.listdir('params'):\n",
    "    if 'unscaled' in file:\n",
    "        param_combinations['unscaled'] += 1\n",
    "        \n",
    "    elif 'no_struct_mutation' in file and 'no_xo' in file and 'no_mut_xo' in file:\n",
    "        param_combinations['scaled'] += 1\n",
    "        \n",
    "    elif 'no_struct_mutation' in file and 'xo' in file and 'no_mut_xo' in file:\n",
    "        param_combinations['just_struct_xo'] += 1\n",
    "        \n",
    "    elif 'struct_mutation' in file and 'no_xo' not in file and 'no_mut_xo' in file:\n",
    "        param_combinations['no_mut_xo'] += 1\n",
    "        print(file.split('scaled')[1])\n",
    "        \n",
    "    elif 'struct_mutation' in file and 'no_xo' in file and 'no_mut_xo' in file:\n",
    "        param_combinations['just_struct'] += 1\n",
    "    else:\n",
    "        param_combinations['all'] += 1"
   ]
  },
  {
   "cell_type": "code",
   "execution_count": 37,
   "metadata": {},
   "outputs": [
    {
     "data": {
      "text/plain": [
       "{'unscaled': 16,\n",
       " 'scaled': 16,\n",
       " 'just_struct': 16,\n",
       " 'just_struct_xo': 16,\n",
       " 'no_mut_xo': 8,\n",
       " 'all': 14}"
      ]
     },
     "execution_count": 37,
     "metadata": {},
     "output_type": "execute_result"
    }
   ],
   "source": [
    "param_combinations"
   ]
  },
  {
   "cell_type": "code",
   "execution_count": 8,
   "metadata": {},
   "outputs": [],
   "source": [
    "with open('params/' + os.listdir('params')[0], 'rb') as f:\n",
    "    best_params = pickle.load(f)"
   ]
  },
  {
   "cell_type": "code",
   "execution_count": 15,
   "metadata": {},
   "outputs": [
    {
     "name": "stdout",
     "output_type": "stream",
     "text": [
      "resid_build_sale_price_scaled_xo_no_mut_xo_struct_mutation.pkl\n"
     ]
    }
   ],
   "source": [
    "for filename in os.listdir('params'):\n",
    "    # Organize by the dataset \n",
    "    if 'xo_no_mut_xo_struct_mutation' in filename and 'no_xo' not in filename:\n",
    "        print(filename)\n",
    "    "
   ]
  }
 ],
 "metadata": {
  "kernelspec": {
   "display_name": "myenv",
   "language": "python",
   "name": "python3"
  },
  "language_info": {
   "codemirror_mode": {
    "name": "ipython",
    "version": 3
   },
   "file_extension": ".py",
   "mimetype": "text/x-python",
   "name": "python",
   "nbconvert_exporter": "python",
   "pygments_lexer": "ipython3",
   "version": "3.12.3"
  }
 },
 "nbformat": 4,
 "nbformat_minor": 2
}
