{
 "cells": [
  {
   "cell_type": "code",
   "execution_count": 2,
   "id": "08eff562",
   "metadata": {},
   "outputs": [
    {
     "name": "stdout",
     "output_type": "stream",
     "text": [
      "Collecting pstree\n",
      "  Using cached pstree-0.1.2-py2.py3-none-any.whl.metadata (4.2 kB)\n",
      "Requirement already satisfied: numpy in c:\\users\\mateus\\documents\\tese\\codigo\\slim-test-lite\\psenv\\lib\\site-packages (from pstree) (1.23.5)\n",
      "Collecting pandas (from pstree)\n",
      "  Using cached pandas-2.2.3-cp311-cp311-win_amd64.whl.metadata (19 kB)\n",
      "Collecting gplearn (from pstree)\n",
      "  Using cached gplearn-0.4.2-py3-none-any.whl.metadata (4.3 kB)\n",
      "Collecting scipy (from pstree)\n",
      "  Using cached scipy-1.15.3-cp311-cp311-win_amd64.whl.metadata (60 kB)\n",
      "Collecting deap (from pstree)\n",
      "  Using cached deap-1.4.3-cp311-cp311-win_amd64.whl.metadata (13 kB)\n",
      "Collecting bluepyopt (from pstree)\n",
      "  Using cached bluepyopt-1.14.18-py3-none-any.whl.metadata (14 kB)\n",
      "Collecting glmnet (from pstree)\n",
      "  Using cached glmnet-2.2.1.tar.gz (90 kB)\n",
      "  Installing build dependencies: started\n",
      "  Installing build dependencies: finished with status 'done'\n",
      "  Getting requirements to build wheel: started\n",
      "  Getting requirements to build wheel: finished with status 'error'\n",
      "Note: you may need to restart the kernel to use updated packages.\n"
     ]
    },
    {
     "name": "stderr",
     "output_type": "stream",
     "text": [
      "  error: subprocess-exited-with-error\n",
      "  \n",
      "  × Getting requirements to build wheel did not run successfully.\n",
      "  │ exit code: 1\n",
      "  ╰─> [2 lines of output]\n",
      "      install requires: 'numpy'. use pip or easy_install.\n",
      "        $ pip install numpy\n",
      "      [end of output]\n",
      "  \n",
      "  note: This error originates from a subprocess, and is likely not a problem with pip.\n",
      "error: subprocess-exited-with-error\n",
      "\n",
      "× Getting requirements to build wheel did not run successfully.\n",
      "│ exit code: 1\n",
      "╰─> See above for output.\n",
      "\n",
      "note: This error originates from a subprocess, and is likely not a problem with pip.\n"
     ]
    }
   ],
   "source": [
    "pip install -U pstree"
   ]
  }
 ],
 "metadata": {
  "kernelspec": {
   "display_name": "psenv",
   "language": "python",
   "name": "python3"
  },
  "language_info": {
   "codemirror_mode": {
    "name": "ipython",
    "version": 3
   },
   "file_extension": ".py",
   "mimetype": "text/x-python",
   "name": "python",
   "nbconvert_exporter": "python",
   "pygments_lexer": "ipython3",
   "version": "3.11.3"
  }
 },
 "nbformat": 4,
 "nbformat_minor": 5
}
