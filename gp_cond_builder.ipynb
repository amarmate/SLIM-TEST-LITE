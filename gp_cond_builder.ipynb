{
 "cells": [
  {
   "cell_type": "code",
   "execution_count": 184,
   "id": "0a8217fc",
   "metadata": {},
   "outputs": [],
   "source": [
    "from slim_gsgp_lib_np.config.gp_config import *\n",
    "from slim_gsgp_lib_np.algorithms.GP.operators.crossover_operators import *\n",
    "from slim_gsgp_lib_np.algorithms.GP.operators.mutators import * \n",
    "\n",
    "# from slim_gsgp_lib_np.algorithms.GP.representations.tree_utils import create_full_random_tree, create_grow_random_tree, create_neutral_tree\n",
    "\n",
    "from slim_gsgp_lib_np.datasets.synthetic_datasets import * \n",
    "from slim_gsgp_lib_np.main_gp import gp\n",
    "from slim_gsgp_lib_np.algorithms.GP.representations.tree_utils import flatten\n",
    "\n",
    "from functions.utils import simplify_tuple_expression \n",
    "\n",
    "from matplotlib import pyplot as plt\n"
   ]
  },
  {
   "cell_type": "code",
   "execution_count": 11,
   "id": "c5243a11",
   "metadata": {},
   "outputs": [],
   "source": [
    "X, y, _, _ = load_synthetic1()\n",
    "tree, pop = gp(X_train=X, y_train=y, test_elite=False, verbose=False, pop_size=10, n_iter=10, dataset_name='test', full_return=True)\n",
    "FUNCTIONS = tree.FUNCTIONS\n",
    "TERMINALS = tree.TERMINALS\n",
    "CONSTANTS = tree.CONSTANTS"
   ]
  },
  {
   "cell_type": "code",
   "execution_count": 166,
   "id": "4f655a9c",
   "metadata": {},
   "outputs": [
    {
     "data": {
      "text/latex": [
       "$\\displaystyle \\begin{cases} x_{0} & \\text{for}\\: x_{1} > -1.0 \\\\\\begin{cases} \\begin{cases} 2 x_{2} & \\text{for}\\: x_{2} > 0 \\\\1 & \\text{otherwise} \\end{cases} & \\text{for}\\: x_{2} + \\left|{x_{2}}\\right|^{0.5} > 0 \\\\x_{0} & \\text{otherwise} \\end{cases} & \\text{otherwise} \\end{cases}$"
      ],
      "text/plain": [
       "Piecewise((x0, x1 > -1.0), (Piecewise((Piecewise((2*x2, x2 > 0), (1, True)), x2 + Abs(x2)**0.5 > 0), (x0, True)), True))"
      ]
     },
     "execution_count": 166,
     "metadata": {},
     "output_type": "execute_result"
    }
   ],
   "source": [
    "sample = create_grow_random_tree(6, FUNCTIONS, TERMINALS, CONSTANTS, p_c=0.2, p_t=0.5, p_cond=0.5)\n",
    "simplify_tuple_expression(sample, False)"
   ]
  }
 ],
 "metadata": {
  "kernelspec": {
   "display_name": ".venv",
   "language": "python",
   "name": "python3"
  },
  "language_info": {
   "codemirror_mode": {
    "name": "ipython",
    "version": 3
   },
   "file_extension": ".py",
   "mimetype": "text/x-python",
   "name": "python",
   "nbconvert_exporter": "python",
   "pygments_lexer": "ipython3",
   "version": "3.11.3"
  }
 },
 "nbformat": 4,
 "nbformat_minor": 5
}
