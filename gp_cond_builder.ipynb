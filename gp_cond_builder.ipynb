{
 "cells": [
  {
   "cell_type": "code",
   "execution_count": null,
   "id": "0a8217fc",
   "metadata": {},
   "outputs": [],
   "source": [
    "from slim_gsgp_lib_np.config.gp_config import *\n",
    "# from slim_gsgp_lib_np.algorithms.GP.operators.crossover_operators import *\n",
    "# from slim_gsgp_lib_np.algorithms.GP.operators.mutators import * \n",
    "\n",
    "from slim_gsgp_lib_np.algorithms.GP.representations.tree_utils import create_full_random_tree, create_grow_random_tree, create_neutral_tree\n",
    "\n",
    "from slim_gsgp_lib_np.datasets.synthetic_datasets import * \n",
    "from slim_gsgp_lib_np.main_gp import gp\n",
    "from slim_gsgp_lib_np.algorithms.GP.representations.tree_utils import flatten\n",
    "\n",
    "from functions.utils_test import simplify_tuple_expression \n",
    "\n",
    "from matplotlib import pyplot as plt\n",
    "import numpy as np\n",
    "import random\n",
    "from slim_gsgp_lib_np.algorithms.GP.representations.tree_utils import (random_subtree, substitute_subtree, \n",
    "                                                                       get_indices_with_levels, get_depth)\n",
    "from slim_gsgp_lib_np.utils.utils import swap_sub_tree, get_subtree    \n",
    "from collections import defaultdict"
   ]
  },
  {
   "cell_type": "code",
   "execution_count": 2,
   "id": "c5243a11",
   "metadata": {},
   "outputs": [],
   "source": [
    "X, y, _, _ = load_synthetic1()\n",
    "tree, pop = gp(X_train=X, y_train=y, test_elite=False, verbose=False, pop_size=10, n_iter=10, dataset_name='test', full_return=True)\n",
    "FUNCTIONS = tree.FUNCTIONS\n",
    "TERMINALS = tree.TERMINALS\n",
    "CONSTANTS = tree.CONSTANTS"
   ]
  },
  {
   "cell_type": "code",
   "execution_count": 30,
   "id": "4f655a9c",
   "metadata": {},
   "outputs": [
    {
     "data": {
      "text/latex": [
       "$\\displaystyle \\begin{cases} x_{0} & \\text{for}\\: x_{2} > 0 \\\\x_{2} & \\text{otherwise} \\end{cases}$"
      ],
      "text/plain": [
       "Piecewise((x0, x2 > 0), (x2, True))"
      ]
     },
     "execution_count": 30,
     "metadata": {},
     "output_type": "execute_result"
    }
   ],
   "source": [
    "sample1 = create_grow_random_tree(5, FUNCTIONS, TERMINALS, CONSTANTS, p_c=0.2, p_t=0.5, p_cond=0.5)\n",
    "simplify_tuple_expression(sample1, False)"
   ]
  },
  {
   "cell_type": "code",
   "execution_count": 31,
   "id": "13ea34e0",
   "metadata": {},
   "outputs": [
    {
     "data": {
      "text/plain": [
       "('cond', 'x2', 'x0', 'x2')"
      ]
     },
     "execution_count": 31,
     "metadata": {},
     "output_type": "execute_result"
    }
   ],
   "source": [
    "sample1"
   ]
  },
  {
   "cell_type": "code",
   "execution_count": 37,
   "id": "b02031e1",
   "metadata": {},
   "outputs": [
    {
     "data": {
      "text/latex": [
       "$\\displaystyle \\begin{cases} x_{2} & \\text{for}\\: x_{2} \\left(x_{0} + x_{1}\\right) > 0 \\\\x_{0} & \\text{otherwise} \\end{cases}$"
      ],
      "text/plain": [
       "Piecewise((x2, x2*(x0 + x1) > 0), (x0, True))"
      ]
     },
     "execution_count": 37,
     "metadata": {},
     "output_type": "execute_result"
    }
   ],
   "source": [
    "sample2 = create_grow_random_tree(5, FUNCTIONS, TERMINALS, CONSTANTS, p_c=0.2, p_t=0.5, p_cond=0.5)\n",
    "simplify_tuple_expression(sample2, False)"
   ]
  },
  {
   "cell_type": "code",
   "execution_count": 38,
   "id": "de5abe2c",
   "metadata": {},
   "outputs": [
    {
     "data": {
      "text/plain": [
       "('cond', ('multiply', ('add', 'x0', 'x1'), 'x2'), 'x2', 'x0')"
      ]
     },
     "execution_count": 38,
     "metadata": {},
     "output_type": "execute_result"
    }
   ],
   "source": [
    "sample2"
   ]
  },
  {
   "cell_type": "code",
   "execution_count": null,
   "id": "bf5c5bc1",
   "metadata": {},
   "outputs": [],
   "source": [
    "def crossover_trees(max_depth,\n",
    "                    **kwargs):\n",
    "    \n",
    "    def inner_xo(tree1, tree2):\n",
    "        \n",
    "        indices_with_levels_tree1 = get_indices_with_levels(tree1.repr_)\n",
    "        indices_with_levels_tree2 = get_indices_with_levels(tree2.repr_)\n",
    "\n",
    "        level1 = random.choice(list(indices_with_levels_tree1.keys()))\n",
    "        index1 = random.choice(indices_with_levels_tree1[level1])\n",
    "        subtree1 = get_subtree(tree1.repr_, list(index1))\n",
    "        depth1 = get_depth(subtree1)\n",
    "\n",
    "        max_level_2 = min(max_depth - depth1, tree2.depth - 1)\n",
    "\n",
    "        while True:\n",
    "            level2 = random.choice(range(0, max_level_2 + 1))\n",
    "            index2 = random.choice(indices_with_levels_tree2[level2])\n",
    "            subtree2 = get_subtree(tree2.repr_, list(index2))\n",
    "            depth2 = get_depth(subtree2)\n",
    "\n",
    "            if depth2 <= max_depth - level1 and (level2 > 0 or depth1 > 1) and (level1 > 0 or depth2 > 1):\n",
    "                break\n",
    "\n",
    "        # Swap the subtrees\n",
    "        new_tree1 = swap_sub_tree(tree1.repr_, subtree2, list(index1))\n",
    "        new_tree2 = swap_sub_tree(tree2.repr_, subtree1, list(index2))\n",
    "        return new_tree1, new_tree2\n",
    "\n",
    "    return inner_xo"
   ]
  },
  {
   "cell_type": "code",
   "execution_count": 286,
   "id": "ea05cfe4",
   "metadata": {},
   "outputs": [],
   "source": [
    "def get_blocks_with_levels(tree, root=False):\n",
    "    indices_by_level = defaultdict(list)\n",
    "\n",
    "    def traverse(sub_tree, path=(), level=0):\n",
    "        if not isinstance(sub_tree, tuple):\n",
    "            indices_by_level[level].append(path)\n",
    "        else:\n",
    "            if path != ():  # don't include the root twice\n",
    "                indices_by_level[level].append(path)\n",
    "            op, *args = sub_tree\n",
    "            if op == 'cond' : \n",
    "                for i, child in enumerate(args[1:], start=1):\n",
    "                    traverse(child, path + (i + 1,), level + 1) \n",
    "            \n",
    "            else: \n",
    "                for i, child in enumerate(args):\n",
    "                    traverse(child, path + (i + 1,), level + 1)\n",
    "\n",
    "    traverse(tree)\n",
    "    indices_by_level[0].append(()) if root else None \n",
    "\n",
    "    return dict(indices_by_level)"
   ]
  },
  {
   "cell_type": "markdown",
   "id": "304f5a17",
   "metadata": {},
   "source": [
    "RULES :\n",
    "(1) Can't swap predicates \n",
    "(2) Can't swap condition blocks with functions, except if the condition block is the last and the function is at the root "
   ]
  },
  {
   "cell_type": "code",
   "execution_count": 58,
   "id": "fa452665",
   "metadata": {},
   "outputs": [
    {
     "data": {
      "text/plain": [
       "('cond', ('multiply', ('add', 'x0', 'x1'), 'x2'), 'x2', 'x0')"
      ]
     },
     "execution_count": 58,
     "metadata": {},
     "output_type": "execute_result"
    }
   ],
   "source": [
    "sample2"
   ]
  },
  {
   "cell_type": "code",
   "execution_count": 110,
   "id": "fccbc634",
   "metadata": {},
   "outputs": [
    {
     "data": {
      "text/latex": [
       "$\\displaystyle \\begin{cases} \\begin{cases} - \\frac{1.25 x_{0}}{x_{1} \\left(x_{1} - 0.806225774829855\\right)} & \\text{for}\\: x_{2} > 0 \\\\x_{0} & \\text{otherwise} \\end{cases} & \\text{for}\\: x_{0} > 0 \\\\\\begin{cases} x_{2} & \\text{for}\\: x_{2} \\left(x_{0} + x_{1}\\right) > 0 \\\\x_{0} & \\text{otherwise} \\end{cases} & \\text{otherwise} \\end{cases}$"
      ],
      "text/plain": [
       "Piecewise((Piecewise((-1.25*x0/(x1*(x1 - 0.806225774829855)), x2 > 0), (x0, True)), x0 > 0), (Piecewise((x2, x2*(x0 + x1) > 0), (x0, True)), True))"
      ]
     },
     "execution_count": 110,
     "metadata": {},
     "output_type": "execute_result"
    }
   ],
   "source": [
    "sample3 = create_grow_random_tree(6, FUNCTIONS, TERMINALS, CONSTANTS, p_c=0.2, p_t=0.5, p_cond=0.5)\n",
    "simplify_tuple_expression(sample3, False)\n",
    "idl3 = get_indices_with_levels(sample3)"
   ]
  },
  {
   "cell_type": "code",
   "execution_count": 211,
   "id": "9ec3db86",
   "metadata": {},
   "outputs": [
    {
     "name": "stdout",
     "output_type": "stream",
     "text": [
      "{1: [(1,), (2,), (3,)], 2: [(2, 1), (2, 2), (2, 3), (3, 1), (3, 2), (3, 3)], 3: [(2, 2, 1), (2, 2, 2), (3, 1, 1), (3, 1, 2)], 4: [(2, 2, 1, 1), (2, 2, 1, 2), (2, 2, 2, 1), (2, 2, 2, 2), (3, 1, 1, 1), (3, 1, 1, 2)], 5: [(2, 2, 1, 2, 1), (2, 2, 1, 2, 2), (2, 2, 2, 1, 1)], 0: [()]} \n",
      "\n",
      " {1: [(1,), (2,), (3,)], 2: [(1, 1), (1, 2)], 3: [(1, 1, 1), (1, 1, 2)], 0: [()]}\n"
     ]
    }
   ],
   "source": [
    "idl1 = get_indices_with_levels(sample1)\n",
    "idl2 = get_indices_with_levels(sample2)\n",
    "has_cond1 = len(idl1[1]) == 3\n",
    "has_cond2 = len(idl2[1]) == 3\n",
    "\n",
    "print(idl1, '\\n\\n', idl2)"
   ]
  },
  {
   "cell_type": "code",
   "execution_count": 112,
   "id": "bc3a7625",
   "metadata": {},
   "outputs": [
    {
     "data": {
      "text/plain": [
       "('cond',\n",
       " 'x0',\n",
       " ('cond',\n",
       "  'x2',\n",
       "  ('divide',\n",
       "   ('divide', 'x0', ('multiply', 'constant_0.8', 'x1')),\n",
       "   ('subtract', ('sqrt', 'constant_-0.65'), 'x1')),\n",
       "  'x0'),\n",
       " ('cond', ('multiply', ('add', 'x0', 'x1'), 'x2'), 'x2', 'x0'))"
      ]
     },
     "execution_count": 112,
     "metadata": {},
     "output_type": "execute_result"
    }
   ],
   "source": [
    "sample3"
   ]
  },
  {
   "cell_type": "code",
   "execution_count": 207,
   "id": "0722fe1c",
   "metadata": {},
   "outputs": [],
   "source": [
    "ilev = get_indices_with_levels(sample3)\n",
    "l1 = random.choice(list(ilev.keys()))\n",
    "i1 = list(random.choice(ilev[l1]))\n",
    "st1 = get_subtree(sample3, i1)"
   ]
  },
  {
   "cell_type": "code",
   "execution_count": 213,
   "id": "84b02723",
   "metadata": {},
   "outputs": [],
   "source": [
    "ilev1 = get_indices_with_levels(sample1)\n",
    "ilev2 = get_indices_with_levels(sample2)\n",
    "l1 = random.choice(list(ilev1.keys()))\n",
    "i1 = list(random.choice(ilev1[l1]))\n",
    "st1 = get_subtree(sample1, i1)"
   ]
  },
  {
   "cell_type": "code",
   "execution_count": 229,
   "id": "1edff014",
   "metadata": {},
   "outputs": [
    {
     "data": {
      "text/plain": [
       "('cond',\n",
       " 'x2',\n",
       " ('divide',\n",
       "  ('divide', 'x0', ('multiply', 'constant_0.8', 'x1')),\n",
       "  ('subtract', ('sqrt', 'constant_-0.65'), 'x1')),\n",
       " 'x0')"
      ]
     },
     "execution_count": 229,
     "metadata": {},
     "output_type": "execute_result"
    }
   ],
   "source": [
    "sample1[2]"
   ]
  },
  {
   "cell_type": "code",
   "execution_count": 218,
   "id": "40079954",
   "metadata": {},
   "outputs": [
    {
     "data": {
      "text/plain": [
       "{1: [(2,), (3,)],\n",
       " 2: [(2, 2), (2, 3), (3, 2), (3, 3)],\n",
       " 3: [(2, 2, 1), (2, 2, 2)],\n",
       " 4: [(2, 2, 1, 1), (2, 2, 1, 2), (2, 2, 2, 1), (2, 2, 2, 2)],\n",
       " 5: [(2, 2, 1, 2, 1), (2, 2, 1, 2, 2), (2, 2, 2, 1, 1)]}"
      ]
     },
     "execution_count": 218,
     "metadata": {},
     "output_type": "execute_result"
    }
   ],
   "source": [
    "get_blocks_with_levels(sample1)"
   ]
  },
  {
   "cell_type": "code",
   "execution_count": null,
   "id": "10c69b50",
   "metadata": {},
   "outputs": [],
   "source": [
    "md = 5\n",
    "xo = crossover_trees(max_depth=md)\n",
    "\n",
    "\n",
    "if has_cond1 and has_cond2:\n",
    "    pass\n",
    "\n",
    "elif not has_cond1 and not has_cond2:\n",
    "    trees = xo(sample1, sample2)\n",
    "\n",
    "elif not has_cond1: \n",
    "    bl = get_blocks_with_levels(sample2)\n",
    "    l2 = random.choice(list(bl.keys()))\n",
    "    i2 = list(random.choice(bl[l2]))\n",
    "    st2 = get_subtree(sample2, i2)\n",
    "\n",
    "    if st2[0] == 'cond': \n",
    "        st1 = sample1\n",
    "\n",
    "    else: \n",
    "        l1 = random.choice(list(idl1.keys()))\n",
    "        i1 = random.choice(idl1[l1])\n",
    "        st1 = get_subtree(sample1, i1)\n",
    "\n",
    "elif not has_cond2: \n",
    "    bl = get_blocks_with_levels(sample1)\n",
    "    l1 = random.choice(list(bl.keys()))\n",
    "    i1 = list(random.choice(bl[l1]))\n",
    "    st1 = get_subtree(sample1, i1)\n",
    "    \n",
    "    if st1[0] == 'cond': \n",
    "        st2 = sample2\n",
    "\n",
    "    else: \n",
    "        l2 = random.choice(list(idl2.keys()))\n",
    "        i2 = random.choice(idl2[l2])\n",
    "        st2 = get_subtree(sample2, i2) "
   ]
  },
  {
   "cell_type": "code",
   "execution_count": null,
   "id": "82d43f9e",
   "metadata": {},
   "outputs": [],
   "source": [
    "# IF NO CONDITIONS \n",
    "trees = xo(sample1, sample2)"
   ]
  },
  {
   "cell_type": "code",
   "execution_count": 289,
   "id": "21a221c8",
   "metadata": {},
   "outputs": [
    {
     "data": {
      "text/plain": [
       "{1: [(2,), (3,)],\n",
       " 2: [(2, 2), (2, 3), (3, 2), (3, 3)],\n",
       " 3: [(2, 2, 1), (2, 2, 2)],\n",
       " 4: [(2, 2, 1, 1), (2, 2, 1, 2), (2, 2, 2, 1), (2, 2, 2, 2)],\n",
       " 5: [(2, 2, 1, 2, 1), (2, 2, 1, 2, 2), (2, 2, 2, 1, 1)],\n",
       " 0: [()]}"
      ]
     },
     "execution_count": 289,
     "metadata": {},
     "output_type": "execute_result"
    }
   ],
   "source": [
    "get_blocks_with_levels(sample1, root=True)"
   ]
  },
  {
   "cell_type": "code",
   "execution_count": 297,
   "id": "c783749e",
   "metadata": {},
   "outputs": [
    {
     "data": {
      "text/plain": [
       "3"
      ]
     },
     "execution_count": 297,
     "metadata": {},
     "output_type": "execute_result"
    }
   ],
   "source": [
    "# IF BOTH HAVE CONDITIONS\n",
    "bl = get_blocks_with_levels(sample1, root=True)\n",
    "l1 = random.choice(list(bl.keys()))\n",
    "id1 = list(random.choice(bl[l1]))\n",
    "st1 = get_subtree(sample1, id1)\n",
    "\n",
    "# IF CONDITION : \n",
    "if st1[0] == 'cond': \n",
    "    if l1 == 0: \n",
    "        pass\n",
    "\n",
    "    else: \n",
    "        pass\n",
    "\n",
    "\n",
    "# IF NOT CONDITION : can never be swapped with a condition\n",
    "l1"
   ]
  },
  {
   "cell_type": "code",
   "execution_count": null,
   "id": "762b262c",
   "metadata": {},
   "outputs": [],
   "source": [
    "def tree_depth(tree):\n",
    "    \"\"\"Compute max depth of nested tree.\"\"\"\n",
    "    if not isinstance(tree, (tuple, list)):\n",
    "        return 0\n",
    "    return 1 + max((tree_depth(child) for child in tree[1:]), default=0)\n",
    "\n",
    "def is_condition(node):\n",
    "    return isinstance(node, (tuple, list)) and node and node[0] == 'cond'\n",
    "\n",
    "def contains_condition(node):\n",
    "    \"\"\"True if any descendant is a cond node.\"\"\"\n",
    "    if is_condition(node):\n",
    "        return True\n",
    "    if not isinstance(node, (tuple, list)):\n",
    "        return False\n",
    "    return any(contains_condition(child) for child in node)\n",
    "\n",
    "\n",
    "def crossover_trees(max_depth):\n",
    "    \"\"\"\n",
    "    Returns a function xo(ind1, ind2) performing one-point crossover\n",
    "    while respecting piecewise condition rules and max depth.\n",
    "    \"\"\"\n",
    "    def xo(ind1, ind2):\n",
    "        # identify presence of cond in each\n",
    "        def has_cond(tree):\n",
    "            return contains_condition(tree)\n",
    "        has1, has2 = has_cond(ind1), has_cond(ind2)\n",
    "\n",
    "        # simple symmetric case: both or neither have cond\n",
    "        if (has1 and has2) or (not has1 and not has2):\n",
    "            return _two_way_crossover(ind1, ind2)\n",
    "\n",
    "        # one has cond, the other doesn't\n",
    "        # sample1 lacks cond -> sample1 is ind1, sample2 is ind2\n",
    "        if not has1:\n",
    "            return _one_cond_cross(ind1, ind2)\n",
    "        else:\n",
    "            # swap roles\n",
    "            off2, off1 = _one_cond_cross(ind2, ind1)\n",
    "            return off1, off2\n",
    "\n",
    "    def _two_way_crossover(t1, t2):\n",
    "        # swap any matching-level blocks excluding predicate slots\n",
    "        b1 = get_blocks_with_levels(t1)\n",
    "        b2 = get_blocks_with_levels(t2)\n",
    "        candidates = []\n",
    "        for lvl in b1:\n",
    "            if lvl in b2:\n",
    "                for i1 in b1[lvl]:\n",
    "                    # skip predicate positions\n",
    "                    if i1[-1] == 1 and is_condition(get_subtree(t1, i1[:-1])):\n",
    "                        continue\n",
    "                    for i2 in b2[lvl]:\n",
    "                        if i2[-1] == 1 and is_condition(get_subtree(t2, i2[:-1])):\n",
    "                            continue\n",
    "                        candidates.append((i1, i2))\n",
    "        if not candidates:\n",
    "            return t1, t2\n",
    "        i1, i2 = random.choice(candidates)\n",
    "        s1, s2 = get_subtree(t1, i1), get_subtree(t2, i2)\n",
    "        o1 = swap_sub_tree(t1, s2, i1)\n",
    "        o2 = swap_sub_tree(t2, s1, i2)\n",
    "        if tree_depth(o1) <= max_depth and tree_depth(o2) <= max_depth:\n",
    "            return o1, o2\n",
    "        return t1, t2\n",
    "\n",
    "    def _one_cond_cross(no_cond, has_cond_tree):\n",
    "        # select a block from has_cond_tree\n",
    "        blocks = get_blocks_with_levels(has_cond_tree)\n",
    "        lvl = random.choice(list(blocks.keys()))\n",
    "        idx2 = random.choice(blocks[lvl])\n",
    "        sub2 = get_subtree(has_cond_tree, idx2)\n",
    "        # if the picked subtree is a condition, leave the no_cond parent intact\n",
    "        if is_condition(sub2):\n",
    "            return no_cond, has_cond_tree\n",
    "        # otherwise pick a non-predicate block from no_cond\n",
    "        blocks1 = get_blocks_with_levels(no_cond)\n",
    "        # filter out cond blocks in no_cond\n",
    "        flat = [(l,i) for l in blocks1 for i in blocks1[l]\n",
    "                if not is_condition(get_subtree(no_cond, i))]\n",
    "        if not flat:\n",
    "            return no_cond, has_cond_tree\n",
    "        l1, idx1 = random.choice(flat)\n",
    "        sub1 = get_subtree(no_cond, idx1)\n",
    "        off1 = swap_sub_tree(no_cond, sub2, idx1)\n",
    "        off2 = swap_sub_tree(has_cond_tree, sub1, idx2)\n",
    "        if tree_depth(off1) <= max_depth and tree_depth(off2) <= max_depth:\n",
    "            return off1, off2\n",
    "        return no_cond, has_cond_tree\n",
    "\n",
    "    return xo"
   ]
  },
  {
   "cell_type": "code",
   "execution_count": 299,
   "id": "852c8fd6",
   "metadata": {},
   "outputs": [
    {
     "ename": "IndexError",
     "evalue": "tuple index out of range",
     "output_type": "error",
     "traceback": [
      "\u001b[1;31m---------------------------------------------------------------------------\u001b[0m",
      "\u001b[1;31mIndexError\u001b[0m                                Traceback (most recent call last)",
      "Cell \u001b[1;32mIn[299], line 1\u001b[0m\n\u001b[1;32m----> 1\u001b[0m \u001b[43mcrossover_trees\u001b[49m\u001b[43m(\u001b[49m\u001b[43mmax_depth\u001b[49m\u001b[38;5;241;43m=\u001b[39;49m\u001b[38;5;241;43m5\u001b[39;49m\u001b[43m)\u001b[49m\u001b[43m(\u001b[49m\u001b[43msample1\u001b[49m\u001b[43m,\u001b[49m\u001b[43m \u001b[49m\u001b[43msample2\u001b[49m\u001b[43m)\u001b[49m\n",
      "Cell \u001b[1;32mIn[298], line 33\u001b[0m, in \u001b[0;36mcrossover_trees.<locals>.xo\u001b[1;34m(ind1, ind2)\u001b[0m\n\u001b[0;32m     31\u001b[0m \u001b[38;5;66;03m# simple symmetric case: both or neither have cond\u001b[39;00m\n\u001b[0;32m     32\u001b[0m \u001b[38;5;28;01mif\u001b[39;00m (has1 \u001b[38;5;129;01mand\u001b[39;00m has2) \u001b[38;5;129;01mor\u001b[39;00m (\u001b[38;5;129;01mnot\u001b[39;00m has1 \u001b[38;5;129;01mand\u001b[39;00m \u001b[38;5;129;01mnot\u001b[39;00m has2):\n\u001b[1;32m---> 33\u001b[0m     \u001b[38;5;28;01mreturn\u001b[39;00m \u001b[43m_two_way_crossover\u001b[49m\u001b[43m(\u001b[49m\u001b[43mind1\u001b[49m\u001b[43m,\u001b[49m\u001b[43m \u001b[49m\u001b[43mind2\u001b[49m\u001b[43m)\u001b[49m\n\u001b[0;32m     35\u001b[0m \u001b[38;5;66;03m# one has cond, the other doesn't\u001b[39;00m\n\u001b[0;32m     36\u001b[0m \u001b[38;5;66;03m# sample1 lacks cond -> sample1 is ind1, sample2 is ind2\u001b[39;00m\n\u001b[0;32m     37\u001b[0m \u001b[38;5;28;01mif\u001b[39;00m \u001b[38;5;129;01mnot\u001b[39;00m has1:\n",
      "Cell \u001b[1;32mIn[298], line 62\u001b[0m, in \u001b[0;36mcrossover_trees.<locals>._two_way_crossover\u001b[1;34m(t1, t2)\u001b[0m\n\u001b[0;32m     60\u001b[0m     \u001b[38;5;28;01mreturn\u001b[39;00m t1, t2\n\u001b[0;32m     61\u001b[0m i1, i2 \u001b[38;5;241m=\u001b[39m random\u001b[38;5;241m.\u001b[39mchoice(candidates)\n\u001b[1;32m---> 62\u001b[0m s1, s2 \u001b[38;5;241m=\u001b[39m \u001b[43mget_subtree\u001b[49m\u001b[43m(\u001b[49m\u001b[43mt1\u001b[49m\u001b[43m,\u001b[49m\u001b[43m \u001b[49m\u001b[43mi1\u001b[49m\u001b[43m)\u001b[49m, get_subtree(t2, i2)\n\u001b[0;32m     63\u001b[0m o1 \u001b[38;5;241m=\u001b[39m swap_sub_tree(t1, s2, i1)\n\u001b[0;32m     64\u001b[0m o2 \u001b[38;5;241m=\u001b[39m swap_sub_tree(t2, s1, i2)\n",
      "File \u001b[1;32mc:\\Users\\Mateus\\Documents\\Tese\\Codigo\\SLIM-TEST-LITE\\slim_gsgp_lib_np\\utils\\utils.py:733\u001b[0m, in \u001b[0;36mget_subtree\u001b[1;34m(tree, indices)\u001b[0m\n\u001b[0;32m    730\u001b[0m     \u001b[38;5;28;01mreturn\u001b[39;00m tree\n\u001b[0;32m    732\u001b[0m index \u001b[38;5;241m=\u001b[39m indices[\u001b[38;5;241m0\u001b[39m]\n\u001b[1;32m--> 733\u001b[0m \u001b[38;5;28;01mreturn\u001b[39;00m \u001b[43mget_subtree\u001b[49m\u001b[43m(\u001b[49m\u001b[43mtree\u001b[49m\u001b[43m[\u001b[49m\u001b[43mindex\u001b[49m\u001b[43m]\u001b[49m\u001b[43m,\u001b[49m\u001b[43m \u001b[49m\u001b[43mindices\u001b[49m\u001b[43m[\u001b[49m\u001b[38;5;241;43m1\u001b[39;49m\u001b[43m:\u001b[49m\u001b[43m]\u001b[49m\u001b[43m)\u001b[49m\n",
      "File \u001b[1;32mc:\\Users\\Mateus\\Documents\\Tese\\Codigo\\SLIM-TEST-LITE\\slim_gsgp_lib_np\\utils\\utils.py:732\u001b[0m, in \u001b[0;36mget_subtree\u001b[1;34m(tree, indices)\u001b[0m\n\u001b[0;32m    729\u001b[0m \u001b[38;5;28;01mif\u001b[39;00m indices \u001b[38;5;241m==\u001b[39m []:\n\u001b[0;32m    730\u001b[0m     \u001b[38;5;28;01mreturn\u001b[39;00m tree\n\u001b[1;32m--> 732\u001b[0m index \u001b[38;5;241m=\u001b[39m \u001b[43mindices\u001b[49m\u001b[43m[\u001b[49m\u001b[38;5;241;43m0\u001b[39;49m\u001b[43m]\u001b[49m\n\u001b[0;32m    733\u001b[0m \u001b[38;5;28;01mreturn\u001b[39;00m get_subtree(tree[index], indices[\u001b[38;5;241m1\u001b[39m:])\n",
      "\u001b[1;31mIndexError\u001b[0m: tuple index out of range"
     ]
    }
   ],
   "source": [
    "crossover_trees(max_depth=5)(sample1, sample2)"
   ]
  }
 ],
 "metadata": {
  "kernelspec": {
   "display_name": ".venv",
   "language": "python",
   "name": "python3"
  },
  "language_info": {
   "codemirror_mode": {
    "name": "ipython",
    "version": 3
   },
   "file_extension": ".py",
   "mimetype": "text/x-python",
   "name": "python",
   "nbconvert_exporter": "python",
   "pygments_lexer": "ipython3",
   "version": "3.11.3"
  }
 },
 "nbformat": 4,
 "nbformat_minor": 5
}
